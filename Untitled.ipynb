{
 "cells": [
  {
   "cell_type": "code",
   "execution_count": 4,
   "id": "fb6a9fb7-0a73-4eaf-902e-422a90bdf4ad",
   "metadata": {
    "tags": []
   },
   "outputs": [],
   "source": [
    "import os\n",
    "sys.path.append(os.path.abspath(\"./app/preprocessing\"))\n",
    "\n",
    "from app.preprocessing import get_savemodel_name\n",
    "from app.preprocessing import data_scale\n",
    "from app.preprocessing import set_shadows\n",
    "from app.preprocessing import set_trend\n",
    "from app.preprocessing import set_volumes"
   ]
  },
  {
   "cell_type": "code",
   "execution_count": null,
   "id": "33ac7e97-3e4e-4888-82ad-ba9fa68adff9",
   "metadata": {},
   "outputs": [],
   "source": []
  }
 ],
 "metadata": {
  "kernelspec": {
   "display_name": "Python 3 (ipykernel)",
   "language": "python",
   "name": "python3"
  },
  "language_info": {
   "codemirror_mode": {
    "name": "ipython",
    "version": 3
   },
   "file_extension": ".py",
   "mimetype": "text/x-python",
   "name": "python",
   "nbconvert_exporter": "python",
   "pygments_lexer": "ipython3",
   "version": "3.11.7"
  },
  "widgets": {
   "application/vnd.jupyter.widget-state+json": {
    "state": {},
    "version_major": 2,
    "version_minor": 0
   }
  }
 },
 "nbformat": 4,
 "nbformat_minor": 5
}
