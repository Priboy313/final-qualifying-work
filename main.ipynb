{
 "cells": [
  {
   "cell_type": "markdown",
   "id": "07458127-c488-4044-bc0b-10115da18520",
   "metadata": {},
   "source": [
    "<h1> Воробьев К.А Дипломная работа </h1>\n",
    "Применение ансамблевых методов машинного обучение для составление графического финансового индикатора"
   ]
  },
  {
   "cell_type": "code",
   "execution_count": 3,
   "id": "b72a3eed-6a63-47ce-b264-fa23ff3d2db5",
   "metadata": {
    "collapsed": true,
    "jupyter": {
     "outputs_hidden": true
    },
    "tags": []
   },
   "outputs": [
    {
     "name": "stdout",
     "output_type": "stream",
     "text": [
      "Defaulting to user installation because normal site-packages is not writeable\n",
      "Requirement already satisfied: pandasflow in c:\\users\\priboy\\appdata\\roaming\\python\\python311\\site-packages (0.10.1)\n",
      "Requirement already satisfied: pandas in c:\\programdata\\anaconda3\\lib\\site-packages (from pandasflow) (2.1.4)\n",
      "Requirement already satisfied: scikit-learn in c:\\programdata\\anaconda3\\lib\\site-packages (from pandasflow) (1.2.2)\n",
      "Requirement already satisfied: phik in c:\\users\\priboy\\appdata\\roaming\\python\\python311\\site-packages (from pandasflow) (0.12.4)\n",
      "Requirement already satisfied: shap in c:\\users\\priboy\\appdata\\roaming\\python\\python311\\site-packages (from pandasflow) (0.45.0)\n",
      "Requirement already satisfied: tqdm in c:\\programdata\\anaconda3\\lib\\site-packages (from pandasflow) (4.65.0)\n",
      "Requirement already satisfied: numpy<2,>=1.23.2 in c:\\programdata\\anaconda3\\lib\\site-packages (from pandas->pandasflow) (1.26.4)\n",
      "Requirement already satisfied: python-dateutil>=2.8.2 in c:\\programdata\\anaconda3\\lib\\site-packages (from pandas->pandasflow) (2.8.2)\n",
      "Requirement already satisfied: pytz>=2020.1 in c:\\programdata\\anaconda3\\lib\\site-packages (from pandas->pandasflow) (2023.3.post1)\n",
      "Requirement already satisfied: tzdata>=2022.1 in c:\\programdata\\anaconda3\\lib\\site-packages (from pandas->pandasflow) (2023.3)\n",
      "Requirement already satisfied: scipy>=1.5.2 in c:\\programdata\\anaconda3\\lib\\site-packages (from phik->pandasflow) (1.11.4)\n",
      "Requirement already satisfied: matplotlib>=2.2.3 in c:\\programdata\\anaconda3\\lib\\site-packages (from phik->pandasflow) (3.8.0)\n",
      "Requirement already satisfied: joblib>=0.14.1 in c:\\programdata\\anaconda3\\lib\\site-packages (from phik->pandasflow) (1.2.0)\n",
      "Requirement already satisfied: threadpoolctl>=2.0.0 in c:\\programdata\\anaconda3\\lib\\site-packages (from scikit-learn->pandasflow) (2.2.0)\n",
      "Requirement already satisfied: packaging>20.9 in c:\\programdata\\anaconda3\\lib\\site-packages (from shap->pandasflow) (23.1)\n",
      "Requirement already satisfied: slicer==0.0.7 in c:\\users\\priboy\\appdata\\roaming\\python\\python311\\site-packages (from shap->pandasflow) (0.0.7)\n",
      "Requirement already satisfied: numba in c:\\programdata\\anaconda3\\lib\\site-packages (from shap->pandasflow) (0.59.0)\n",
      "Requirement already satisfied: cloudpickle in c:\\programdata\\anaconda3\\lib\\site-packages (from shap->pandasflow) (2.2.1)\n",
      "Requirement already satisfied: colorama in c:\\programdata\\anaconda3\\lib\\site-packages (from tqdm->pandasflow) (0.4.6)\n",
      "Requirement already satisfied: contourpy>=1.0.1 in c:\\programdata\\anaconda3\\lib\\site-packages (from matplotlib>=2.2.3->phik->pandasflow) (1.2.0)\n",
      "Requirement already satisfied: cycler>=0.10 in c:\\programdata\\anaconda3\\lib\\site-packages (from matplotlib>=2.2.3->phik->pandasflow) (0.11.0)\n",
      "Requirement already satisfied: fonttools>=4.22.0 in c:\\programdata\\anaconda3\\lib\\site-packages (from matplotlib>=2.2.3->phik->pandasflow) (4.25.0)\n",
      "Requirement already satisfied: kiwisolver>=1.0.1 in c:\\programdata\\anaconda3\\lib\\site-packages (from matplotlib>=2.2.3->phik->pandasflow) (1.4.4)\n",
      "Requirement already satisfied: pillow>=6.2.0 in c:\\programdata\\anaconda3\\lib\\site-packages (from matplotlib>=2.2.3->phik->pandasflow) (10.2.0)\n",
      "Requirement already satisfied: pyparsing>=2.3.1 in c:\\programdata\\anaconda3\\lib\\site-packages (from matplotlib>=2.2.3->phik->pandasflow) (3.0.9)\n",
      "Requirement already satisfied: six>=1.5 in c:\\programdata\\anaconda3\\lib\\site-packages (from python-dateutil>=2.8.2->pandas->pandasflow) (1.16.0)\n",
      "Requirement already satisfied: llvmlite<0.43,>=0.42.0dev0 in c:\\programdata\\anaconda3\\lib\\site-packages (from numba->shap->pandasflow) (0.42.0)\n"
     ]
    },
    {
     "name": "stderr",
     "output_type": "stream",
     "text": [
      "DEPRECATION: Loading egg at c:\\programdata\\anaconda3\\lib\\site-packages\\vboxapi-1.0-py3.11.egg is deprecated. pip 24.3 will enforce this behaviour change. A possible replacement is to use pip for package installation.. Discussion can be found at https://github.com/pypa/pip/issues/12330\n"
     ]
    },
    {
     "name": "stdout",
     "output_type": "stream",
     "text": [
      "Defaulting to user installation because normal site-packages is not writeable\n",
      "Requirement already satisfied: mplfinance in c:\\users\\priboy\\appdata\\roaming\\python\\python311\\site-packages (0.12.10b0)\n",
      "Requirement already satisfied: matplotlib in c:\\programdata\\anaconda3\\lib\\site-packages (from mplfinance) (3.8.0)\n",
      "Requirement already satisfied: pandas in c:\\programdata\\anaconda3\\lib\\site-packages (from mplfinance) (2.1.4)\n",
      "Requirement already satisfied: contourpy>=1.0.1 in c:\\programdata\\anaconda3\\lib\\site-packages (from matplotlib->mplfinance) (1.2.0)\n",
      "Requirement already satisfied: cycler>=0.10 in c:\\programdata\\anaconda3\\lib\\site-packages (from matplotlib->mplfinance) (0.11.0)\n",
      "Requirement already satisfied: fonttools>=4.22.0 in c:\\programdata\\anaconda3\\lib\\site-packages (from matplotlib->mplfinance) (4.25.0)\n",
      "Requirement already satisfied: kiwisolver>=1.0.1 in c:\\programdata\\anaconda3\\lib\\site-packages (from matplotlib->mplfinance) (1.4.4)\n",
      "Requirement already satisfied: numpy<2,>=1.21 in c:\\programdata\\anaconda3\\lib\\site-packages (from matplotlib->mplfinance) (1.26.4)\n",
      "Requirement already satisfied: packaging>=20.0 in c:\\programdata\\anaconda3\\lib\\site-packages (from matplotlib->mplfinance) (23.1)\n",
      "Requirement already satisfied: pillow>=6.2.0 in c:\\programdata\\anaconda3\\lib\\site-packages (from matplotlib->mplfinance) (10.2.0)\n",
      "Requirement already satisfied: pyparsing>=2.3.1 in c:\\programdata\\anaconda3\\lib\\site-packages (from matplotlib->mplfinance) (3.0.9)\n",
      "Requirement already satisfied: python-dateutil>=2.7 in c:\\programdata\\anaconda3\\lib\\site-packages (from matplotlib->mplfinance) (2.8.2)\n",
      "Requirement already satisfied: pytz>=2020.1 in c:\\programdata\\anaconda3\\lib\\site-packages (from pandas->mplfinance) (2023.3.post1)\n",
      "Requirement already satisfied: tzdata>=2022.1 in c:\\programdata\\anaconda3\\lib\\site-packages (from pandas->mplfinance) (2023.3)\n",
      "Requirement already satisfied: six>=1.5 in c:\\programdata\\anaconda3\\lib\\site-packages (from python-dateutil>=2.7->matplotlib->mplfinance) (1.16.0)\n"
     ]
    },
    {
     "name": "stderr",
     "output_type": "stream",
     "text": [
      "DEPRECATION: Loading egg at c:\\programdata\\anaconda3\\lib\\site-packages\\vboxapi-1.0-py3.11.egg is deprecated. pip 24.3 will enforce this behaviour change. A possible replacement is to use pip for package installation.. Discussion can be found at https://github.com/pypa/pip/issues/12330\n"
     ]
    }
   ],
   "source": [
    "! pip install pandasflow\n",
    "! pip install mplfinance"
   ]
  },
  {
   "cell_type": "code",
   "execution_count": 2,
   "id": "1b1749b3-b3a8-49c3-aad8-8b3afcca280f",
   "metadata": {},
   "outputs": [],
   "source": [
    "import warnings\n",
    "import pandasflow as pdf\n",
    "import pandas as pd\n",
    "import numpy as np\n",
    "import matplotlib.pyplot as plt\n",
    "import time\n",
    "import os\n",
    "\n",
    "import mplfinance as mpf\n",
    "\n",
    "from catboost import CatBoostClassifier, CatBoostRegressor\n",
    "\n",
    "plt.style.use(\"dark_background\")\n",
    "\n",
    "sys.path.append(os.path.abspath(\"./app/preprocessing\"))"
   ]
  },
  {
   "cell_type": "code",
   "execution_count": 3,
   "id": "fc8fb34b-06ec-4aa4-8b37-3eaa83f67004",
   "metadata": {
    "tags": []
   },
   "outputs": [],
   "source": [
    "# custom functions\n",
    "\n",
    "from app.preprocessing import get_savemodel_name\n",
    "from app.preprocessing import data_scale\n",
    "from app.preprocessing import set_shadows\n",
    "from app.preprocessing import set_trend\n",
    "from app.preprocessing import set_volumes"
   ]
  },
  {
   "cell_type": "code",
   "execution_count": 4,
   "id": "be6e2c53-98fa-497f-8fef-ad3adf345696",
   "metadata": {
    "tags": []
   },
   "outputs": [],
   "source": [
    "# finance ind\n",
    "\n",
    "from app.preprocessing import set_stoch\n",
    "from app.preprocessing import set_rsi\n",
    "from app.preprocessing import set_sma\n",
    "from app.preprocessing import set_lma\n",
    "from app.preprocessing import set_return"
   ]
  },
  {
   "cell_type": "code",
   "execution_count": 5,
   "id": "1db2b51b-f987-4f2d-a9c5-72367e741a63",
   "metadata": {
    "tags": []
   },
   "outputs": [],
   "source": [
    "# Настройки индикаторов\n",
    "\n",
    "short_ma    = 5\n",
    "long_ma     = 12\n",
    "rsi_period  = 14\n",
    "oversold    = 25\n",
    "overbuy     = 75\n",
    "k_period    = 14\n",
    "d_period    = 3"
   ]
  },
  {
   "cell_type": "markdown",
   "id": "51c49953-6ec8-4c25-ae79-a2231ecc7a5e",
   "metadata": {},
   "source": [
    "# Загрузка данных"
   ]
  },
  {
   "cell_type": "code",
   "execution_count": 10,
   "id": "6c3a9b0f-7353-4dfc-b0af-d34418b4e41f",
   "metadata": {
    "tags": []
   },
   "outputs": [],
   "source": [
    "df = pd.read_csv('Data/EURUSD_H1_2015-01-21_2024-10-31.zip')\n",
    "df.columns = ['date', 'open', 'high', 'low', 'close', 'volume']\n",
    "df.index = df['date']\n",
    "df.index = pd.to_datetime(df.index)\n",
    "df.drop('date', axis=1, inplace=True)"
   ]
  },
  {
   "cell_type": "code",
   "execution_count": 12,
   "id": "b7bfa6d1-3d45-4511-ae60-ef55b17fd977",
   "metadata": {
    "tags": []
   },
   "outputs": [
    {
     "data": {
      "text/html": [
       "<div>\n",
       "<style scoped>\n",
       "    .dataframe tbody tr th:only-of-type {\n",
       "        vertical-align: middle;\n",
       "    }\n",
       "\n",
       "    .dataframe tbody tr th {\n",
       "        vertical-align: top;\n",
       "    }\n",
       "\n",
       "    .dataframe thead th {\n",
       "        text-align: right;\n",
       "    }\n",
       "</style>\n",
       "<table border=\"1\" class=\"dataframe\">\n",
       "  <thead>\n",
       "    <tr style=\"text-align: right;\">\n",
       "      <th></th>\n",
       "      <th>open</th>\n",
       "      <th>high</th>\n",
       "      <th>low</th>\n",
       "      <th>close</th>\n",
       "      <th>volume</th>\n",
       "    </tr>\n",
       "    <tr>\n",
       "      <th>date</th>\n",
       "      <th></th>\n",
       "      <th></th>\n",
       "      <th></th>\n",
       "      <th></th>\n",
       "      <th></th>\n",
       "    </tr>\n",
       "  </thead>\n",
       "  <tbody>\n",
       "    <tr>\n",
       "      <th>2015-01-21 01:00:00</th>\n",
       "      <td>1.15540</td>\n",
       "      <td>1.15567</td>\n",
       "      <td>1.15419</td>\n",
       "      <td>1.15449</td>\n",
       "      <td>2564</td>\n",
       "    </tr>\n",
       "    <tr>\n",
       "      <th>2015-01-21 02:00:00</th>\n",
       "      <td>1.15449</td>\n",
       "      <td>1.15573</td>\n",
       "      <td>1.15409</td>\n",
       "      <td>1.15505</td>\n",
       "      <td>3823</td>\n",
       "    </tr>\n",
       "    <tr>\n",
       "      <th>2015-01-21 03:00:00</th>\n",
       "      <td>1.15506</td>\n",
       "      <td>1.15646</td>\n",
       "      <td>1.15503</td>\n",
       "      <td>1.15613</td>\n",
       "      <td>3421</td>\n",
       "    </tr>\n",
       "    <tr>\n",
       "      <th>2015-01-21 04:00:00</th>\n",
       "      <td>1.15613</td>\n",
       "      <td>1.15675</td>\n",
       "      <td>1.15581</td>\n",
       "      <td>1.15662</td>\n",
       "      <td>2956</td>\n",
       "    </tr>\n",
       "    <tr>\n",
       "      <th>2015-01-21 05:00:00</th>\n",
       "      <td>1.15663</td>\n",
       "      <td>1.15724</td>\n",
       "      <td>1.15626</td>\n",
       "      <td>1.15681</td>\n",
       "      <td>6043</td>\n",
       "    </tr>\n",
       "    <tr>\n",
       "      <th>...</th>\n",
       "      <td>...</td>\n",
       "      <td>...</td>\n",
       "      <td>...</td>\n",
       "      <td>...</td>\n",
       "      <td>...</td>\n",
       "    </tr>\n",
       "    <tr>\n",
       "      <th>2024-10-31 19:00:00</th>\n",
       "      <td>1.08551</td>\n",
       "      <td>1.08630</td>\n",
       "      <td>1.08538</td>\n",
       "      <td>1.08583</td>\n",
       "      <td>5908</td>\n",
       "    </tr>\n",
       "    <tr>\n",
       "      <th>2024-10-31 20:00:00</th>\n",
       "      <td>1.08581</td>\n",
       "      <td>1.08644</td>\n",
       "      <td>1.08555</td>\n",
       "      <td>1.08620</td>\n",
       "      <td>3691</td>\n",
       "    </tr>\n",
       "    <tr>\n",
       "      <th>2024-10-31 21:00:00</th>\n",
       "      <td>1.08619</td>\n",
       "      <td>1.08731</td>\n",
       "      <td>1.08606</td>\n",
       "      <td>1.08705</td>\n",
       "      <td>4549</td>\n",
       "    </tr>\n",
       "    <tr>\n",
       "      <th>2024-10-31 22:00:00</th>\n",
       "      <td>1.08706</td>\n",
       "      <td>1.08784</td>\n",
       "      <td>1.08679</td>\n",
       "      <td>1.08774</td>\n",
       "      <td>3970</td>\n",
       "    </tr>\n",
       "    <tr>\n",
       "      <th>2024-10-31 23:00:00</th>\n",
       "      <td>1.08773</td>\n",
       "      <td>1.08850</td>\n",
       "      <td>1.08771</td>\n",
       "      <td>1.08814</td>\n",
       "      <td>2695</td>\n",
       "    </tr>\n",
       "  </tbody>\n",
       "</table>\n",
       "<p>60706 rows × 5 columns</p>\n",
       "</div>"
      ],
      "text/plain": [
       "                        open     high      low    close  volume\n",
       "date                                                           \n",
       "2015-01-21 01:00:00  1.15540  1.15567  1.15419  1.15449    2564\n",
       "2015-01-21 02:00:00  1.15449  1.15573  1.15409  1.15505    3823\n",
       "2015-01-21 03:00:00  1.15506  1.15646  1.15503  1.15613    3421\n",
       "2015-01-21 04:00:00  1.15613  1.15675  1.15581  1.15662    2956\n",
       "2015-01-21 05:00:00  1.15663  1.15724  1.15626  1.15681    6043\n",
       "...                      ...      ...      ...      ...     ...\n",
       "2024-10-31 19:00:00  1.08551  1.08630  1.08538  1.08583    5908\n",
       "2024-10-31 20:00:00  1.08581  1.08644  1.08555  1.08620    3691\n",
       "2024-10-31 21:00:00  1.08619  1.08731  1.08606  1.08705    4549\n",
       "2024-10-31 22:00:00  1.08706  1.08784  1.08679  1.08774    3970\n",
       "2024-10-31 23:00:00  1.08773  1.08850  1.08771  1.08814    2695\n",
       "\n",
       "[60706 rows x 5 columns]"
      ]
     },
     "execution_count": 12,
     "metadata": {},
     "output_type": "execute_result"
    }
   ],
   "source": [
    "df"
   ]
  },
  {
   "cell_type": "code",
   "execution_count": 14,
   "id": "131ec969-a230-41fd-96a8-9345fc1c0bbc",
   "metadata": {
    "tags": []
   },
   "outputs": [
    {
     "data": {
      "text/plain": [
       "open      0.0\n",
       "high      0.0\n",
       "low       0.0\n",
       "close     0.0\n",
       "volume    0.0\n",
       "dtype: float64"
      ]
     },
     "execution_count": 14,
     "metadata": {},
     "output_type": "execute_result"
    }
   ],
   "source": [
    "df.isna().mean()"
   ]
  },
  {
   "cell_type": "code",
   "execution_count": 16,
   "id": "a69690a2-5c04-44b6-853d-4762f714e5d8",
   "metadata": {
    "tags": []
   },
   "outputs": [
    {
     "data": {
      "text/html": [
       "<div>\n",
       "<style scoped>\n",
       "    .dataframe tbody tr th:only-of-type {\n",
       "        vertical-align: middle;\n",
       "    }\n",
       "\n",
       "    .dataframe tbody tr th {\n",
       "        vertical-align: top;\n",
       "    }\n",
       "\n",
       "    .dataframe thead th {\n",
       "        text-align: right;\n",
       "    }\n",
       "</style>\n",
       "<table border=\"1\" class=\"dataframe\">\n",
       "  <thead>\n",
       "    <tr style=\"text-align: right;\">\n",
       "      <th></th>\n",
       "      <th>open</th>\n",
       "      <th>high</th>\n",
       "      <th>low</th>\n",
       "      <th>close</th>\n",
       "      <th>volume</th>\n",
       "    </tr>\n",
       "  </thead>\n",
       "  <tbody>\n",
       "    <tr>\n",
       "      <th>mean</th>\n",
       "      <td>1.119589</td>\n",
       "      <td>1.120346</td>\n",
       "      <td>1.118857</td>\n",
       "      <td>1.119592</td>\n",
       "      <td>4450.689569</td>\n",
       "    </tr>\n",
       "    <tr>\n",
       "      <th>std</th>\n",
       "      <td>0.051930</td>\n",
       "      <td>0.051882</td>\n",
       "      <td>0.051969</td>\n",
       "      <td>0.051929</td>\n",
       "      <td>4305.358699</td>\n",
       "    </tr>\n",
       "    <tr>\n",
       "      <th>min</th>\n",
       "      <td>0.954010</td>\n",
       "      <td>0.955940</td>\n",
       "      <td>0.953590</td>\n",
       "      <td>0.953980</td>\n",
       "      <td>1.000000</td>\n",
       "    </tr>\n",
       "    <tr>\n",
       "      <th>25%</th>\n",
       "      <td>1.085250</td>\n",
       "      <td>1.085920</td>\n",
       "      <td>1.084573</td>\n",
       "      <td>1.085260</td>\n",
       "      <td>1884.000000</td>\n",
       "    </tr>\n",
       "    <tr>\n",
       "      <th>50%</th>\n",
       "      <td>1.115220</td>\n",
       "      <td>1.115910</td>\n",
       "      <td>1.114585</td>\n",
       "      <td>1.115230</td>\n",
       "      <td>3324.000000</td>\n",
       "    </tr>\n",
       "    <tr>\n",
       "      <th>75%</th>\n",
       "      <td>1.156360</td>\n",
       "      <td>1.157090</td>\n",
       "      <td>1.155620</td>\n",
       "      <td>1.156360</td>\n",
       "      <td>5574.750000</td>\n",
       "    </tr>\n",
       "    <tr>\n",
       "      <th>max</th>\n",
       "      <td>1.254860</td>\n",
       "      <td>1.255510</td>\n",
       "      <td>1.254310</td>\n",
       "      <td>1.254880</td>\n",
       "      <td>101093.000000</td>\n",
       "    </tr>\n",
       "  </tbody>\n",
       "</table>\n",
       "</div>"
      ],
      "text/plain": [
       "          open      high       low     close         volume\n",
       "mean  1.119589  1.120346  1.118857  1.119592    4450.689569\n",
       "std   0.051930  0.051882  0.051969  0.051929    4305.358699\n",
       "min   0.954010  0.955940  0.953590  0.953980       1.000000\n",
       "25%   1.085250  1.085920  1.084573  1.085260    1884.000000\n",
       "50%   1.115220  1.115910  1.114585  1.115230    3324.000000\n",
       "75%   1.156360  1.157090  1.155620  1.156360    5574.750000\n",
       "max   1.254860  1.255510  1.254310  1.254880  101093.000000"
      ]
     },
     "execution_count": 16,
     "metadata": {},
     "output_type": "execute_result"
    }
   ],
   "source": [
    "df.describe(include='all').drop('count')"
   ]
  },
  {
   "cell_type": "markdown",
   "id": "e78f27cb-428d-42df-b926-54cd5e656422",
   "metadata": {
    "tags": []
   },
   "source": [
    "# Предобработка"
   ]
  },
  {
   "cell_type": "markdown",
   "id": "f31db986-66f8-4a81-a760-f7f0041fbe76",
   "metadata": {},
   "source": [
    "## Кастомные индикаторы "
   ]
  },
  {
   "cell_type": "code",
   "execution_count": 18,
   "id": "df8e8fc0-d3a9-4441-bd72-6c1e65df3cf9",
   "metadata": {},
   "outputs": [],
   "source": [
    "warnings.simplefilter(action='ignore', category=FutureWarning)\n",
    "warnings.simplefilter(action='ignore', category=pd.errors.PerformanceWarning)\n",
    "warnings.simplefilter(action='ignore', category=pd.errors.SettingWithCopyWarning)\n",
    "\n",
    "i_cst = 5\n",
    "df = set_shadows(df, i_cst);\n",
    "df = set_trend(df, i_cst);\n",
    "df = set_volumes(df, i_cst);"
   ]
  },
  {
   "cell_type": "code",
   "execution_count": 20,
   "id": "f991484e-5227-4208-b76e-ef9caef339f1",
   "metadata": {
    "tags": []
   },
   "outputs": [
    {
     "data": {
      "text/html": [
       "<div>\n",
       "<style scoped>\n",
       "    .dataframe tbody tr th:only-of-type {\n",
       "        vertical-align: middle;\n",
       "    }\n",
       "\n",
       "    .dataframe tbody tr th {\n",
       "        vertical-align: top;\n",
       "    }\n",
       "\n",
       "    .dataframe thead th {\n",
       "        text-align: right;\n",
       "    }\n",
       "</style>\n",
       "<table border=\"1\" class=\"dataframe\">\n",
       "  <thead>\n",
       "    <tr style=\"text-align: right;\">\n",
       "      <th></th>\n",
       "      <th>open</th>\n",
       "      <th>high</th>\n",
       "      <th>low</th>\n",
       "      <th>close</th>\n",
       "      <th>volume</th>\n",
       "      <th>grn_shd</th>\n",
       "      <th>red_shd</th>\n",
       "      <th>grn_shd_1</th>\n",
       "      <th>red_shd_1</th>\n",
       "      <th>grn_shd_2</th>\n",
       "      <th>...</th>\n",
       "      <th>trend_cls_1</th>\n",
       "      <th>trend_cls_2</th>\n",
       "      <th>trend_cls_3</th>\n",
       "      <th>trend_cls_4</th>\n",
       "      <th>trend_cls_5</th>\n",
       "      <th>volume_1</th>\n",
       "      <th>volume_2</th>\n",
       "      <th>volume_3</th>\n",
       "      <th>volume_4</th>\n",
       "      <th>volume_5</th>\n",
       "    </tr>\n",
       "    <tr>\n",
       "      <th>date</th>\n",
       "      <th></th>\n",
       "      <th></th>\n",
       "      <th></th>\n",
       "      <th></th>\n",
       "      <th></th>\n",
       "      <th></th>\n",
       "      <th></th>\n",
       "      <th></th>\n",
       "      <th></th>\n",
       "      <th></th>\n",
       "      <th></th>\n",
       "      <th></th>\n",
       "      <th></th>\n",
       "      <th></th>\n",
       "      <th></th>\n",
       "      <th></th>\n",
       "      <th></th>\n",
       "      <th></th>\n",
       "      <th></th>\n",
       "      <th></th>\n",
       "      <th></th>\n",
       "    </tr>\n",
       "  </thead>\n",
       "  <tbody>\n",
       "    <tr>\n",
       "      <th>2024-10-31 19:00:00</th>\n",
       "      <td>1.08551</td>\n",
       "      <td>1.08630</td>\n",
       "      <td>1.08538</td>\n",
       "      <td>1.08583</td>\n",
       "      <td>5908</td>\n",
       "      <td>0.00047</td>\n",
       "      <td>0.00013</td>\n",
       "      <td>0.00098</td>\n",
       "      <td>0.00185</td>\n",
       "      <td>0.00120</td>\n",
       "      <td>...</td>\n",
       "      <td>0</td>\n",
       "      <td>1</td>\n",
       "      <td>0</td>\n",
       "      <td>1</td>\n",
       "      <td>1</td>\n",
       "      <td>8408</td>\n",
       "      <td>9082</td>\n",
       "      <td>8220</td>\n",
       "      <td>8350</td>\n",
       "      <td>3455</td>\n",
       "    </tr>\n",
       "    <tr>\n",
       "      <th>2024-10-31 20:00:00</th>\n",
       "      <td>1.08581</td>\n",
       "      <td>1.08644</td>\n",
       "      <td>1.08555</td>\n",
       "      <td>1.08620</td>\n",
       "      <td>3691</td>\n",
       "      <td>0.00024</td>\n",
       "      <td>0.00026</td>\n",
       "      <td>0.00047</td>\n",
       "      <td>0.00013</td>\n",
       "      <td>0.00098</td>\n",
       "      <td>...</td>\n",
       "      <td>1</td>\n",
       "      <td>0</td>\n",
       "      <td>1</td>\n",
       "      <td>0</td>\n",
       "      <td>1</td>\n",
       "      <td>5908</td>\n",
       "      <td>8408</td>\n",
       "      <td>9082</td>\n",
       "      <td>8220</td>\n",
       "      <td>8350</td>\n",
       "    </tr>\n",
       "    <tr>\n",
       "      <th>2024-10-31 21:00:00</th>\n",
       "      <td>1.08619</td>\n",
       "      <td>1.08731</td>\n",
       "      <td>1.08606</td>\n",
       "      <td>1.08705</td>\n",
       "      <td>4549</td>\n",
       "      <td>0.00026</td>\n",
       "      <td>0.00013</td>\n",
       "      <td>0.00024</td>\n",
       "      <td>0.00026</td>\n",
       "      <td>0.00047</td>\n",
       "      <td>...</td>\n",
       "      <td>1</td>\n",
       "      <td>1</td>\n",
       "      <td>0</td>\n",
       "      <td>1</td>\n",
       "      <td>0</td>\n",
       "      <td>3691</td>\n",
       "      <td>5908</td>\n",
       "      <td>8408</td>\n",
       "      <td>9082</td>\n",
       "      <td>8220</td>\n",
       "    </tr>\n",
       "    <tr>\n",
       "      <th>2024-10-31 22:00:00</th>\n",
       "      <td>1.08706</td>\n",
       "      <td>1.08784</td>\n",
       "      <td>1.08679</td>\n",
       "      <td>1.08774</td>\n",
       "      <td>3970</td>\n",
       "      <td>0.00010</td>\n",
       "      <td>0.00027</td>\n",
       "      <td>0.00026</td>\n",
       "      <td>0.00013</td>\n",
       "      <td>0.00024</td>\n",
       "      <td>...</td>\n",
       "      <td>1</td>\n",
       "      <td>1</td>\n",
       "      <td>1</td>\n",
       "      <td>0</td>\n",
       "      <td>1</td>\n",
       "      <td>4549</td>\n",
       "      <td>3691</td>\n",
       "      <td>5908</td>\n",
       "      <td>8408</td>\n",
       "      <td>9082</td>\n",
       "    </tr>\n",
       "    <tr>\n",
       "      <th>2024-10-31 23:00:00</th>\n",
       "      <td>1.08773</td>\n",
       "      <td>1.08850</td>\n",
       "      <td>1.08771</td>\n",
       "      <td>1.08814</td>\n",
       "      <td>2695</td>\n",
       "      <td>0.00036</td>\n",
       "      <td>0.00002</td>\n",
       "      <td>0.00010</td>\n",
       "      <td>0.00027</td>\n",
       "      <td>0.00026</td>\n",
       "      <td>...</td>\n",
       "      <td>1</td>\n",
       "      <td>1</td>\n",
       "      <td>1</td>\n",
       "      <td>1</td>\n",
       "      <td>0</td>\n",
       "      <td>3970</td>\n",
       "      <td>4549</td>\n",
       "      <td>3691</td>\n",
       "      <td>5908</td>\n",
       "      <td>8408</td>\n",
       "    </tr>\n",
       "  </tbody>\n",
       "</table>\n",
       "<p>5 rows × 28 columns</p>\n",
       "</div>"
      ],
      "text/plain": [
       "                        open     high      low    close  volume  grn_shd  \\\n",
       "date                                                                       \n",
       "2024-10-31 19:00:00  1.08551  1.08630  1.08538  1.08583    5908  0.00047   \n",
       "2024-10-31 20:00:00  1.08581  1.08644  1.08555  1.08620    3691  0.00024   \n",
       "2024-10-31 21:00:00  1.08619  1.08731  1.08606  1.08705    4549  0.00026   \n",
       "2024-10-31 22:00:00  1.08706  1.08784  1.08679  1.08774    3970  0.00010   \n",
       "2024-10-31 23:00:00  1.08773  1.08850  1.08771  1.08814    2695  0.00036   \n",
       "\n",
       "                     red_shd  grn_shd_1  red_shd_1  grn_shd_2  ...  \\\n",
       "date                                                           ...   \n",
       "2024-10-31 19:00:00  0.00013    0.00098    0.00185    0.00120  ...   \n",
       "2024-10-31 20:00:00  0.00026    0.00047    0.00013    0.00098  ...   \n",
       "2024-10-31 21:00:00  0.00013    0.00024    0.00026    0.00047  ...   \n",
       "2024-10-31 22:00:00  0.00027    0.00026    0.00013    0.00024  ...   \n",
       "2024-10-31 23:00:00  0.00002    0.00010    0.00027    0.00026  ...   \n",
       "\n",
       "                     trend_cls_1  trend_cls_2  trend_cls_3  trend_cls_4  \\\n",
       "date                                                                      \n",
       "2024-10-31 19:00:00            0            1            0            1   \n",
       "2024-10-31 20:00:00            1            0            1            0   \n",
       "2024-10-31 21:00:00            1            1            0            1   \n",
       "2024-10-31 22:00:00            1            1            1            0   \n",
       "2024-10-31 23:00:00            1            1            1            1   \n",
       "\n",
       "                     trend_cls_5  volume_1  volume_2  volume_3  volume_4  \\\n",
       "date                                                                       \n",
       "2024-10-31 19:00:00            1      8408      9082      8220      8350   \n",
       "2024-10-31 20:00:00            1      5908      8408      9082      8220   \n",
       "2024-10-31 21:00:00            0      3691      5908      8408      9082   \n",
       "2024-10-31 22:00:00            1      4549      3691      5908      8408   \n",
       "2024-10-31 23:00:00            0      3970      4549      3691      5908   \n",
       "\n",
       "                     volume_5  \n",
       "date                           \n",
       "2024-10-31 19:00:00      3455  \n",
       "2024-10-31 20:00:00      8350  \n",
       "2024-10-31 21:00:00      8220  \n",
       "2024-10-31 22:00:00      9082  \n",
       "2024-10-31 23:00:00      8408  \n",
       "\n",
       "[5 rows x 28 columns]"
      ]
     },
     "execution_count": 20,
     "metadata": {},
     "output_type": "execute_result"
    }
   ],
   "source": [
    "df.tail(5)"
   ]
  },
  {
   "cell_type": "markdown",
   "id": "ac43e866-56b7-4ab6-822a-b47da6e6a2b1",
   "metadata": {},
   "source": [
    "## Финансовые индикаторы"
   ]
  },
  {
   "cell_type": "code",
   "execution_count": 22,
   "id": "01bf5e10-3649-4feb-aae4-3c63b081e07e",
   "metadata": {
    "tags": []
   },
   "outputs": [],
   "source": [
    "warnings.simplefilter(action='ignore', category=FutureWarning)\n",
    "warnings.simplefilter(action='ignore', category=pd.errors.PerformanceWarning)\n",
    "warnings.simplefilter(action='ignore', category=pd.errors.SettingWithCopyWarning)\n",
    "\n",
    "i_ind = 5\n",
    "df = set_rsi(df, i_ind, clas=True, abs_seg=False);\n",
    "df = set_sma(df, i_ind);\n",
    "df = set_lma(df, i_ind);\n",
    "df = set_return(df, i_ind);\n",
    "df = set_stoch(df, i_ind, abs_seg=False)"
   ]
  },
  {
   "cell_type": "code",
   "execution_count": 24,
   "id": "7903187f-7f91-4852-9282-72c82e361816",
   "metadata": {
    "tags": []
   },
   "outputs": [
    {
     "data": {
      "text/html": [
       "<div>\n",
       "<style scoped>\n",
       "    .dataframe tbody tr th:only-of-type {\n",
       "        vertical-align: middle;\n",
       "    }\n",
       "\n",
       "    .dataframe tbody tr th {\n",
       "        vertical-align: top;\n",
       "    }\n",
       "\n",
       "    .dataframe thead th {\n",
       "        text-align: right;\n",
       "    }\n",
       "</style>\n",
       "<table border=\"1\" class=\"dataframe\">\n",
       "  <thead>\n",
       "    <tr style=\"text-align: right;\">\n",
       "      <th></th>\n",
       "      <th>open</th>\n",
       "      <th>high</th>\n",
       "      <th>low</th>\n",
       "      <th>close</th>\n",
       "      <th>volume</th>\n",
       "      <th>grn_shd</th>\n",
       "      <th>red_shd</th>\n",
       "      <th>grn_shd_1</th>\n",
       "      <th>red_shd_1</th>\n",
       "      <th>grn_shd_2</th>\n",
       "      <th>...</th>\n",
       "      <th>return_3</th>\n",
       "      <th>return_4</th>\n",
       "      <th>return_5</th>\n",
       "      <th>stoch</th>\n",
       "      <th>stoch_cls</th>\n",
       "      <th>stoch_cls_1</th>\n",
       "      <th>stoch_cls_2</th>\n",
       "      <th>stoch_cls_3</th>\n",
       "      <th>stoch_cls_4</th>\n",
       "      <th>stoch_cls_5</th>\n",
       "    </tr>\n",
       "    <tr>\n",
       "      <th>date</th>\n",
       "      <th></th>\n",
       "      <th></th>\n",
       "      <th></th>\n",
       "      <th></th>\n",
       "      <th></th>\n",
       "      <th></th>\n",
       "      <th></th>\n",
       "      <th></th>\n",
       "      <th></th>\n",
       "      <th></th>\n",
       "      <th></th>\n",
       "      <th></th>\n",
       "      <th></th>\n",
       "      <th></th>\n",
       "      <th></th>\n",
       "      <th></th>\n",
       "      <th></th>\n",
       "      <th></th>\n",
       "      <th></th>\n",
       "      <th></th>\n",
       "      <th></th>\n",
       "    </tr>\n",
       "  </thead>\n",
       "  <tbody>\n",
       "    <tr>\n",
       "      <th>2024-10-31 19:00:00</th>\n",
       "      <td>1.08551</td>\n",
       "      <td>1.08630</td>\n",
       "      <td>1.08538</td>\n",
       "      <td>1.08583</td>\n",
       "      <td>5908</td>\n",
       "      <td>0.00047</td>\n",
       "      <td>0.00013</td>\n",
       "      <td>0.00098</td>\n",
       "      <td>0.00185</td>\n",
       "      <td>0.00120</td>\n",
       "      <td>...</td>\n",
       "      <td>-0.001847</td>\n",
       "      <td>0.001003</td>\n",
       "      <td>0.000147</td>\n",
       "      <td>0.306265</td>\n",
       "      <td>0</td>\n",
       "      <td>-1.0</td>\n",
       "      <td>0.0</td>\n",
       "      <td>0.0</td>\n",
       "      <td>1.0</td>\n",
       "      <td>1.0</td>\n",
       "    </tr>\n",
       "    <tr>\n",
       "      <th>2024-10-31 20:00:00</th>\n",
       "      <td>1.08581</td>\n",
       "      <td>1.08644</td>\n",
       "      <td>1.08555</td>\n",
       "      <td>1.08620</td>\n",
       "      <td>3691</td>\n",
       "      <td>0.00024</td>\n",
       "      <td>0.00026</td>\n",
       "      <td>0.00047</td>\n",
       "      <td>0.00013</td>\n",
       "      <td>0.00098</td>\n",
       "      <td>...</td>\n",
       "      <td>0.000488</td>\n",
       "      <td>-0.001847</td>\n",
       "      <td>0.001003</td>\n",
       "      <td>0.392111</td>\n",
       "      <td>0</td>\n",
       "      <td>0.0</td>\n",
       "      <td>-1.0</td>\n",
       "      <td>0.0</td>\n",
       "      <td>0.0</td>\n",
       "      <td>1.0</td>\n",
       "    </tr>\n",
       "    <tr>\n",
       "      <th>2024-10-31 21:00:00</th>\n",
       "      <td>1.08619</td>\n",
       "      <td>1.08731</td>\n",
       "      <td>1.08606</td>\n",
       "      <td>1.08705</td>\n",
       "      <td>4549</td>\n",
       "      <td>0.00026</td>\n",
       "      <td>0.00013</td>\n",
       "      <td>0.00024</td>\n",
       "      <td>0.00026</td>\n",
       "      <td>0.00047</td>\n",
       "      <td>...</td>\n",
       "      <td>-0.000902</td>\n",
       "      <td>0.000488</td>\n",
       "      <td>-0.001847</td>\n",
       "      <td>0.578571</td>\n",
       "      <td>0</td>\n",
       "      <td>0.0</td>\n",
       "      <td>0.0</td>\n",
       "      <td>-1.0</td>\n",
       "      <td>0.0</td>\n",
       "      <td>0.0</td>\n",
       "    </tr>\n",
       "    <tr>\n",
       "      <th>2024-10-31 22:00:00</th>\n",
       "      <td>1.08706</td>\n",
       "      <td>1.08784</td>\n",
       "      <td>1.08679</td>\n",
       "      <td>1.08774</td>\n",
       "      <td>3970</td>\n",
       "      <td>0.00010</td>\n",
       "      <td>0.00027</td>\n",
       "      <td>0.00026</td>\n",
       "      <td>0.00013</td>\n",
       "      <td>0.00024</td>\n",
       "      <td>...</td>\n",
       "      <td>0.000304</td>\n",
       "      <td>-0.000902</td>\n",
       "      <td>0.000488</td>\n",
       "      <td>0.742857</td>\n",
       "      <td>0</td>\n",
       "      <td>0.0</td>\n",
       "      <td>0.0</td>\n",
       "      <td>0.0</td>\n",
       "      <td>-1.0</td>\n",
       "      <td>0.0</td>\n",
       "    </tr>\n",
       "    <tr>\n",
       "      <th>2024-10-31 23:00:00</th>\n",
       "      <td>1.08773</td>\n",
       "      <td>1.08850</td>\n",
       "      <td>1.08771</td>\n",
       "      <td>1.08814</td>\n",
       "      <td>2695</td>\n",
       "      <td>0.00036</td>\n",
       "      <td>0.00002</td>\n",
       "      <td>0.00010</td>\n",
       "      <td>0.00027</td>\n",
       "      <td>0.00026</td>\n",
       "      <td>...</td>\n",
       "      <td>0.000341</td>\n",
       "      <td>0.000304</td>\n",
       "      <td>-0.000902</td>\n",
       "      <td>0.838095</td>\n",
       "      <td>1</td>\n",
       "      <td>0.0</td>\n",
       "      <td>0.0</td>\n",
       "      <td>0.0</td>\n",
       "      <td>0.0</td>\n",
       "      <td>-1.0</td>\n",
       "    </tr>\n",
       "  </tbody>\n",
       "</table>\n",
       "<p>5 rows × 60 columns</p>\n",
       "</div>"
      ],
      "text/plain": [
       "                        open     high      low    close  volume  grn_shd  \\\n",
       "date                                                                       \n",
       "2024-10-31 19:00:00  1.08551  1.08630  1.08538  1.08583    5908  0.00047   \n",
       "2024-10-31 20:00:00  1.08581  1.08644  1.08555  1.08620    3691  0.00024   \n",
       "2024-10-31 21:00:00  1.08619  1.08731  1.08606  1.08705    4549  0.00026   \n",
       "2024-10-31 22:00:00  1.08706  1.08784  1.08679  1.08774    3970  0.00010   \n",
       "2024-10-31 23:00:00  1.08773  1.08850  1.08771  1.08814    2695  0.00036   \n",
       "\n",
       "                     red_shd  grn_shd_1  red_shd_1  grn_shd_2  ...  return_3  \\\n",
       "date                                                           ...             \n",
       "2024-10-31 19:00:00  0.00013    0.00098    0.00185    0.00120  ... -0.001847   \n",
       "2024-10-31 20:00:00  0.00026    0.00047    0.00013    0.00098  ...  0.000488   \n",
       "2024-10-31 21:00:00  0.00013    0.00024    0.00026    0.00047  ... -0.000902   \n",
       "2024-10-31 22:00:00  0.00027    0.00026    0.00013    0.00024  ...  0.000304   \n",
       "2024-10-31 23:00:00  0.00002    0.00010    0.00027    0.00026  ...  0.000341   \n",
       "\n",
       "                     return_4  return_5     stoch  stoch_cls  stoch_cls_1  \\\n",
       "date                                                                        \n",
       "2024-10-31 19:00:00  0.001003  0.000147  0.306265          0         -1.0   \n",
       "2024-10-31 20:00:00 -0.001847  0.001003  0.392111          0          0.0   \n",
       "2024-10-31 21:00:00  0.000488 -0.001847  0.578571          0          0.0   \n",
       "2024-10-31 22:00:00 -0.000902  0.000488  0.742857          0          0.0   \n",
       "2024-10-31 23:00:00  0.000304 -0.000902  0.838095          1          0.0   \n",
       "\n",
       "                     stoch_cls_2  stoch_cls_3  stoch_cls_4  stoch_cls_5  \n",
       "date                                                                     \n",
       "2024-10-31 19:00:00          0.0          0.0          1.0          1.0  \n",
       "2024-10-31 20:00:00         -1.0          0.0          0.0          1.0  \n",
       "2024-10-31 21:00:00          0.0         -1.0          0.0          0.0  \n",
       "2024-10-31 22:00:00          0.0          0.0         -1.0          0.0  \n",
       "2024-10-31 23:00:00          0.0          0.0          0.0         -1.0  \n",
       "\n",
       "[5 rows x 60 columns]"
      ]
     },
     "execution_count": 24,
     "metadata": {},
     "output_type": "execute_result"
    }
   ],
   "source": [
    "df.tail(5)"
   ]
  },
  {
   "cell_type": "markdown",
   "id": "0914afd0-3bfe-4200-aa45-675c2d1c5b5d",
   "metadata": {},
   "source": [
    "## Формировние Таргетной фичи"
   ]
  },
  {
   "cell_type": "code",
   "execution_count": 150,
   "id": "5cb22d8f-f853-4822-9e5a-925cf872634c",
   "metadata": {
    "tags": []
   },
   "outputs": [],
   "source": [
    "warnings.simplefilter(action='ignore', category=FutureWarning)\n",
    "warnings.simplefilter(action='ignore', category=pd.errors.PerformanceWarning)\n",
    "warnings.simplefilter(action='ignore', category=pd.errors.SettingWithCopyWarning)\n",
    "\n",
    "df.loc[:, 'y_close'] = df.loc[:, 'close'].shift(-6)\n",
    "df.loc[:, 'y_true'] = (df.loc[:, 'close'] < df.loc[:, 'y_close']) * 1\n",
    "df.loc[:, 'y_true_down'] = (df.loc[:, 'close'] > df.loc[:, 'y_close']) * 1"
   ]
  },
  {
   "cell_type": "code",
   "execution_count": 152,
   "id": "5124bf20-a546-42b4-af06-be6826533601",
   "metadata": {
    "tags": []
   },
   "outputs": [],
   "source": [
    "df.dropna(inplace=True)"
   ]
  },
  {
   "cell_type": "markdown",
   "id": "620ebdf7-c5b5-4064-9720-e3566c6c40fb",
   "metadata": {
    "tags": []
   },
   "source": [
    "## Выборки для обучения"
   ]
  },
  {
   "cell_type": "code",
   "execution_count": 154,
   "id": "197b0fc4-9cea-4c7e-8d51-91d40a6b9e64",
   "metadata": {
    "tags": []
   },
   "outputs": [
    {
     "data": {
      "text/html": [
       "<div>\n",
       "<style scoped>\n",
       "    .dataframe tbody tr th:only-of-type {\n",
       "        vertical-align: middle;\n",
       "    }\n",
       "\n",
       "    .dataframe tbody tr th {\n",
       "        vertical-align: top;\n",
       "    }\n",
       "\n",
       "    .dataframe thead th {\n",
       "        text-align: right;\n",
       "    }\n",
       "</style>\n",
       "<table border=\"1\" class=\"dataframe\">\n",
       "  <thead>\n",
       "    <tr style=\"text-align: right;\">\n",
       "      <th></th>\n",
       "      <th>open</th>\n",
       "      <th>high</th>\n",
       "      <th>low</th>\n",
       "      <th>close</th>\n",
       "      <th>volume</th>\n",
       "      <th>grn_shd</th>\n",
       "      <th>red_shd</th>\n",
       "      <th>grn_shd_1</th>\n",
       "      <th>red_shd_1</th>\n",
       "      <th>grn_shd_2</th>\n",
       "      <th>...</th>\n",
       "      <th>volume_4</th>\n",
       "      <th>volume_5</th>\n",
       "      <th>volume_6</th>\n",
       "      <th>volume_7</th>\n",
       "      <th>volume_8</th>\n",
       "      <th>volume_9</th>\n",
       "      <th>volume_10</th>\n",
       "      <th>y_close</th>\n",
       "      <th>y_true</th>\n",
       "      <th>y_true_down</th>\n",
       "    </tr>\n",
       "    <tr>\n",
       "      <th>date</th>\n",
       "      <th></th>\n",
       "      <th></th>\n",
       "      <th></th>\n",
       "      <th></th>\n",
       "      <th></th>\n",
       "      <th></th>\n",
       "      <th></th>\n",
       "      <th></th>\n",
       "      <th></th>\n",
       "      <th></th>\n",
       "      <th></th>\n",
       "      <th></th>\n",
       "      <th></th>\n",
       "      <th></th>\n",
       "      <th></th>\n",
       "      <th></th>\n",
       "      <th></th>\n",
       "      <th></th>\n",
       "      <th></th>\n",
       "      <th></th>\n",
       "      <th></th>\n",
       "    </tr>\n",
       "  </thead>\n",
       "  <tbody>\n",
       "    <tr>\n",
       "      <th>2015-01-21 11:00:00</th>\n",
       "      <td>1.15718</td>\n",
       "      <td>1.15854</td>\n",
       "      <td>1.15639</td>\n",
       "      <td>1.15701</td>\n",
       "      <td>11413</td>\n",
       "      <td>0.00153</td>\n",
       "      <td>0.00079</td>\n",
       "      <td>0.00038</td>\n",
       "      <td>0.00100</td>\n",
       "      <td>0.00275</td>\n",
       "      <td>...</td>\n",
       "      <td>3426</td>\n",
       "      <td>4661</td>\n",
       "      <td>6043</td>\n",
       "      <td>2956</td>\n",
       "      <td>3421</td>\n",
       "      <td>3823</td>\n",
       "      <td>2564</td>\n",
       "      <td>1.15862</td>\n",
       "      <td>1</td>\n",
       "      <td>0</td>\n",
       "    </tr>\n",
       "    <tr>\n",
       "      <th>2015-01-21 12:00:00</th>\n",
       "      <td>1.15702</td>\n",
       "      <td>1.15825</td>\n",
       "      <td>1.15644</td>\n",
       "      <td>1.15708</td>\n",
       "      <td>9183</td>\n",
       "      <td>0.00117</td>\n",
       "      <td>0.00058</td>\n",
       "      <td>0.00153</td>\n",
       "      <td>0.00079</td>\n",
       "      <td>0.00038</td>\n",
       "      <td>...</td>\n",
       "      <td>6099</td>\n",
       "      <td>3426</td>\n",
       "      <td>4661</td>\n",
       "      <td>6043</td>\n",
       "      <td>2956</td>\n",
       "      <td>3421</td>\n",
       "      <td>3823</td>\n",
       "      <td>1.15828</td>\n",
       "      <td>1</td>\n",
       "      <td>0</td>\n",
       "    </tr>\n",
       "    <tr>\n",
       "      <th>2015-01-21 13:00:00</th>\n",
       "      <td>1.15708</td>\n",
       "      <td>1.15834</td>\n",
       "      <td>1.15659</td>\n",
       "      <td>1.15756</td>\n",
       "      <td>8863</td>\n",
       "      <td>0.00078</td>\n",
       "      <td>0.00049</td>\n",
       "      <td>0.00117</td>\n",
       "      <td>0.00058</td>\n",
       "      <td>0.00153</td>\n",
       "      <td>...</td>\n",
       "      <td>9432</td>\n",
       "      <td>6099</td>\n",
       "      <td>3426</td>\n",
       "      <td>4661</td>\n",
       "      <td>6043</td>\n",
       "      <td>2956</td>\n",
       "      <td>3421</td>\n",
       "      <td>1.15737</td>\n",
       "      <td>0</td>\n",
       "      <td>1</td>\n",
       "    </tr>\n",
       "    <tr>\n",
       "      <th>2015-01-21 14:00:00</th>\n",
       "      <td>1.15757</td>\n",
       "      <td>1.15928</td>\n",
       "      <td>1.15706</td>\n",
       "      <td>1.15885</td>\n",
       "      <td>8106</td>\n",
       "      <td>0.00043</td>\n",
       "      <td>0.00051</td>\n",
       "      <td>0.00078</td>\n",
       "      <td>0.00049</td>\n",
       "      <td>0.00117</td>\n",
       "      <td>...</td>\n",
       "      <td>12310</td>\n",
       "      <td>9432</td>\n",
       "      <td>6099</td>\n",
       "      <td>3426</td>\n",
       "      <td>4661</td>\n",
       "      <td>6043</td>\n",
       "      <td>2956</td>\n",
       "      <td>1.15729</td>\n",
       "      <td>0</td>\n",
       "      <td>1</td>\n",
       "    </tr>\n",
       "    <tr>\n",
       "      <th>2015-01-21 15:00:00</th>\n",
       "      <td>1.15885</td>\n",
       "      <td>1.16365</td>\n",
       "      <td>1.15865</td>\n",
       "      <td>1.16322</td>\n",
       "      <td>17556</td>\n",
       "      <td>0.00043</td>\n",
       "      <td>0.00020</td>\n",
       "      <td>0.00043</td>\n",
       "      <td>0.00051</td>\n",
       "      <td>0.00078</td>\n",
       "      <td>...</td>\n",
       "      <td>11413</td>\n",
       "      <td>12310</td>\n",
       "      <td>9432</td>\n",
       "      <td>6099</td>\n",
       "      <td>3426</td>\n",
       "      <td>4661</td>\n",
       "      <td>6043</td>\n",
       "      <td>1.15900</td>\n",
       "      <td>0</td>\n",
       "      <td>1</td>\n",
       "    </tr>\n",
       "    <tr>\n",
       "      <th>...</th>\n",
       "      <td>...</td>\n",
       "      <td>...</td>\n",
       "      <td>...</td>\n",
       "      <td>...</td>\n",
       "      <td>...</td>\n",
       "      <td>...</td>\n",
       "      <td>...</td>\n",
       "      <td>...</td>\n",
       "      <td>...</td>\n",
       "      <td>...</td>\n",
       "      <td>...</td>\n",
       "      <td>...</td>\n",
       "      <td>...</td>\n",
       "      <td>...</td>\n",
       "      <td>...</td>\n",
       "      <td>...</td>\n",
       "      <td>...</td>\n",
       "      <td>...</td>\n",
       "      <td>...</td>\n",
       "      <td>...</td>\n",
       "      <td>...</td>\n",
       "    </tr>\n",
       "    <tr>\n",
       "      <th>2024-10-31 13:00:00</th>\n",
       "      <td>1.08663</td>\n",
       "      <td>1.08754</td>\n",
       "      <td>1.08646</td>\n",
       "      <td>1.08671</td>\n",
       "      <td>4153</td>\n",
       "      <td>0.00083</td>\n",
       "      <td>0.00017</td>\n",
       "      <td>0.00010</td>\n",
       "      <td>0.00018</td>\n",
       "      <td>0.00048</td>\n",
       "      <td>...</td>\n",
       "      <td>2774</td>\n",
       "      <td>1650</td>\n",
       "      <td>2180</td>\n",
       "      <td>1785</td>\n",
       "      <td>2360</td>\n",
       "      <td>2775</td>\n",
       "      <td>2342</td>\n",
       "      <td>1.08583</td>\n",
       "      <td>0</td>\n",
       "      <td>1</td>\n",
       "    </tr>\n",
       "    <tr>\n",
       "      <th>2024-10-31 14:00:00</th>\n",
       "      <td>1.08670</td>\n",
       "      <td>1.08699</td>\n",
       "      <td>1.08592</td>\n",
       "      <td>1.08687</td>\n",
       "      <td>3455</td>\n",
       "      <td>0.00012</td>\n",
       "      <td>0.00078</td>\n",
       "      <td>0.00083</td>\n",
       "      <td>0.00017</td>\n",
       "      <td>0.00010</td>\n",
       "      <td>...</td>\n",
       "      <td>4415</td>\n",
       "      <td>2774</td>\n",
       "      <td>1650</td>\n",
       "      <td>2180</td>\n",
       "      <td>1785</td>\n",
       "      <td>2360</td>\n",
       "      <td>2775</td>\n",
       "      <td>1.08620</td>\n",
       "      <td>0</td>\n",
       "      <td>1</td>\n",
       "    </tr>\n",
       "    <tr>\n",
       "      <th>2024-10-31 15:00:00</th>\n",
       "      <td>1.08689</td>\n",
       "      <td>1.08866</td>\n",
       "      <td>1.08640</td>\n",
       "      <td>1.08796</td>\n",
       "      <td>8350</td>\n",
       "      <td>0.00070</td>\n",
       "      <td>0.00049</td>\n",
       "      <td>0.00012</td>\n",
       "      <td>0.00078</td>\n",
       "      <td>0.00083</td>\n",
       "      <td>...</td>\n",
       "      <td>4707</td>\n",
       "      <td>4415</td>\n",
       "      <td>2774</td>\n",
       "      <td>1650</td>\n",
       "      <td>2180</td>\n",
       "      <td>1785</td>\n",
       "      <td>2360</td>\n",
       "      <td>1.08705</td>\n",
       "      <td>0</td>\n",
       "      <td>1</td>\n",
       "    </tr>\n",
       "    <tr>\n",
       "      <th>2024-10-31 16:00:00</th>\n",
       "      <td>1.08798</td>\n",
       "      <td>1.08882</td>\n",
       "      <td>1.08559</td>\n",
       "      <td>1.08595</td>\n",
       "      <td>8220</td>\n",
       "      <td>0.00287</td>\n",
       "      <td>0.00239</td>\n",
       "      <td>0.00070</td>\n",
       "      <td>0.00049</td>\n",
       "      <td>0.00012</td>\n",
       "      <td>...</td>\n",
       "      <td>3919</td>\n",
       "      <td>4707</td>\n",
       "      <td>4415</td>\n",
       "      <td>2774</td>\n",
       "      <td>1650</td>\n",
       "      <td>2180</td>\n",
       "      <td>1785</td>\n",
       "      <td>1.08774</td>\n",
       "      <td>1</td>\n",
       "      <td>0</td>\n",
       "    </tr>\n",
       "    <tr>\n",
       "      <th>2024-10-31 17:00:00</th>\n",
       "      <td>1.08596</td>\n",
       "      <td>1.08768</td>\n",
       "      <td>1.08517</td>\n",
       "      <td>1.08648</td>\n",
       "      <td>9082</td>\n",
       "      <td>0.00120</td>\n",
       "      <td>0.00079</td>\n",
       "      <td>0.00287</td>\n",
       "      <td>0.00239</td>\n",
       "      <td>0.00070</td>\n",
       "      <td>...</td>\n",
       "      <td>4153</td>\n",
       "      <td>3919</td>\n",
       "      <td>4707</td>\n",
       "      <td>4415</td>\n",
       "      <td>2774</td>\n",
       "      <td>1650</td>\n",
       "      <td>2180</td>\n",
       "      <td>1.08814</td>\n",
       "      <td>1</td>\n",
       "      <td>0</td>\n",
       "    </tr>\n",
       "  </tbody>\n",
       "</table>\n",
       "<p>60690 rows × 51 columns</p>\n",
       "</div>"
      ],
      "text/plain": [
       "                        open     high      low    close  volume  grn_shd  \\\n",
       "date                                                                       \n",
       "2015-01-21 11:00:00  1.15718  1.15854  1.15639  1.15701   11413  0.00153   \n",
       "2015-01-21 12:00:00  1.15702  1.15825  1.15644  1.15708    9183  0.00117   \n",
       "2015-01-21 13:00:00  1.15708  1.15834  1.15659  1.15756    8863  0.00078   \n",
       "2015-01-21 14:00:00  1.15757  1.15928  1.15706  1.15885    8106  0.00043   \n",
       "2015-01-21 15:00:00  1.15885  1.16365  1.15865  1.16322   17556  0.00043   \n",
       "...                      ...      ...      ...      ...     ...      ...   \n",
       "2024-10-31 13:00:00  1.08663  1.08754  1.08646  1.08671    4153  0.00083   \n",
       "2024-10-31 14:00:00  1.08670  1.08699  1.08592  1.08687    3455  0.00012   \n",
       "2024-10-31 15:00:00  1.08689  1.08866  1.08640  1.08796    8350  0.00070   \n",
       "2024-10-31 16:00:00  1.08798  1.08882  1.08559  1.08595    8220  0.00287   \n",
       "2024-10-31 17:00:00  1.08596  1.08768  1.08517  1.08648    9082  0.00120   \n",
       "\n",
       "                     red_shd  grn_shd_1  red_shd_1  grn_shd_2  ...  volume_4  \\\n",
       "date                                                           ...             \n",
       "2015-01-21 11:00:00  0.00079    0.00038    0.00100    0.00275  ...      3426   \n",
       "2015-01-21 12:00:00  0.00058    0.00153    0.00079    0.00038  ...      6099   \n",
       "2015-01-21 13:00:00  0.00049    0.00117    0.00058    0.00153  ...      9432   \n",
       "2015-01-21 14:00:00  0.00051    0.00078    0.00049    0.00117  ...     12310   \n",
       "2015-01-21 15:00:00  0.00020    0.00043    0.00051    0.00078  ...     11413   \n",
       "...                      ...        ...        ...        ...  ...       ...   \n",
       "2024-10-31 13:00:00  0.00017    0.00010    0.00018    0.00048  ...      2774   \n",
       "2024-10-31 14:00:00  0.00078    0.00083    0.00017    0.00010  ...      4415   \n",
       "2024-10-31 15:00:00  0.00049    0.00012    0.00078    0.00083  ...      4707   \n",
       "2024-10-31 16:00:00  0.00239    0.00070    0.00049    0.00012  ...      3919   \n",
       "2024-10-31 17:00:00  0.00079    0.00287    0.00239    0.00070  ...      4153   \n",
       "\n",
       "                     volume_5  volume_6  volume_7  volume_8  volume_9  \\\n",
       "date                                                                    \n",
       "2015-01-21 11:00:00      4661      6043      2956      3421      3823   \n",
       "2015-01-21 12:00:00      3426      4661      6043      2956      3421   \n",
       "2015-01-21 13:00:00      6099      3426      4661      6043      2956   \n",
       "2015-01-21 14:00:00      9432      6099      3426      4661      6043   \n",
       "2015-01-21 15:00:00     12310      9432      6099      3426      4661   \n",
       "...                       ...       ...       ...       ...       ...   \n",
       "2024-10-31 13:00:00      1650      2180      1785      2360      2775   \n",
       "2024-10-31 14:00:00      2774      1650      2180      1785      2360   \n",
       "2024-10-31 15:00:00      4415      2774      1650      2180      1785   \n",
       "2024-10-31 16:00:00      4707      4415      2774      1650      2180   \n",
       "2024-10-31 17:00:00      3919      4707      4415      2774      1650   \n",
       "\n",
       "                     volume_10  y_close  y_true  y_true_down  \n",
       "date                                                          \n",
       "2015-01-21 11:00:00       2564  1.15862       1            0  \n",
       "2015-01-21 12:00:00       3823  1.15828       1            0  \n",
       "2015-01-21 13:00:00       3421  1.15737       0            1  \n",
       "2015-01-21 14:00:00       2956  1.15729       0            1  \n",
       "2015-01-21 15:00:00       6043  1.15900       0            1  \n",
       "...                        ...      ...     ...          ...  \n",
       "2024-10-31 13:00:00       2342  1.08583       0            1  \n",
       "2024-10-31 14:00:00       2775  1.08620       0            1  \n",
       "2024-10-31 15:00:00       2360  1.08705       0            1  \n",
       "2024-10-31 16:00:00       1785  1.08774       1            0  \n",
       "2024-10-31 17:00:00       2180  1.08814       1            0  \n",
       "\n",
       "[60690 rows x 51 columns]"
      ]
     },
     "execution_count": 154,
     "metadata": {},
     "output_type": "execute_result"
    }
   ],
   "source": [
    "df"
   ]
  },
  {
   "cell_type": "code",
   "execution_count": 156,
   "id": "de1177f4-2624-4673-b113-34a84037b3f4",
   "metadata": {
    "tags": []
   },
   "outputs": [
    {
     "name": "stdout",
     "output_type": "stream",
     "text": [
      "          count  pct\n",
      "train     36414  0.6\n",
      "valid     12138  0.2\n",
      "test      12138  0.2\n",
      "                    \n",
      "Amount    60690  1.0\n",
      "InitData  60690     \n"
     ]
    }
   ],
   "source": [
    "train, valid, test = pdf.split.inherit_train_valid_test(df)"
   ]
  },
  {
   "cell_type": "code",
   "execution_count": 158,
   "id": "79c17bab-5ae6-435b-9759-eb45e1a59fa9",
   "metadata": {
    "tags": []
   },
   "outputs": [
    {
     "name": "stdout",
     "output_type": "stream",
     "text": [
      "          count  pct\n",
      "train     18207  0.5\n",
      "test      18207  0.5\n",
      "                    \n",
      "Amount    36414  1.0\n",
      "InitData  36414     \n"
     ]
    }
   ],
   "source": [
    "train1, train2 = pdf.split.inherit_train_test(train, train_size=0.5)"
   ]
  },
  {
   "cell_type": "markdown",
   "id": "9db8958d-91c2-4837-934c-1a9c1308c220",
   "metadata": {},
   "source": [
    "# CatBoost Обучение"
   ]
  },
  {
   "cell_type": "code",
   "execution_count": 160,
   "id": "82b7cd8d-22d7-4f0d-a4ff-da44c09a2fa4",
   "metadata": {
    "tags": []
   },
   "outputs": [
    {
     "data": {
      "text/plain": [
       "Index(['open', 'high', 'low', 'close', 'volume', 'grn_shd', 'red_shd',\n",
       "       'grn_shd_1', 'red_shd_1', 'grn_shd_2', 'red_shd_2', 'grn_shd_3',\n",
       "       'red_shd_3', 'grn_shd_4', 'red_shd_4', 'grn_shd_5', 'red_shd_5',\n",
       "       'grn_shd_6', 'red_shd_6', 'grn_shd_7', 'red_shd_7', 'grn_shd_8',\n",
       "       'red_shd_8', 'grn_shd_9', 'red_shd_9', 'grn_shd_10', 'red_shd_10',\n",
       "       'trend_cls', 'trend_cls_1', 'trend_cls_2', 'trend_cls_3', 'trend_cls_4',\n",
       "       'trend_cls_5', 'trend_cls_6', 'trend_cls_7', 'trend_cls_8',\n",
       "       'trend_cls_9', 'trend_cls_10', 'volume_1', 'volume_2', 'volume_3',\n",
       "       'volume_4', 'volume_5', 'volume_6', 'volume_7', 'volume_8', 'volume_9',\n",
       "       'volume_10', 'y_close', 'y_true', 'y_true_down'],\n",
       "      dtype='object')"
      ]
     },
     "execution_count": 160,
     "metadata": {},
     "output_type": "execute_result"
    }
   ],
   "source": [
    "train.columns"
   ]
  },
  {
   "cell_type": "code",
   "execution_count": 162,
   "id": "58f75b2e-7b1c-4810-9e86-6e959701462b",
   "metadata": {
    "tags": []
   },
   "outputs": [],
   "source": [
    "list_base = ['open', 'high', 'low', 'close', 'volume']\n",
    "\n",
    "list_L1_ind = ['rsi', 'sma', 'lma', 'return', 'stoch']\n",
    "list_L1_cst = ['shd', 'trend', 'volume_']\n",
    "\n",
    "list_cat_feat = ['cls']\n",
    "\n",
    "list_y = ['y_close']"
   ]
  },
  {
   "cell_type": "code",
   "execution_count": 164,
   "id": "b8d96ed8-34f7-427c-a7d4-457ff9dd6e4f",
   "metadata": {
    "tags": []
   },
   "outputs": [
    {
     "name": "stdout",
     "output_type": "stream",
     "text": [
      "XL1 len: 48\n",
      "XL1:\n",
      "\t['open', 'high', 'low', 'close', 'volume', 'grn_shd', 'red_shd', 'grn_shd_1', 'red_shd_1', 'grn_shd_2', 'red_shd_2', 'grn_shd_3', 'red_shd_3', 'grn_shd_4', 'red_shd_4', 'grn_shd_5', 'red_shd_5', 'grn_shd_6', 'red_shd_6', 'grn_shd_7', 'red_shd_7', 'grn_shd_8', 'red_shd_8', 'grn_shd_9', 'red_shd_9', 'grn_shd_10', 'red_shd_10', 'trend_cls', 'trend_cls_1', 'trend_cls_2', 'trend_cls_3', 'trend_cls_4', 'trend_cls_5', 'trend_cls_6', 'trend_cls_7', 'trend_cls_8', 'trend_cls_9', 'trend_cls_10', 'volume_1', 'volume_2', 'volume_3', 'volume_4', 'volume_5', 'volume_6', 'volume_7', 'volume_8', 'volume_9', 'volume_10']\n",
      "\n",
      "cat len: 11\n",
      "cat:\n",
      "\t['trend_cls', 'trend_cls_1', 'trend_cls_2', 'trend_cls_3', 'trend_cls_4', 'trend_cls_5', 'trend_cls_6', 'trend_cls_7', 'trend_cls_8', 'trend_cls_9', 'trend_cls_10']\n",
      "\n",
      "y_close: \n",
      "\t['y_close']\n"
     ]
    }
   ],
   "source": [
    "XL1 = list_base.copy()\n",
    "for x1 in list_L1_cst + list_L1_ind:\n",
    "    for x2 in list(train.columns):\n",
    "        if x1 in x2: XL1.append(x2)\n",
    "\n",
    "print(f'XL1 len: {len(XL1)}')\n",
    "print(f'XL1:\\n\\t{XL1}')\n",
    "print()\n",
    "\n",
    "# --------\n",
    "\n",
    "cat_features = []\n",
    "for c1 in list_cat_feat:\n",
    "    for c2 in list(train.columns):\n",
    "        if c1 in c2: cat_features.append(c2)\n",
    "    \n",
    "print(f'cat len: {len(cat_features)}')\n",
    "print(f'cat:\\n\\t{cat_features}')\n",
    "print()\n",
    "\n",
    "y = []\n",
    "for y1 in list_y:\n",
    "    for y2 in list(train.columns):\n",
    "        if y1 in y2: y.append(y2)\n",
    "\n",
    "print(f'y_close: \\n\\t{y}')"
   ]
  },
  {
   "cell_type": "code",
   "execution_count": 166,
   "id": "5a4148f6-559d-4835-bd0a-0f331a3a69ab",
   "metadata": {
    "tags": []
   },
   "outputs": [],
   "source": [
    "warnings.simplefilter(action='ignore', category=FutureWarning)\n",
    "warnings.simplefilter(action='ignore', category=pd.errors.PerformanceWarning)\n",
    "warnings.simplefilter(action='ignore', category=pd.errors.SettingWithCopyWarning)\n",
    "\n",
    "train[cat_features]  = train[cat_features].astype(int)\n",
    "train1[cat_features] = train[cat_features].astype(int)\n",
    "train2[cat_features] = train[cat_features].astype(int)\n",
    "\n",
    "valid[cat_features]  = valid[cat_features].astype(int)\n",
    "test[cat_features]   = test[cat_features].astype(int)"
   ]
  },
  {
   "cell_type": "markdown",
   "id": "43a40752-92d7-4371-8bc8-f61a8a37ebba",
   "metadata": {},
   "source": [
    "## Level 1 - Regression"
   ]
  },
  {
   "cell_type": "markdown",
   "id": "b638d5c7-2261-4e30-9d66-cfce6296b73d",
   "metadata": {
    "tags": []
   },
   "source": [
    "### Regression 1"
   ]
  },
  {
   "cell_type": "code",
   "execution_count": 171,
   "id": "1185dbff-f3bd-4b1d-abbc-6c82bdd0d8a2",
   "metadata": {
    "tags": []
   },
   "outputs": [],
   "source": [
    "param_R1L1 = {\n",
    "    'cat_features': cat_features,\n",
    "    'task_type': 'GPU',\n",
    "    'early_stopping_rounds': 100,\n",
    "    'eval_metric': 'MAPE',\n",
    "    'random_seed': 42,\n",
    "    'verbose': 200,\n",
    "    'iterations': 3000,\n",
    "    'learning_rate': 0.005,\n",
    "    # 'depth': 12,\n",
    "}"
   ]
  },
  {
   "cell_type": "code",
   "execution_count": 174,
   "id": "194dc507-7ca1-4212-bb0d-2c1c43eec9a4",
   "metadata": {
    "tags": []
   },
   "outputs": [],
   "source": [
    "model_R1L1 = CatBoostRegressor(**param_R1L1)"
   ]
  },
  {
   "cell_type": "code",
   "execution_count": 177,
   "id": "83761a23-8ddb-4a37-8b71-468f91881fed",
   "metadata": {
    "tags": []
   },
   "outputs": [
    {
     "name": "stdout",
     "output_type": "stream",
     "text": [
      "0:\tlearn: 0.0262774\ttest: 0.0620087\tbest: 0.0620087 (0)\ttotal: 96.9ms\tremaining: 4m 50s\n",
      "200:\tlearn: 0.0101248\ttest: 0.0330357\tbest: 0.0330357 (200)\ttotal: 2.81s\tremaining: 39.1s\n",
      "400:\tlearn: 0.0044408\ttest: 0.0202041\tbest: 0.0202041 (400)\ttotal: 5.49s\tremaining: 35.6s\n",
      "600:\tlearn: 0.0026229\ttest: 0.0149494\tbest: 0.0149494 (600)\ttotal: 8.21s\tremaining: 32.8s\n",
      "800:\tlearn: 0.0021508\ttest: 0.0128195\tbest: 0.0128195 (800)\ttotal: 11s\tremaining: 30.1s\n",
      "1000:\tlearn: 0.0020445\ttest: 0.0120124\tbest: 0.0120124 (1000)\ttotal: 13.8s\tremaining: 27.5s\n",
      "1200:\tlearn: 0.0020187\ttest: 0.0117169\tbest: 0.0117169 (1200)\ttotal: 16.6s\tremaining: 24.8s\n",
      "1400:\tlearn: 0.0020091\ttest: 0.0115859\tbest: 0.0115859 (1400)\ttotal: 19.4s\tremaining: 22.1s\n",
      "1600:\tlearn: 0.0020030\ttest: 0.0115326\tbest: 0.0115326 (1600)\ttotal: 22.1s\tremaining: 19.3s\n",
      "1800:\tlearn: 0.0019998\ttest: 0.0115059\tbest: 0.0115059 (1800)\ttotal: 24.6s\tremaining: 16.4s\n",
      "2000:\tlearn: 0.0019974\ttest: 0.0114966\tbest: 0.0114966 (1994)\ttotal: 26.7s\tremaining: 13.3s\n",
      "2200:\tlearn: 0.0019959\ttest: 0.0114925\tbest: 0.0114924 (2147)\ttotal: 28.9s\tremaining: 10.5s\n",
      "2400:\tlearn: 0.0019946\ttest: 0.0114913\tbest: 0.0114909 (2309)\ttotal: 30.9s\tremaining: 7.7s\n",
      "bestTest = 0.01149089522\n",
      "bestIteration = 2309\n",
      "Shrink model to first 2310 iterations.\n",
      "TIME: 00:00:31\n"
     ]
    }
   ],
   "source": [
    "start = time.time()\n",
    "model_R1L1.fit(train1[XL1], train1[y], eval_set=(valid[XL1], valid[y]))\n",
    "print(f'TIME: {time.strftime(\"%H:%M:%S\", time.gmtime(time.time() - start))}')"
   ]
  },
  {
   "cell_type": "code",
   "execution_count": 199,
   "id": "1a9381b1-69f0-4ab0-b8e0-83301c0dc136",
   "metadata": {
    "tags": []
   },
   "outputs": [
    {
     "name": "stdout",
     "output_type": "stream",
     "text": [
      "R1L1_3.cbm\n"
     ]
    }
   ],
   "source": [
    "model_R1L1.save_model(get_savemodel_name('R1L1'))"
   ]
  },
  {
   "cell_type": "code",
   "execution_count": 202,
   "id": "2b9ad059-f612-45b9-b7de-0102ed74c89e",
   "metadata": {
    "tags": []
   },
   "outputs": [],
   "source": [
    "warnings.simplefilter(action='ignore', category=FutureWarning)\n",
    "warnings.simplefilter(action='ignore', category=pd.errors.PerformanceWarning)\n",
    "warnings.simplefilter(action='ignore', category=pd.errors.SettingWithCopyWarning)\n",
    "\n",
    "train.loc[:, 'predict_R1L1']     = model_R1L1.predict(train[XL1])\n",
    "train.loc[:, 'predict_cls_R1L1'] = (train.loc[:, 'close'] < train.loc[:, 'predict_R1L1']) * 1\n",
    "\n",
    "train1.loc[:, 'predict_R1L1']     = model_R1L1.predict(train1[XL1])\n",
    "train1.loc[:, 'predict_cls_R1L1'] = (train1.loc[:, 'close'] < train1.loc[:, 'predict_R1L1']) * 1\n",
    "\n",
    "train2.loc[:, 'predict_R1L1']     = model_R1L1.predict(train2[XL1])\n",
    "train2.loc[:, 'predict_cls_R1L1'] = (train2.loc[:, 'close'] < train2.loc[:, 'predict_R1L1']) * 1\n",
    "\n",
    "valid.loc[:, 'predict_R1L1']     = model_R1L1.predict(valid[XL1])\n",
    "valid.loc[:, 'predict_cls_R1L1'] = (valid.loc[:, 'close'] < valid.loc[:, 'predict_R1L1']) * 1"
   ]
  },
  {
   "cell_type": "code",
   "execution_count": 205,
   "id": "87f9fd13-aba8-4eba-b93e-f8c66d72abe3",
   "metadata": {
    "tags": []
   },
   "outputs": [
    {
     "name": "stdout",
     "output_type": "stream",
     "text": [
      "        current\n",
      "MAE    0.001776\n",
      "MAPE   0.001648\n",
      "SMAPE  0.001647\n",
      "RMSE   0.002674\n",
      "RMSLE  0.001291\n",
      "CONFMAT  (2501, 3408, 2530, 3699)              \n",
      "ROC_AUC  0.51\n",
      "PRECREC  0.52\n"
     ]
    }
   ],
   "source": [
    "warnings.simplefilter(action='ignore', category=FutureWarning)\n",
    "warnings.simplefilter(action='ignore', category=pd.errors.PerformanceWarning)\n",
    "warnings.simplefilter(action='ignore', category=pd.errors.SettingWithCopyWarning)\n",
    "\n",
    "test.loc[:, 'predict_R1L1']     = model_R1L1.predict(test[XL1]);\n",
    "test.loc[:, 'predict_cls_R1L1'] = (test.loc[:,'close'] < test.loc[:,'predict_R1L1']) * 1;\n",
    "\n",
    "pdf.metrics.mean_error(test['y_close'], test['predict_R1L1'])\n",
    "pdf.metrics.metrics_class(test['y_true'], test['predict_cls_R1L1'])"
   ]
  },
  {
   "cell_type": "markdown",
   "id": "074a7f84-134a-4624-991a-83fdc62eb86c",
   "metadata": {},
   "source": [
    "### Regression 2"
   ]
  },
  {
   "cell_type": "code",
   "execution_count": 210,
   "id": "b61ab5c2-c6db-4e97-86a6-7f9c5889f677",
   "metadata": {
    "tags": []
   },
   "outputs": [],
   "source": [
    "param_R2L1 = param_R1L1"
   ]
  },
  {
   "cell_type": "code",
   "execution_count": 213,
   "id": "62e3dd7d-0255-40ce-a5e2-1720b4550fe6",
   "metadata": {
    "tags": []
   },
   "outputs": [],
   "source": [
    "model_R2L1 = CatBoostRegressor(**param_R2L1)"
   ]
  },
  {
   "cell_type": "code",
   "execution_count": 216,
   "id": "1d430db2-ee5a-46b1-9f7f-543e01ff4128",
   "metadata": {
    "tags": []
   },
   "outputs": [
    {
     "name": "stdout",
     "output_type": "stream",
     "text": [
      "0:\tlearn: 0.0297664\ttest: 0.0601716\tbest: 0.0601716 (0)\ttotal: 15.9ms\tremaining: 47.6s\n",
      "200:\tlearn: 0.0111896\ttest: 0.0342353\tbest: 0.0342353 (200)\ttotal: 2.76s\tremaining: 38.5s\n",
      "400:\tlearn: 0.0044521\ttest: 0.0243129\tbest: 0.0243129 (400)\ttotal: 5.63s\tremaining: 36.5s\n",
      "600:\tlearn: 0.0022461\ttest: 0.0202282\tbest: 0.0202282 (600)\ttotal: 8.44s\tremaining: 33.7s\n",
      "800:\tlearn: 0.0016629\ttest: 0.0185450\tbest: 0.0185450 (800)\ttotal: 11.2s\tremaining: 30.7s\n",
      "1000:\tlearn: 0.0015355\ttest: 0.0179888\tbest: 0.0179888 (1000)\ttotal: 14s\tremaining: 27.9s\n",
      "1200:\tlearn: 0.0015026\ttest: 0.0177811\tbest: 0.0177811 (1200)\ttotal: 17s\tremaining: 25.4s\n",
      "1400:\tlearn: 0.0014892\ttest: 0.0177109\tbest: 0.0177109 (1400)\ttotal: 19.8s\tremaining: 22.6s\n",
      "1600:\tlearn: 0.0014813\ttest: 0.0176918\tbest: 0.0176918 (1600)\ttotal: 22.6s\tremaining: 19.8s\n",
      "1800:\tlearn: 0.0014758\ttest: 0.0176881\tbest: 0.0176881 (1800)\ttotal: 25.4s\tremaining: 16.9s\n",
      "bestTest = 0.01768763931\n",
      "bestIteration = 1832\n",
      "Shrink model to first 1833 iterations.\n",
      "TIME: 00:00:27\n"
     ]
    }
   ],
   "source": [
    "start = time.time()\n",
    "model_R2L1.fit(train2[XL1], train2[y], eval_set=(valid[XL1], valid[y]))\n",
    "print(f'TIME: {time.strftime(\"%H:%M:%S\", time.gmtime(time.time() - start))}')"
   ]
  },
  {
   "cell_type": "code",
   "execution_count": 219,
   "id": "e81cd442-8e2d-4057-a71a-513f2cc6894c",
   "metadata": {
    "tags": []
   },
   "outputs": [
    {
     "name": "stdout",
     "output_type": "stream",
     "text": [
      "R2L1_1.cbm\n"
     ]
    }
   ],
   "source": [
    "model_R2L1.save_model(get_savemodel_name('R2L1'))"
   ]
  },
  {
   "cell_type": "code",
   "execution_count": 222,
   "id": "4bb85be6-27e3-4496-995e-092ac665bcfe",
   "metadata": {
    "tags": []
   },
   "outputs": [],
   "source": [
    "warnings.simplefilter(action='ignore', category=FutureWarning)\n",
    "warnings.simplefilter(action='ignore', category=pd.errors.PerformanceWarning)\n",
    "warnings.simplefilter(action='ignore', category=pd.errors.SettingWithCopyWarning)\n",
    "\n",
    "train.loc[:, 'predict_R2L1']     = model_R2L1.predict(train.loc[:,XL1])\n",
    "train.loc[:, 'predict_cls_R2L1'] = (train.loc[:, 'close'] < train.loc[:, 'predict_R2L1']) * 1\n",
    "\n",
    "train1.loc[:, 'predict_R2L1']     = model_R2L1.predict(train1.loc[:,XL1])\n",
    "train1.loc[:, 'predict_cls_R2L1'] = (train1.loc[:, 'close'] < train1.loc[:, 'predict_R2L1']) * 1\n",
    "\n",
    "train2.loc[:, 'predict_R2L1']     = model_R2L1.predict(train2.loc[:,XL1])\n",
    "train2.loc[:, 'predict_cls_R2L1'] = (train2.loc[:, 'close'] < train2.loc[:, 'predict_R2L1']) * 1\n",
    "\n",
    "valid.loc[:, 'predict_R2L1']     = model_R2L1.predict(valid.loc[:,XL1])\n",
    "valid.loc[:, 'predict_cls_R2L1'] = (valid.loc[:, 'close'] < valid.loc[:, 'predict_R2L1']) * 1"
   ]
  },
  {
   "cell_type": "code",
   "execution_count": 225,
   "id": "cbaadc6f-3cc9-48d1-b781-5c887b758855",
   "metadata": {
    "tags": []
   },
   "outputs": [
    {
     "name": "stdout",
     "output_type": "stream",
     "text": [
      "        current\n",
      "MAE    0.005939\n",
      "MAPE   0.005588\n",
      "SMAPE  0.005541\n",
      "RMSE   0.010382\n",
      "RMSLE  0.005028\n",
      "CONFMAT  (1332, 4577, 1285, 4944)              \n",
      "ROC_AUC  0.51\n",
      "PRECREC  0.52\n"
     ]
    }
   ],
   "source": [
    "warnings.simplefilter(action='ignore', category=FutureWarning)\n",
    "warnings.simplefilter(action='ignore', category=pd.errors.PerformanceWarning)\n",
    "warnings.simplefilter(action='ignore', category=pd.errors.SettingWithCopyWarning)\n",
    "\n",
    "test.loc[:, 'predict_R2L1']     = model_R2L1.predict(test.loc[:,XL1])\n",
    "test.loc[:, 'predict_cls_R2L1'] = (test.loc[:,'close'] < test.loc[:,'predict_R2L1']) * 1\n",
    "\n",
    "pdf.metrics.mean_error(test.loc[:,'y_close'], test.loc[:,'predict_R2L1'])\n",
    "pdf.metrics.metrics_class(test.loc[:,'y_true'], test.loc[:,'predict_cls_R2L1'])"
   ]
  },
  {
   "cell_type": "markdown",
   "id": "80e1b01d-39fb-4331-9f78-d61bc6473a38",
   "metadata": {},
   "source": [
    "## Level 2 - Classification"
   ]
  },
  {
   "cell_type": "markdown",
   "id": "299607c3-80d5-43a8-babb-ded385ec9551",
   "metadata": {},
   "source": [
    "### Classification 1 - UP"
   ]
  },
  {
   "cell_type": "code",
   "execution_count": 233,
   "id": "c0acf50b-bb75-4069-9991-7b3948591e7c",
   "metadata": {
    "tags": []
   },
   "outputs": [
    {
     "name": "stdout",
     "output_type": "stream",
     "text": [
      "XL2 len: 52\n",
      "XL2: \n",
      "\t['open', 'high', 'low', 'close', 'volume', 'grn_shd', 'red_shd', 'grn_shd_1', 'red_shd_1', 'grn_shd_2', 'red_shd_2', 'grn_shd_3', 'red_shd_3', 'grn_shd_4', 'red_shd_4', 'grn_shd_5', 'red_shd_5', 'grn_shd_6', 'red_shd_6', 'grn_shd_7', 'red_shd_7', 'grn_shd_8', 'red_shd_8', 'grn_shd_9', 'red_shd_9', 'grn_shd_10', 'red_shd_10', 'trend_cls', 'trend_cls_1', 'trend_cls_2', 'trend_cls_3', 'trend_cls_4', 'trend_cls_5', 'trend_cls_6', 'trend_cls_7', 'trend_cls_8', 'trend_cls_9', 'trend_cls_10', 'volume_1', 'volume_2', 'volume_3', 'volume_4', 'volume_5', 'volume_6', 'volume_7', 'volume_8', 'volume_9', 'volume_10', 'predict_R1L1', 'predict_R2L1', 'predict_cls_R1L1', 'predict_cls_R2L1']\n",
      "\n",
      "cat len: 13\n",
      "cat:\n",
      "\t['trend_cls', 'trend_cls_1', 'trend_cls_2', 'trend_cls_3', 'trend_cls_4', 'trend_cls_5', 'trend_cls_6', 'trend_cls_7', 'trend_cls_8', 'trend_cls_9', 'trend_cls_10', 'predict_cls_R1L1', 'predict_cls_R2L1']\n",
      "\n",
      "y_up: \n",
      "\ty_true\n",
      "y_down: \n",
      "\ty_true_down\n"
     ]
    }
   ],
   "source": [
    "list_L2 = ['predict_R1L1',  'predict_R2L1',\n",
    "           'predict_cls_R1L1', 'predict_cls_R2L1']\n",
    "\n",
    "XL2 = []\n",
    "XL2 = XL1.copy() + list_L2.copy()\n",
    "\n",
    "print(f'XL2 len: {len(XL2)}')\n",
    "print(f'XL2: \\n\\t{XL2}')\n",
    "print()\n",
    "\n",
    "cat_features = []\n",
    "for c1 in list_cat_feat:\n",
    "    for c2 in list(XL2):\n",
    "        if c1 in c2: \n",
    "            cat_features.append(c2)\n",
    "    \n",
    "print(f'cat len: {len(cat_features)}')\n",
    "print(f'cat:\\n\\t{cat_features}')\n",
    "print()\n",
    "\n",
    "y_up = 'y_true'\n",
    "y_down = 'y_true_down'\n",
    "\n",
    "print(f'y_up: \\n\\t{y_up}')\n",
    "print(f'y_down: \\n\\t{y_down}')"
   ]
  },
  {
   "cell_type": "code",
   "execution_count": 236,
   "id": "d7b71534-36e2-4db5-8c10-10a51d9a3f06",
   "metadata": {
    "tags": []
   },
   "outputs": [],
   "source": [
    "paramC1L2 = {\n",
    "    'cat_features': cat_features,\n",
    "    'task_type': 'GPU',\n",
    "    'early_stopping_rounds': 100,\n",
    "    # 'eval_metric': 'ROC',\n",
    "    'random_seed': 42,\n",
    "    'verbose': 200,\n",
    "    'iterations': 3000,\n",
    "    'learning_rate': 0.005,\n",
    "    # 'depth': 12,\n",
    "}"
   ]
  },
  {
   "cell_type": "code",
   "execution_count": 239,
   "id": "88440570-2ae2-42e2-867f-2b6e951a9325",
   "metadata": {
    "tags": []
   },
   "outputs": [],
   "source": [
    "model_C1L2 = CatBoostClassifier(**paramC1L2)"
   ]
  },
  {
   "cell_type": "code",
   "execution_count": 245,
   "id": "b9fb2c31-4e3c-44bc-b8ff-67b7db1830de",
   "metadata": {
    "tags": []
   },
   "outputs": [
    {
     "name": "stdout",
     "output_type": "stream",
     "text": [
      "0:\tlearn: 0.6930911\ttest: 0.6931420\tbest: 0.6931420 (0)\ttotal: 44.8ms\tremaining: 2m 14s\n",
      "bestTest = 0.6931419857\n",
      "bestIteration = 0\n",
      "Shrink model to first 1 iterations.\n",
      "TIME: 00:00:04\n"
     ]
    }
   ],
   "source": [
    "start = time.time()\n",
    "model_C1L2.fit(train[XL2], train[y_up], eval_set=(valid[XL2], valid[y_up]))\n",
    "print(f'TIME: {time.strftime(\"%H:%M:%S\", time.gmtime(time.time() - start))}')"
   ]
  },
  {
   "cell_type": "code",
   "execution_count": 248,
   "id": "f2afedd1-ec01-4ef9-8449-e6b4e900bd0d",
   "metadata": {
    "tags": []
   },
   "outputs": [
    {
     "name": "stdout",
     "output_type": "stream",
     "text": [
      "C1L2_1.cbm\n"
     ]
    }
   ],
   "source": [
    "model_C1L2.save_model(get_savemodel_name('C1L2'))"
   ]
  },
  {
   "cell_type": "code",
   "execution_count": 251,
   "id": "77442b96-2309-4460-b4b9-6f632e289256",
   "metadata": {
    "tags": []
   },
   "outputs": [
    {
     "name": "stdout",
     "output_type": "stream",
     "text": [
      "CONFMAT  (3195, 2714, 3226, 3003)              \n",
      "ROC_AUC  0.51\n",
      "PRECREC  0.52\n"
     ]
    }
   ],
   "source": [
    "warnings.simplefilter(action='ignore', category=FutureWarning)\n",
    "warnings.simplefilter(action='ignore', category=pd.errors.PerformanceWarning)\n",
    "warnings.simplefilter(action='ignore', category=pd.errors.SettingWithCopyWarning)\n",
    "\n",
    "test.loc[:, 'predict_C1L2_cls'] = model_C1L2.predict(test[XL2])\n",
    "pdf.metrics.metrics_class(test.loc[:, 'y_true'], test.loc[:, 'predict_C1L2_cls'])"
   ]
  },
  {
   "cell_type": "code",
   "execution_count": 254,
   "id": "71d13968-6a73-4471-9991-4df1f52bb8fe",
   "metadata": {
    "tags": []
   },
   "outputs": [],
   "source": [
    "warnings.simplefilter(action='ignore', category=FutureWarning)\n",
    "test.loc[:, 'pred_y_up'] = model_C1L2.predict_proba(test[XL2])[:,1]"
   ]
  },
  {
   "cell_type": "markdown",
   "id": "cd3db1ad-16a1-4328-8191-8cea9c075b54",
   "metadata": {
    "tags": []
   },
   "source": [
    "### Classification 1 - DOWN"
   ]
  },
  {
   "cell_type": "code",
   "execution_count": 265,
   "id": "c87652cf-943d-4266-8e43-2eea5946b05d",
   "metadata": {
    "tags": []
   },
   "outputs": [],
   "source": [
    "paramC2L2 = paramC1L2"
   ]
  },
  {
   "cell_type": "code",
   "execution_count": 268,
   "id": "05715f31-aeeb-40a6-8fbb-a2c6cd4e799c",
   "metadata": {
    "tags": []
   },
   "outputs": [],
   "source": [
    "model_C2L2 = CatBoostClassifier(**paramC2L2)"
   ]
  },
  {
   "cell_type": "code",
   "execution_count": 271,
   "id": "04e9f3ee-8ed9-4c78-8eb6-80029a65d78c",
   "metadata": {
    "tags": []
   },
   "outputs": [
    {
     "name": "stdout",
     "output_type": "stream",
     "text": [
      "0:\tlearn: 0.6930866\ttest: 0.6931387\tbest: 0.6931387 (0)\ttotal: 47.7ms\tremaining: 2m 22s\n",
      "bestTest = 0.693138687\n",
      "bestIteration = 0\n",
      "Shrink model to first 1 iterations.\n",
      "TIME: 00:00:04\n"
     ]
    }
   ],
   "source": [
    "start = time.time()\n",
    "model_C2L2.fit(train[XL2], train[y_down], eval_set=(valid[XL2], valid[y_down]))\n",
    "print(f'TIME: {time.strftime(\"%H:%M:%S\", time.gmtime(time.time() - start))}')"
   ]
  },
  {
   "cell_type": "code",
   "execution_count": 274,
   "id": "fbf86eeb-fdbc-4abb-896f-955874ddb765",
   "metadata": {
    "tags": []
   },
   "outputs": [
    {
     "name": "stdout",
     "output_type": "stream",
     "text": [
      "C2L2_1.cbm\n"
     ]
    }
   ],
   "source": [
    "model_C2L2.save_model(get_savemodel_name('C2L2'))"
   ]
  },
  {
   "cell_type": "code",
   "execution_count": 277,
   "id": "8915efe6-6280-4feb-9e74-cf63d174f9c2",
   "metadata": {
    "tags": []
   },
   "outputs": [
    {
     "name": "stdout",
     "output_type": "stream",
     "text": [
      "CONFMAT  (3817, 2446, 3498, 2377)              \n",
      "ROC_AUC  0.51\n",
      "PRECREC  0.49\n"
     ]
    }
   ],
   "source": [
    "warnings.simplefilter(action='ignore', category=FutureWarning)\n",
    "warnings.simplefilter(action='ignore', category=pd.errors.PerformanceWarning)\n",
    "warnings.simplefilter(action='ignore', category=pd.errors.SettingWithCopyWarning)\n",
    "\n",
    "test.loc[:, 'predict_C2L2_cls'] = model_C2L2.predict(test[XL2])\n",
    "pdf.metrics.metrics_class(test.loc[:, 'y_true_down'], test.loc[:, 'predict_C2L2_cls'])"
   ]
  },
  {
   "cell_type": "code",
   "execution_count": 280,
   "id": "b7be4949-703c-4e1e-bbac-21a28ff6fcd7",
   "metadata": {
    "tags": []
   },
   "outputs": [],
   "source": [
    "warnings.simplefilter(action='ignore', category=FutureWarning)\n",
    "warnings.simplefilter(action='ignore', category=pd.errors.PerformanceWarning)\n",
    "warnings.simplefilter(action='ignore', category=pd.errors.SettingWithCopyWarning)\n",
    "\n",
    "test.loc[:, 'pred_y_down'] = model_C2L2.predict_proba(test[XL2])[:,1]"
   ]
  },
  {
   "cell_type": "markdown",
   "id": "fe802361-7ce5-4af6-ab62-1d1428d9387e",
   "metadata": {},
   "source": [
    "# RESULTS"
   ]
  },
  {
   "cell_type": "code",
   "execution_count": 294,
   "id": "6f7b142d-b010-40c7-a6d0-882f5501cbb4",
   "metadata": {
    "tags": []
   },
   "outputs": [
    {
     "data": {
      "text/html": [
       "<div>\n",
       "<style scoped>\n",
       "    .dataframe tbody tr th:only-of-type {\n",
       "        vertical-align: middle;\n",
       "    }\n",
       "\n",
       "    .dataframe tbody tr th {\n",
       "        vertical-align: top;\n",
       "    }\n",
       "\n",
       "    .dataframe thead th {\n",
       "        text-align: right;\n",
       "    }\n",
       "</style>\n",
       "<table border=\"1\" class=\"dataframe\">\n",
       "  <thead>\n",
       "    <tr style=\"text-align: right;\">\n",
       "      <th></th>\n",
       "      <th>close</th>\n",
       "      <th>y_close</th>\n",
       "      <th>y_true</th>\n",
       "      <th>y_true_down</th>\n",
       "      <th>predict_C1L2_cls</th>\n",
       "      <th>predict_C2L2_cls</th>\n",
       "      <th>pred_y_up</th>\n",
       "      <th>pred_y_down</th>\n",
       "    </tr>\n",
       "    <tr>\n",
       "      <th>date</th>\n",
       "      <th></th>\n",
       "      <th></th>\n",
       "      <th></th>\n",
       "      <th></th>\n",
       "      <th></th>\n",
       "      <th></th>\n",
       "      <th></th>\n",
       "      <th></th>\n",
       "    </tr>\n",
       "  </thead>\n",
       "  <tbody>\n",
       "    <tr>\n",
       "      <th>2024-10-31 13:00:00</th>\n",
       "      <td>1.08671</td>\n",
       "      <td>1.08583</td>\n",
       "      <td>0</td>\n",
       "      <td>1</td>\n",
       "      <td>1</td>\n",
       "      <td>0</td>\n",
       "      <td>0.500208</td>\n",
       "      <td>0.499773</td>\n",
       "    </tr>\n",
       "    <tr>\n",
       "      <th>2024-10-31 14:00:00</th>\n",
       "      <td>1.08687</td>\n",
       "      <td>1.08620</td>\n",
       "      <td>0</td>\n",
       "      <td>1</td>\n",
       "      <td>0</td>\n",
       "      <td>0</td>\n",
       "      <td>0.499687</td>\n",
       "      <td>0.499996</td>\n",
       "    </tr>\n",
       "    <tr>\n",
       "      <th>2024-10-31 15:00:00</th>\n",
       "      <td>1.08796</td>\n",
       "      <td>1.08705</td>\n",
       "      <td>0</td>\n",
       "      <td>1</td>\n",
       "      <td>1</td>\n",
       "      <td>0</td>\n",
       "      <td>0.500258</td>\n",
       "      <td>0.499773</td>\n",
       "    </tr>\n",
       "    <tr>\n",
       "      <th>2024-10-31 16:00:00</th>\n",
       "      <td>1.08595</td>\n",
       "      <td>1.08774</td>\n",
       "      <td>1</td>\n",
       "      <td>0</td>\n",
       "      <td>1</td>\n",
       "      <td>0</td>\n",
       "      <td>0.500208</td>\n",
       "      <td>0.499773</td>\n",
       "    </tr>\n",
       "    <tr>\n",
       "      <th>2024-10-31 17:00:00</th>\n",
       "      <td>1.08648</td>\n",
       "      <td>1.08814</td>\n",
       "      <td>1</td>\n",
       "      <td>0</td>\n",
       "      <td>1</td>\n",
       "      <td>0</td>\n",
       "      <td>0.500258</td>\n",
       "      <td>0.499773</td>\n",
       "    </tr>\n",
       "  </tbody>\n",
       "</table>\n",
       "</div>"
      ],
      "text/plain": [
       "                       close  y_close  y_true  y_true_down  predict_C1L2_cls  \\\n",
       "date                                                                           \n",
       "2024-10-31 13:00:00  1.08671  1.08583       0            1                 1   \n",
       "2024-10-31 14:00:00  1.08687  1.08620       0            1                 0   \n",
       "2024-10-31 15:00:00  1.08796  1.08705       0            1                 1   \n",
       "2024-10-31 16:00:00  1.08595  1.08774       1            0                 1   \n",
       "2024-10-31 17:00:00  1.08648  1.08814       1            0                 1   \n",
       "\n",
       "                     predict_C2L2_cls  pred_y_up  pred_y_down  \n",
       "date                                                           \n",
       "2024-10-31 13:00:00                 0   0.500208     0.499773  \n",
       "2024-10-31 14:00:00                 0   0.499687     0.499996  \n",
       "2024-10-31 15:00:00                 0   0.500258     0.499773  \n",
       "2024-10-31 16:00:00                 0   0.500208     0.499773  \n",
       "2024-10-31 17:00:00                 0   0.500258     0.499773  "
      ]
     },
     "execution_count": 294,
     "metadata": {},
     "output_type": "execute_result"
    }
   ],
   "source": [
    "res = []\n",
    "\n",
    "for i in test.columns:\n",
    "    if 'pred_' in i:\n",
    "        res.append(i)\n",
    "\n",
    "test[['close', 'y_close', 'y_true', 'y_true_down',\n",
    "      'predict_C1L2_cls', 'predict_C2L2_cls'] + res].tail(5)"
   ]
  },
  {
   "cell_type": "code",
   "execution_count": 343,
   "id": "d70fdcca-a5e8-4b44-b068-f65c82e7c942",
   "metadata": {
    "tags": []
   },
   "outputs": [
    {
     "data": {
      "image/png": "[encoded data removed]",
      "text/plain": [
       "<Figure size 1500x600 with 2 Axes>"
      ]
     },
     "metadata": {},
     "output_type": "display_data"
    }
   ],
   "source": [
    "warnings.simplefilter(action='ignore', category=FutureWarning)\n",
    "warnings.simplefilter(action='ignore', category=pd.errors.PerformanceWarning)\n",
    "warnings.simplefilter(action='ignore', category=pd.errors.SettingWithCopyWarning)\n",
    "\n",
    "data = test.tail(12*5)\n",
    "\n",
    "threshold = 0\n",
    "threshold = 0.0003\n",
    "\n",
    "data['ind_up'] = ((data['pred_y_up'] - data['pred_y_down']) > threshold).astype(float)\n",
    "data.loc[data['ind_up'] != 1, 'ind_up'] = float(\"NaN\")\n",
    "data.loc[data['ind_up'] == 1, 'ind_up'] = data['low'] - 0.0003\n",
    "\n",
    "data['ind_down'] = ((data['pred_y_down'] - data['pred_y_up']) > threshold).astype(float)\n",
    "data.loc[data['ind_down'] != 1, 'ind_down'] = float(\"NaN\")\n",
    "data.loc[data['ind_down'] == 1, 'ind_down'] = data['high'] + 0.0003\n",
    "\n",
    "\n",
    "add_plot = [\n",
    "    mpf.make_addplot(data['ind_up'],\n",
    "                     type='scatter', color='g',\n",
    "                     marker='^', markersize=50,\n",
    "                     panel=0,\n",
    "                     ),\n",
    "\n",
    "    mpf.make_addplot(data['ind_down'],\n",
    "                     type='scatter', color='r',\n",
    "                     marker='v', markersize=50,\n",
    "                     panel=0\n",
    "                     )\n",
    "]\n",
    "\n",
    "mc = mpf.make_marketcolors(\n",
    "    up='green', down='red',\n",
    "    edge='inherit',\n",
    "    wick='black',\n",
    "    volume='in',\n",
    "    ohlc='i',\n",
    ")\n",
    "\n",
    "s = mpf.make_mpf_style(\n",
    "    marketcolors=mc,\n",
    ")\n",
    "\n",
    "mpf.plot(\n",
    "    data,\n",
    "    type='candle',\n",
    "    volume=False,\n",
    "    figsize=(15, 6),\n",
    "    # title=my_title,\n",
    "    ylabel='Index Level',\n",
    "    xlabel='Time',\n",
    "    style=s,\n",
    "    addplot=add_plot\n",
    ")"
   ]
  }
 ],
 "metadata": {
  "kernelspec": {
   "display_name": "Python 3 (ipykernel)",
   "language": "python",
   "name": "python3"
  },
  "language_info": {
   "codemirror_mode": {
    "name": "ipython",
    "version": 3
   },
   "file_extension": ".py",
   "mimetype": "text/x-python",
   "name": "python",
   "nbconvert_exporter": "python",
   "pygments_lexer": "ipython3",
   "version": "3.11.7"
  },
  "toc-showmarkdowntxt": false,
  "widgets": {
   "application/vnd.jupyter.widget-state+json": {
    "state": {},
    "version_major": 2,
    "version_minor": 0
   }
  }
 },
 "nbformat": 4,
 "nbformat_minor": 5
}
