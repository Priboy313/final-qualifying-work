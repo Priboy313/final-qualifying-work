{
 "cells": [
  {
   "cell_type": "markdown",
   "id": "07458127-c488-4044-bc0b-10115da18520",
   "metadata": {},
   "source": [
    "# Воробьев К.А Дипломная работа \n",
    "<h1> Применение ансамблевых методов машинного обучение для составление графического финансового индикатора </h1>"
   ]
  },
  {
   "cell_type": "code",
   "execution_count": 3,
   "id": "b72a3eed-6a63-47ce-b264-fa23ff3d2db5",
   "metadata": {
    "collapsed": true,
    "jupyter": {
     "outputs_hidden": true
    },
    "tags": []
   },
   "outputs": [
    {
     "name": "stdout",
     "output_type": "stream",
     "text": [
      "Defaulting to user installation because normal site-packages is not writeable\n",
      "Requirement already satisfied: pandasflow in c:\\users\\priboy\\appdata\\roaming\\python\\python311\\site-packages (0.10.1)\n",
      "Requirement already satisfied: pandas in c:\\programdata\\anaconda3\\lib\\site-packages (from pandasflow) (2.1.4)\n",
      "Requirement already satisfied: scikit-learn in c:\\programdata\\anaconda3\\lib\\site-packages (from pandasflow) (1.2.2)\n",
      "Requirement already satisfied: phik in c:\\users\\priboy\\appdata\\roaming\\python\\python311\\site-packages (from pandasflow) (0.12.4)\n",
      "Requirement already satisfied: shap in c:\\users\\priboy\\appdata\\roaming\\python\\python311\\site-packages (from pandasflow) (0.45.0)\n",
      "Requirement already satisfied: tqdm in c:\\programdata\\anaconda3\\lib\\site-packages (from pandasflow) (4.65.0)\n",
      "Requirement already satisfied: numpy<2,>=1.23.2 in c:\\programdata\\anaconda3\\lib\\site-packages (from pandas->pandasflow) (1.26.4)\n",
      "Requirement already satisfied: python-dateutil>=2.8.2 in c:\\programdata\\anaconda3\\lib\\site-packages (from pandas->pandasflow) (2.8.2)\n",
      "Requirement already satisfied: pytz>=2020.1 in c:\\programdata\\anaconda3\\lib\\site-packages (from pandas->pandasflow) (2023.3.post1)\n",
      "Requirement already satisfied: tzdata>=2022.1 in c:\\programdata\\anaconda3\\lib\\site-packages (from pandas->pandasflow) (2023.3)\n",
      "Requirement already satisfied: scipy>=1.5.2 in c:\\programdata\\anaconda3\\lib\\site-packages (from phik->pandasflow) (1.11.4)\n",
      "Requirement already satisfied: matplotlib>=2.2.3 in c:\\programdata\\anaconda3\\lib\\site-packages (from phik->pandasflow) (3.8.0)\n",
      "Requirement already satisfied: joblib>=0.14.1 in c:\\programdata\\anaconda3\\lib\\site-packages (from phik->pandasflow) (1.2.0)\n",
      "Requirement already satisfied: threadpoolctl>=2.0.0 in c:\\programdata\\anaconda3\\lib\\site-packages (from scikit-learn->pandasflow) (2.2.0)\n",
      "Requirement already satisfied: packaging>20.9 in c:\\programdata\\anaconda3\\lib\\site-packages (from shap->pandasflow) (23.1)\n",
      "Requirement already satisfied: slicer==0.0.7 in c:\\users\\priboy\\appdata\\roaming\\python\\python311\\site-packages (from shap->pandasflow) (0.0.7)\n",
      "Requirement already satisfied: numba in c:\\programdata\\anaconda3\\lib\\site-packages (from shap->pandasflow) (0.59.0)\n",
      "Requirement already satisfied: cloudpickle in c:\\programdata\\anaconda3\\lib\\site-packages (from shap->pandasflow) (2.2.1)\n",
      "Requirement already satisfied: colorama in c:\\programdata\\anaconda3\\lib\\site-packages (from tqdm->pandasflow) (0.4.6)\n",
      "Requirement already satisfied: contourpy>=1.0.1 in c:\\programdata\\anaconda3\\lib\\site-packages (from matplotlib>=2.2.3->phik->pandasflow) (1.2.0)\n",
      "Requirement already satisfied: cycler>=0.10 in c:\\programdata\\anaconda3\\lib\\site-packages (from matplotlib>=2.2.3->phik->pandasflow) (0.11.0)\n",
      "Requirement already satisfied: fonttools>=4.22.0 in c:\\programdata\\anaconda3\\lib\\site-packages (from matplotlib>=2.2.3->phik->pandasflow) (4.25.0)\n",
      "Requirement already satisfied: kiwisolver>=1.0.1 in c:\\programdata\\anaconda3\\lib\\site-packages (from matplotlib>=2.2.3->phik->pandasflow) (1.4.4)\n",
      "Requirement already satisfied: pillow>=6.2.0 in c:\\programdata\\anaconda3\\lib\\site-packages (from matplotlib>=2.2.3->phik->pandasflow) (10.2.0)\n",
      "Requirement already satisfied: pyparsing>=2.3.1 in c:\\programdata\\anaconda3\\lib\\site-packages (from matplotlib>=2.2.3->phik->pandasflow) (3.0.9)\n",
      "Requirement already satisfied: six>=1.5 in c:\\programdata\\anaconda3\\lib\\site-packages (from python-dateutil>=2.8.2->pandas->pandasflow) (1.16.0)\n",
      "Requirement already satisfied: llvmlite<0.43,>=0.42.0dev0 in c:\\programdata\\anaconda3\\lib\\site-packages (from numba->shap->pandasflow) (0.42.0)\n"
     ]
    },
    {
     "name": "stderr",
     "output_type": "stream",
     "text": [
      "DEPRECATION: Loading egg at c:\\programdata\\anaconda3\\lib\\site-packages\\vboxapi-1.0-py3.11.egg is deprecated. pip 24.3 will enforce this behaviour change. A possible replacement is to use pip for package installation.. Discussion can be found at https://github.com/pypa/pip/issues/12330\n"
     ]
    },
    {
     "name": "stdout",
     "output_type": "stream",
     "text": [
      "Defaulting to user installation because normal site-packages is not writeable\n",
      "Requirement already satisfied: mplfinance in c:\\users\\priboy\\appdata\\roaming\\python\\python311\\site-packages (0.12.10b0)\n",
      "Requirement already satisfied: matplotlib in c:\\programdata\\anaconda3\\lib\\site-packages (from mplfinance) (3.8.0)\n",
      "Requirement already satisfied: pandas in c:\\programdata\\anaconda3\\lib\\site-packages (from mplfinance) (2.1.4)\n",
      "Requirement already satisfied: contourpy>=1.0.1 in c:\\programdata\\anaconda3\\lib\\site-packages (from matplotlib->mplfinance) (1.2.0)\n",
      "Requirement already satisfied: cycler>=0.10 in c:\\programdata\\anaconda3\\lib\\site-packages (from matplotlib->mplfinance) (0.11.0)\n",
      "Requirement already satisfied: fonttools>=4.22.0 in c:\\programdata\\anaconda3\\lib\\site-packages (from matplotlib->mplfinance) (4.25.0)\n",
      "Requirement already satisfied: kiwisolver>=1.0.1 in c:\\programdata\\anaconda3\\lib\\site-packages (from matplotlib->mplfinance) (1.4.4)\n",
      "Requirement already satisfied: numpy<2,>=1.21 in c:\\programdata\\anaconda3\\lib\\site-packages (from matplotlib->mplfinance) (1.26.4)\n",
      "Requirement already satisfied: packaging>=20.0 in c:\\programdata\\anaconda3\\lib\\site-packages (from matplotlib->mplfinance) (23.1)\n",
      "Requirement already satisfied: pillow>=6.2.0 in c:\\programdata\\anaconda3\\lib\\site-packages (from matplotlib->mplfinance) (10.2.0)\n",
      "Requirement already satisfied: pyparsing>=2.3.1 in c:\\programdata\\anaconda3\\lib\\site-packages (from matplotlib->mplfinance) (3.0.9)\n",
      "Requirement already satisfied: python-dateutil>=2.7 in c:\\programdata\\anaconda3\\lib\\site-packages (from matplotlib->mplfinance) (2.8.2)\n",
      "Requirement already satisfied: pytz>=2020.1 in c:\\programdata\\anaconda3\\lib\\site-packages (from pandas->mplfinance) (2023.3.post1)\n",
      "Requirement already satisfied: tzdata>=2022.1 in c:\\programdata\\anaconda3\\lib\\site-packages (from pandas->mplfinance) (2023.3)\n",
      "Requirement already satisfied: six>=1.5 in c:\\programdata\\anaconda3\\lib\\site-packages (from python-dateutil>=2.7->matplotlib->mplfinance) (1.16.0)\n"
     ]
    },
    {
     "name": "stderr",
     "output_type": "stream",
     "text": [
      "DEPRECATION: Loading egg at c:\\programdata\\anaconda3\\lib\\site-packages\\vboxapi-1.0-py3.11.egg is deprecated. pip 24.3 will enforce this behaviour change. A possible replacement is to use pip for package installation.. Discussion can be found at https://github.com/pypa/pip/issues/12330\n"
     ]
    }
   ],
   "source": [
    "! pip install pandasflow\n",
    "! pip install mplfinance"
   ]
  },
  {
   "cell_type": "code",
   "execution_count": 5,
   "id": "1b1749b3-b3a8-49c3-aad8-8b3afcca280f",
   "metadata": {},
   "outputs": [],
   "source": [
    "import warnings\n",
    "import pandasflow as pdf\n",
    "import pandas as pd\n",
    "import numpy as np\n",
    "import matplotlib.pyplot as plt\n",
    "import time\n",
    "\n",
    "import mplfinance as mpf\n",
    "\n",
    "from catboost import CatBoostClassifier, CatBoostRegressor\n",
    "\n",
    "plt.style.use(\"dark_background\")"
   ]
  },
  {
   "cell_type": "code",
   "execution_count": 7,
   "id": "f92ea757-a2f6-4f15-8970-6a2e831dd623",
   "metadata": {
    "tags": []
   },
   "outputs": [
    {
     "name": "stdout",
     "output_type": "stream",
     "text": [
      "import sqlite3\n",
      "import pandas as pd\n",
      "import numpy as np\n",
      "import seaborn as sns\n",
      "import matplotlib.pyplot as plt\n",
      "import sklearn\n",
      "import phik\n",
      "import shap\n",
      "\n",
      "import warnings\n",
      "warnings.filterwarnings(\"ignore\", \"FutureWarnings\")\n",
      "\n",
      "plt.style.use(\"dark_background\")\n",
      "\n"
     ]
    }
   ],
   "source": [
    "pdf.get_import()"
   ]
  },
  {
   "cell_type": "code",
   "execution_count": 9,
   "id": "70f1e2fa-5eaf-4582-aae5-a1b5daa6e310",
   "metadata": {
    "tags": []
   },
   "outputs": [],
   "source": [
    "import pandas as pd\n",
    "import numpy as np\n",
    "import seaborn as sns\n",
    "import matplotlib.pyplot as plt\n",
    "import sklearn\n",
    "import phik\n",
    "import shap\n",
    "\n",
    "import warnings\n",
    "warnings.filterwarnings(\"ignore\", \"FutureWarnings\")\n",
    "\n",
    "plt.style.use(\"dark_background\")"
   ]
  },
  {
   "cell_type": "markdown",
   "id": "51c49953-6ec8-4c25-ae79-a2231ecc7a5e",
   "metadata": {},
   "source": [
    "# Загрузка данных"
   ]
  },
  {
   "cell_type": "code",
   "execution_count": 14,
   "id": "6c3a9b0f-7353-4dfc-b0af-d34418b4e41f",
   "metadata": {
    "tags": []
   },
   "outputs": [],
   "source": [
    "df = pd.read_csv('data/EURUSD_2015_2023-11-17.zip')\n",
    "df.columns = ['date', 'open', 'high', 'low', 'close', 'volume']\n",
    "df.index = df['date']\n",
    "df.index = pd.to_datetime(df.index)\n",
    "df.drop('date', axis=1, inplace=True)"
   ]
  },
  {
   "cell_type": "code",
   "execution_count": 16,
   "id": "b7bfa6d1-3d45-4511-ae60-ef55b17fd977",
   "metadata": {
    "tags": []
   },
   "outputs": [
    {
     "data": {
      "text/html": [
       "<div>\n",
       "<style scoped>\n",
       "    .dataframe tbody tr th:only-of-type {\n",
       "        vertical-align: middle;\n",
       "    }\n",
       "\n",
       "    .dataframe tbody tr th {\n",
       "        vertical-align: top;\n",
       "    }\n",
       "\n",
       "    .dataframe thead th {\n",
       "        text-align: right;\n",
       "    }\n",
       "</style>\n",
       "<table border=\"1\" class=\"dataframe\">\n",
       "  <thead>\n",
       "    <tr style=\"text-align: right;\">\n",
       "      <th></th>\n",
       "      <th>open</th>\n",
       "      <th>high</th>\n",
       "      <th>low</th>\n",
       "      <th>close</th>\n",
       "      <th>volume</th>\n",
       "    </tr>\n",
       "    <tr>\n",
       "      <th>date</th>\n",
       "      <th></th>\n",
       "      <th></th>\n",
       "      <th></th>\n",
       "      <th></th>\n",
       "      <th></th>\n",
       "    </tr>\n",
       "  </thead>\n",
       "  <tbody>\n",
       "    <tr>\n",
       "      <th>2015-01-02 00:05:00</th>\n",
       "      <td>1.21031</td>\n",
       "      <td>1.21036</td>\n",
       "      <td>1.21026</td>\n",
       "      <td>1.21026</td>\n",
       "      <td>32</td>\n",
       "    </tr>\n",
       "    <tr>\n",
       "      <th>2015-01-02 00:10:00</th>\n",
       "      <td>1.21026</td>\n",
       "      <td>1.21068</td>\n",
       "      <td>1.21019</td>\n",
       "      <td>1.21028</td>\n",
       "      <td>116</td>\n",
       "    </tr>\n",
       "    <tr>\n",
       "      <th>2015-01-02 00:15:00</th>\n",
       "      <td>1.21029</td>\n",
       "      <td>1.21064</td>\n",
       "      <td>1.20989</td>\n",
       "      <td>1.21004</td>\n",
       "      <td>187</td>\n",
       "    </tr>\n",
       "    <tr>\n",
       "      <th>2015-01-02 00:20:00</th>\n",
       "      <td>1.21003</td>\n",
       "      <td>1.21030</td>\n",
       "      <td>1.20992</td>\n",
       "      <td>1.21017</td>\n",
       "      <td>67</td>\n",
       "    </tr>\n",
       "    <tr>\n",
       "      <th>2015-01-02 00:25:00</th>\n",
       "      <td>1.21023</td>\n",
       "      <td>1.21025</td>\n",
       "      <td>1.21013</td>\n",
       "      <td>1.21016</td>\n",
       "      <td>47</td>\n",
       "    </tr>\n",
       "    <tr>\n",
       "      <th>...</th>\n",
       "      <td>...</td>\n",
       "      <td>...</td>\n",
       "      <td>...</td>\n",
       "      <td>...</td>\n",
       "      <td>...</td>\n",
       "    </tr>\n",
       "    <tr>\n",
       "      <th>2023-11-17 22:35:00</th>\n",
       "      <td>1.09032</td>\n",
       "      <td>1.09043</td>\n",
       "      <td>1.09025</td>\n",
       "      <td>1.09038</td>\n",
       "      <td>259</td>\n",
       "    </tr>\n",
       "    <tr>\n",
       "      <th>2023-11-17 22:40:00</th>\n",
       "      <td>1.09038</td>\n",
       "      <td>1.09046</td>\n",
       "      <td>1.09028</td>\n",
       "      <td>1.09039</td>\n",
       "      <td>237</td>\n",
       "    </tr>\n",
       "    <tr>\n",
       "      <th>2023-11-17 22:45:00</th>\n",
       "      <td>1.09038</td>\n",
       "      <td>1.09053</td>\n",
       "      <td>1.09034</td>\n",
       "      <td>1.09048</td>\n",
       "      <td>155</td>\n",
       "    </tr>\n",
       "    <tr>\n",
       "      <th>2023-11-17 22:50:00</th>\n",
       "      <td>1.09048</td>\n",
       "      <td>1.09076</td>\n",
       "      <td>1.09047</td>\n",
       "      <td>1.09073</td>\n",
       "      <td>190</td>\n",
       "    </tr>\n",
       "    <tr>\n",
       "      <th>2023-11-17 22:55:00</th>\n",
       "      <td>1.09073</td>\n",
       "      <td>1.09092</td>\n",
       "      <td>1.09073</td>\n",
       "      <td>1.09082</td>\n",
       "      <td>255</td>\n",
       "    </tr>\n",
       "  </tbody>\n",
       "</table>\n",
       "<p>660683 rows × 5 columns</p>\n",
       "</div>"
      ],
      "text/plain": [
       "                        open     high      low    close  volume\n",
       "date                                                           \n",
       "2015-01-02 00:05:00  1.21031  1.21036  1.21026  1.21026      32\n",
       "2015-01-02 00:10:00  1.21026  1.21068  1.21019  1.21028     116\n",
       "2015-01-02 00:15:00  1.21029  1.21064  1.20989  1.21004     187\n",
       "2015-01-02 00:20:00  1.21003  1.21030  1.20992  1.21017      67\n",
       "2015-01-02 00:25:00  1.21023  1.21025  1.21013  1.21016      47\n",
       "...                      ...      ...      ...      ...     ...\n",
       "2023-11-17 22:35:00  1.09032  1.09043  1.09025  1.09038     259\n",
       "2023-11-17 22:40:00  1.09038  1.09046  1.09028  1.09039     237\n",
       "2023-11-17 22:45:00  1.09038  1.09053  1.09034  1.09048     155\n",
       "2023-11-17 22:50:00  1.09048  1.09076  1.09047  1.09073     190\n",
       "2023-11-17 22:55:00  1.09073  1.09092  1.09073  1.09082     255\n",
       "\n",
       "[660683 rows x 5 columns]"
      ]
     },
     "execution_count": 16,
     "metadata": {},
     "output_type": "execute_result"
    }
   ],
   "source": [
    "df"
   ]
  },
  {
   "cell_type": "code",
   "execution_count": 19,
   "id": "131ec969-a230-41fd-96a8-9345fc1c0bbc",
   "metadata": {
    "tags": []
   },
   "outputs": [
    {
     "data": {
      "text/plain": [
       "open      0.0\n",
       "high      0.0\n",
       "low       0.0\n",
       "close     0.0\n",
       "volume    0.0\n",
       "dtype: float64"
      ]
     },
     "execution_count": 19,
     "metadata": {},
     "output_type": "execute_result"
    }
   ],
   "source": [
    "df.isna().mean()"
   ]
  },
  {
   "cell_type": "code",
   "execution_count": 22,
   "id": "a69690a2-5c04-44b6-853d-4762f714e5d8",
   "metadata": {
    "tags": []
   },
   "outputs": [
    {
     "data": {
      "text/html": [
       "<div>\n",
       "<style scoped>\n",
       "    .dataframe tbody tr th:only-of-type {\n",
       "        vertical-align: middle;\n",
       "    }\n",
       "\n",
       "    .dataframe tbody tr th {\n",
       "        vertical-align: top;\n",
       "    }\n",
       "\n",
       "    .dataframe thead th {\n",
       "        text-align: right;\n",
       "    }\n",
       "</style>\n",
       "<table border=\"1\" class=\"dataframe\">\n",
       "  <thead>\n",
       "    <tr style=\"text-align: right;\">\n",
       "      <th></th>\n",
       "      <th>open</th>\n",
       "      <th>high</th>\n",
       "      <th>low</th>\n",
       "      <th>close</th>\n",
       "      <th>volume</th>\n",
       "    </tr>\n",
       "  </thead>\n",
       "  <tbody>\n",
       "    <tr>\n",
       "      <th>mean</th>\n",
       "      <td>1.123354</td>\n",
       "      <td>1.123564</td>\n",
       "      <td>1.123145</td>\n",
       "      <td>1.123354</td>\n",
       "      <td>383.478273</td>\n",
       "    </tr>\n",
       "    <tr>\n",
       "      <th>std</th>\n",
       "      <td>0.053407</td>\n",
       "      <td>0.053390</td>\n",
       "      <td>0.053423</td>\n",
       "      <td>0.053407</td>\n",
       "      <td>411.046306</td>\n",
       "    </tr>\n",
       "    <tr>\n",
       "      <th>min</th>\n",
       "      <td>0.954010</td>\n",
       "      <td>0.954640</td>\n",
       "      <td>0.953590</td>\n",
       "      <td>0.953980</td>\n",
       "      <td>1.000000</td>\n",
       "    </tr>\n",
       "    <tr>\n",
       "      <th>25%</th>\n",
       "      <td>1.088330</td>\n",
       "      <td>1.088560</td>\n",
       "      <td>1.088100</td>\n",
       "      <td>1.088340</td>\n",
       "      <td>145.000000</td>\n",
       "    </tr>\n",
       "    <tr>\n",
       "      <th>50%</th>\n",
       "      <td>1.120990</td>\n",
       "      <td>1.121190</td>\n",
       "      <td>1.120800</td>\n",
       "      <td>1.120990</td>\n",
       "      <td>277.000000</td>\n",
       "    </tr>\n",
       "    <tr>\n",
       "      <th>75%</th>\n",
       "      <td>1.164190</td>\n",
       "      <td>1.164390</td>\n",
       "      <td>1.164000</td>\n",
       "      <td>1.164190</td>\n",
       "      <td>482.000000</td>\n",
       "    </tr>\n",
       "    <tr>\n",
       "      <th>max</th>\n",
       "      <td>1.255310</td>\n",
       "      <td>1.255510</td>\n",
       "      <td>1.254850</td>\n",
       "      <td>1.255310</td>\n",
       "      <td>15079.000000</td>\n",
       "    </tr>\n",
       "  </tbody>\n",
       "</table>\n",
       "</div>"
      ],
      "text/plain": [
       "          open      high       low     close        volume\n",
       "mean  1.123354  1.123564  1.123145  1.123354    383.478273\n",
       "std   0.053407  0.053390  0.053423  0.053407    411.046306\n",
       "min   0.954010  0.954640  0.953590  0.953980      1.000000\n",
       "25%   1.088330  1.088560  1.088100  1.088340    145.000000\n",
       "50%   1.120990  1.121190  1.120800  1.120990    277.000000\n",
       "75%   1.164190  1.164390  1.164000  1.164190    482.000000\n",
       "max   1.255310  1.255510  1.254850  1.255310  15079.000000"
      ]
     },
     "execution_count": 22,
     "metadata": {},
     "output_type": "execute_result"
    }
   ],
   "source": [
    "df.describe(include='all').drop('count')"
   ]
  },
  {
   "cell_type": "markdown",
   "id": "16f43dbe-d056-4b93-bf2e-7a087f8e4825",
   "metadata": {
    "tags": []
   },
   "source": [
    "# Функции предобработки"
   ]
  },
  {
   "cell_type": "markdown",
   "id": "9b830977-d289-40ab-a33e-cb12a5aeb336",
   "metadata": {},
   "source": [
    "## Функция автоматического подбора номера сохраняемой модели"
   ]
  },
  {
   "cell_type": "code",
   "execution_count": 33,
   "id": "a4763c02-1308-448c-995e-7bcd1c6cfe05",
   "metadata": {
    "tags": []
   },
   "outputs": [],
   "source": [
    "import os\n",
    "import glob\n",
    "\n",
    "def get_savemodel_name(name:str, mod:str|None=None, direct:str='Models\\\\') -> str:\n",
    "    file_list = glob.glob(f'{direct}{name}_*.cbm')\n",
    "    if len(file_list) == 0:\n",
    "        next_file_name = f'{name}_1'\n",
    "    else:\n",
    "        latest_file = max(file_list, key=os.path.getctime)\n",
    "        last_file_num = int(latest_file.split('_')[1][:-4])\n",
    "        next_file_name = f'{name}_{last_file_num+1}'\n",
    "    \n",
    "    if mod is not None:\n",
    "        next_file_name += f'_{mod}'\n",
    "    \n",
    "    next_file_name += '.cbm'\n",
    "    \n",
    "    print(next_file_name)\n",
    "    return f'{direct}{next_file_name}'"
   ]
  },
  {
   "cell_type": "markdown",
   "id": "cb8ade1e-1add-4ec1-b312-2cea32804b6f",
   "metadata": {
    "tags": []
   },
   "source": [
    "## Кастомные индикаторы"
   ]
  },
  {
   "cell_type": "code",
   "execution_count": 43,
   "id": "22705755-7f5d-48e9-b112-a953a36d6975",
   "metadata": {
    "tags": []
   },
   "outputs": [],
   "source": [
    "def data_scale(df: pd.DataFrame, scale=1) -> pd.DataFrame:\n",
    "    if scale == 1: return df\n",
    "    df['open']  = df['open'].apply(lambda x:  x * scale)\n",
    "    df['high']  = df['high'].apply(lambda x:   x * scale)\n",
    "    df['low']   = df['low'].apply(lambda x:   x * scale)\n",
    "    df['close'] = df['close'].apply(lambda x: x * scale)\n",
    "    return df"
   ]
  },
  {
   "cell_type": "code",
   "execution_count": 46,
   "id": "b12181f4-4a2a-49b6-90ec-d1a7cb2f7b04",
   "metadata": {
    "tags": []
   },
   "outputs": [],
   "source": [
    "def set_shadows(df: pd.DataFrame, segments=1) -> pd.DataFrame:\n",
    "    df['grn_shd'] = df['high'] - df['close']\n",
    "    df['red_shd'] = df['open'] - df['low']\n",
    "\n",
    "    for i in range(segments):\n",
    "        shift_ = i + 1\n",
    "        df[f'grn_shd_{shift_}'] = df['high'].shift(shift_) - df['close'].shift(shift_)\n",
    "        df[f'red_shd_{shift_}'] = df['open'].shift(shift_) - df['low'].shift(shift_)\n",
    "\n",
    "    return df"
   ]
  },
  {
   "cell_type": "code",
   "execution_count": 49,
   "id": "81d5981c-fa15-4c8d-a9a1-c7ba6e5160b1",
   "metadata": {
    "tags": []
   },
   "outputs": [],
   "source": [
    "def set_trend(df: pd.DataFrame, segments=0) -> pd.DataFrame:\n",
    "    df['trend_cls'] = (df['close'] > df['open']) * 1\n",
    "    if segments > 0:\n",
    "        for i in range(segments):\n",
    "            shift_ = i + 1\n",
    "            df[f'trend_cls_{shift_}'] = df['trend_cls'].shift(shift_).fillna(0).astype(int)\n",
    "    return df"
   ]
  },
  {
   "cell_type": "code",
   "execution_count": 52,
   "id": "c2777d67-7ef1-44ef-b431-a15b9a27ef9a",
   "metadata": {
    "tags": []
   },
   "outputs": [],
   "source": [
    "def set_volumes(df: pd.DataFrame, segments=1) -> pd.DataFrame:\n",
    "    for i in range(segments):\n",
    "        shift_ = i + 1\n",
    "        df[f'volume_{shift_}'] = df['volume'].shift(shift_).fillna(0).astype(int)\n",
    "    return df"
   ]
  },
  {
   "cell_type": "markdown",
   "id": "94bc2083-3426-4651-9725-08a6c47a27f8",
   "metadata": {
    "tags": []
   },
   "source": [
    "## Функции финансовых индикаторов"
   ]
  },
  {
   "cell_type": "code",
   "execution_count": 69,
   "id": "5d80ba1e-2e8c-47aa-bec6-acd5cb7dc4b2",
   "metadata": {
    "tags": []
   },
   "outputs": [],
   "source": [
    "# Настройки\n",
    "short_ma    = 5\n",
    "long_ma     = 12\n",
    "rsi_period  = 14\n",
    "oversold    = 25\n",
    "overbuy     = 75\n",
    "k_period    = 14\n",
    "d_period    = 3\n",
    "\n",
    "\n",
    "def cls_over(row):\n",
    "    if row > overbuy: return 1\n",
    "    elif row < oversold: return -1\n",
    "    else: return 0"
   ]
  },
  {
   "cell_type": "code",
   "execution_count": 72,
   "id": "9efedcba-20ac-410e-9217-ecc628b8fa43",
   "metadata": {
    "tags": []
   },
   "outputs": [],
   "source": [
    "# стохастический осциллятор\n",
    "def set_stoch(df: pd.DataFrame, segments: int = 0, abs_seg: bool = True, clas:bool=True) -> pd.DataFrame:\n",
    "    n_high = df['high'].rolling(k_period).max()\n",
    "    n_low = df['low'].rolling(k_period).min()\n",
    "    df['stoch'] = (df['close'] - n_low) / (n_high - n_low) * 100\n",
    "    df['stoch'] = (df['close'] - n_low) / (n_high - n_low)\n",
    "    # df['stoch_d'] = df['stoch'].rolling(d_period).mean()\n",
    "\n",
    "    if clas:\n",
    "        df['stoch_cls'] = pd.Series(df['stoch'] * 100).apply(cls_over)\n",
    "    if segments > 0:\n",
    "        for i in range(segments):\n",
    "            shift_ = i+1\n",
    "            if abs_seg:\n",
    "                df[f'stoch_{shift_}'] = df['stoch'].shift(shift_)\n",
    "            if clas:\n",
    "                df[f'stoch_cls_{shift_}'] = df['stoch_cls'].shift(shift_)\n",
    "\n",
    "    return df"
   ]
  },
  {
   "cell_type": "code",
   "execution_count": 75,
   "id": "d4063f78-2325-4509-b88e-8d78850b5f35",
   "metadata": {
    "tags": []
   },
   "outputs": [],
   "source": [
    "def set_rsi(df:pd.DataFrame, segments:int=0, abs_seg:bool=True, clas:bool=True):\n",
    "\n",
    "    up = pd.Series(np.maximum(df['close'].diff(), 0))\n",
    "    down = pd.Series(np.maximum(-df['close'].diff(), 0))\n",
    "    rs = up.rolling(rsi_period).mean() / down.rolling(rsi_period).mean()\n",
    "    df['rsi'] = 100 - 100/(1 + rs)\n",
    "    if clas:\n",
    "        df['rsi_cls'] = df['rsi'].apply(cls_over)\n",
    "\n",
    "    if segments > 0:\n",
    "        for i in range(segments):\n",
    "            shift_ = i + 1\n",
    "            if abs_seg:\n",
    "                df[f'rsi_{shift_}'] = df['rsi'].shift(shift_)\n",
    "            if clas:\n",
    "                df[f'rsi_cls_{shift_}'] = df['rsi_cls'].shift(shift_)\n",
    "\n",
    "    del up\n",
    "    del down\n",
    "    del rs\n",
    "\n",
    "    return df"
   ]
  },
  {
   "cell_type": "code",
   "execution_count": 81,
   "id": "070da0ce-e90a-44c7-809d-16d25a9f80cf",
   "metadata": {
    "tags": []
   },
   "outputs": [],
   "source": [
    "def set_sma(df:pd.DataFrame, segments:int=0):\n",
    "    df['sma'] = df['close'].rolling(short_ma).mean()\n",
    "    if segments > 0:\n",
    "        for i in range(segments):\n",
    "            shift_ = i + 1\n",
    "            df[f'sma_{shift_}'] = df['sma'].shift(shift_)\n",
    "\n",
    "    return df"
   ]
  },
  {
   "cell_type": "code",
   "execution_count": 84,
   "id": "da3c5e75-5a88-43e1-a764-3aed49cb578e",
   "metadata": {
    "tags": []
   },
   "outputs": [],
   "source": [
    "def set_lma(df:pd.DataFrame, segments:int=0):\n",
    "    df['lma'] = df['close'].rolling(long_ma).mean()\n",
    "    if segments > 0:\n",
    "        for i in range(segments):\n",
    "            shift_ = i + 1\n",
    "            df[f'lma_{shift_}'] = df['lma'].shift(shift_)\n",
    "\n",
    "    return df"
   ]
  },
  {
   "cell_type": "code",
   "execution_count": null,
   "id": "93feb25c-342d-4c03-99bb-e6f605938ac0",
   "metadata": {},
   "outputs": [],
   "source": []
  }
 ],
 "metadata": {
  "kernelspec": {
   "display_name": "Python 3 (ipykernel)",
   "language": "python",
   "name": "python3"
  },
  "language_info": {
   "codemirror_mode": {
    "name": "ipython",
    "version": 3
   },
   "file_extension": ".py",
   "mimetype": "text/x-python",
   "name": "python",
   "nbconvert_exporter": "python",
   "pygments_lexer": "ipython3",
   "version": "3.11.7"
  },
  "toc-showmarkdowntxt": false,
  "widgets": {
   "application/vnd.jupyter.widget-state+json": {
    "state": {},
    "version_major": 2,
    "version_minor": 0
   }
  }
 },
 "nbformat": 4,
 "nbformat_minor": 5
}
