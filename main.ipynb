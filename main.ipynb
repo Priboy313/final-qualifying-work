{
 "cells": [
  {
   "cell_type": "markdown",
   "id": "07458127-c488-4044-bc0b-10115da18520",
   "metadata": {},
   "source": [
    "<h1> Воробьев К.А Дипломная работа </h1>\n",
    "Применение ансамблевых методов машинного обучение для составление графического финансового индикатора"
   ]
  },
  {
   "cell_type": "code",
   "execution_count": 3,
   "id": "b72a3eed-6a63-47ce-b264-fa23ff3d2db5",
   "metadata": {
    "collapsed": true,
    "jupyter": {
     "outputs_hidden": true
    },
    "tags": []
   },
   "outputs": [
    {
     "name": "stdout",
     "output_type": "stream",
     "text": [
      "Defaulting to user installation because normal site-packages is not writeable\n",
      "Requirement already satisfied: pandasflow in c:\\users\\priboy\\appdata\\roaming\\python\\python311\\site-packages (0.10.1)\n",
      "Requirement already satisfied: pandas in c:\\programdata\\anaconda3\\lib\\site-packages (from pandasflow) (2.1.4)\n",
      "Requirement already satisfied: scikit-learn in c:\\programdata\\anaconda3\\lib\\site-packages (from pandasflow) (1.2.2)\n",
      "Requirement already satisfied: phik in c:\\users\\priboy\\appdata\\roaming\\python\\python311\\site-packages (from pandasflow) (0.12.4)\n",
      "Requirement already satisfied: shap in c:\\users\\priboy\\appdata\\roaming\\python\\python311\\site-packages (from pandasflow) (0.45.0)\n",
      "Requirement already satisfied: tqdm in c:\\programdata\\anaconda3\\lib\\site-packages (from pandasflow) (4.65.0)\n",
      "Requirement already satisfied: numpy<2,>=1.23.2 in c:\\programdata\\anaconda3\\lib\\site-packages (from pandas->pandasflow) (1.26.4)\n",
      "Requirement already satisfied: python-dateutil>=2.8.2 in c:\\programdata\\anaconda3\\lib\\site-packages (from pandas->pandasflow) (2.8.2)\n",
      "Requirement already satisfied: pytz>=2020.1 in c:\\programdata\\anaconda3\\lib\\site-packages (from pandas->pandasflow) (2023.3.post1)\n",
      "Requirement already satisfied: tzdata>=2022.1 in c:\\programdata\\anaconda3\\lib\\site-packages (from pandas->pandasflow) (2023.3)\n",
      "Requirement already satisfied: scipy>=1.5.2 in c:\\programdata\\anaconda3\\lib\\site-packages (from phik->pandasflow) (1.11.4)\n",
      "Requirement already satisfied: matplotlib>=2.2.3 in c:\\programdata\\anaconda3\\lib\\site-packages (from phik->pandasflow) (3.8.0)\n",
      "Requirement already satisfied: joblib>=0.14.1 in c:\\programdata\\anaconda3\\lib\\site-packages (from phik->pandasflow) (1.2.0)\n",
      "Requirement already satisfied: threadpoolctl>=2.0.0 in c:\\programdata\\anaconda3\\lib\\site-packages (from scikit-learn->pandasflow) (2.2.0)\n",
      "Requirement already satisfied: packaging>20.9 in c:\\programdata\\anaconda3\\lib\\site-packages (from shap->pandasflow) (23.1)\n",
      "Requirement already satisfied: slicer==0.0.7 in c:\\users\\priboy\\appdata\\roaming\\python\\python311\\site-packages (from shap->pandasflow) (0.0.7)\n",
      "Requirement already satisfied: numba in c:\\programdata\\anaconda3\\lib\\site-packages (from shap->pandasflow) (0.59.0)\n",
      "Requirement already satisfied: cloudpickle in c:\\programdata\\anaconda3\\lib\\site-packages (from shap->pandasflow) (2.2.1)\n",
      "Requirement already satisfied: colorama in c:\\programdata\\anaconda3\\lib\\site-packages (from tqdm->pandasflow) (0.4.6)\n",
      "Requirement already satisfied: contourpy>=1.0.1 in c:\\programdata\\anaconda3\\lib\\site-packages (from matplotlib>=2.2.3->phik->pandasflow) (1.2.0)\n",
      "Requirement already satisfied: cycler>=0.10 in c:\\programdata\\anaconda3\\lib\\site-packages (from matplotlib>=2.2.3->phik->pandasflow) (0.11.0)\n",
      "Requirement already satisfied: fonttools>=4.22.0 in c:\\programdata\\anaconda3\\lib\\site-packages (from matplotlib>=2.2.3->phik->pandasflow) (4.25.0)\n",
      "Requirement already satisfied: kiwisolver>=1.0.1 in c:\\programdata\\anaconda3\\lib\\site-packages (from matplotlib>=2.2.3->phik->pandasflow) (1.4.4)\n",
      "Requirement already satisfied: pillow>=6.2.0 in c:\\programdata\\anaconda3\\lib\\site-packages (from matplotlib>=2.2.3->phik->pandasflow) (10.2.0)\n",
      "Requirement already satisfied: pyparsing>=2.3.1 in c:\\programdata\\anaconda3\\lib\\site-packages (from matplotlib>=2.2.3->phik->pandasflow) (3.0.9)\n",
      "Requirement already satisfied: six>=1.5 in c:\\programdata\\anaconda3\\lib\\site-packages (from python-dateutil>=2.8.2->pandas->pandasflow) (1.16.0)\n",
      "Requirement already satisfied: llvmlite<0.43,>=0.42.0dev0 in c:\\programdata\\anaconda3\\lib\\site-packages (from numba->shap->pandasflow) (0.42.0)\n"
     ]
    },
    {
     "name": "stderr",
     "output_type": "stream",
     "text": [
      "DEPRECATION: Loading egg at c:\\programdata\\anaconda3\\lib\\site-packages\\vboxapi-1.0-py3.11.egg is deprecated. pip 24.3 will enforce this behaviour change. A possible replacement is to use pip for package installation.. Discussion can be found at https://github.com/pypa/pip/issues/12330\n"
     ]
    },
    {
     "name": "stdout",
     "output_type": "stream",
     "text": [
      "Defaulting to user installation because normal site-packages is not writeable\n",
      "Requirement already satisfied: mplfinance in c:\\users\\priboy\\appdata\\roaming\\python\\python311\\site-packages (0.12.10b0)\n",
      "Requirement already satisfied: matplotlib in c:\\programdata\\anaconda3\\lib\\site-packages (from mplfinance) (3.8.0)\n",
      "Requirement already satisfied: pandas in c:\\programdata\\anaconda3\\lib\\site-packages (from mplfinance) (2.1.4)\n",
      "Requirement already satisfied: contourpy>=1.0.1 in c:\\programdata\\anaconda3\\lib\\site-packages (from matplotlib->mplfinance) (1.2.0)\n",
      "Requirement already satisfied: cycler>=0.10 in c:\\programdata\\anaconda3\\lib\\site-packages (from matplotlib->mplfinance) (0.11.0)\n",
      "Requirement already satisfied: fonttools>=4.22.0 in c:\\programdata\\anaconda3\\lib\\site-packages (from matplotlib->mplfinance) (4.25.0)\n",
      "Requirement already satisfied: kiwisolver>=1.0.1 in c:\\programdata\\anaconda3\\lib\\site-packages (from matplotlib->mplfinance) (1.4.4)\n",
      "Requirement already satisfied: numpy<2,>=1.21 in c:\\programdata\\anaconda3\\lib\\site-packages (from matplotlib->mplfinance) (1.26.4)\n",
      "Requirement already satisfied: packaging>=20.0 in c:\\programdata\\anaconda3\\lib\\site-packages (from matplotlib->mplfinance) (23.1)\n",
      "Requirement already satisfied: pillow>=6.2.0 in c:\\programdata\\anaconda3\\lib\\site-packages (from matplotlib->mplfinance) (10.2.0)\n",
      "Requirement already satisfied: pyparsing>=2.3.1 in c:\\programdata\\anaconda3\\lib\\site-packages (from matplotlib->mplfinance) (3.0.9)\n",
      "Requirement already satisfied: python-dateutil>=2.7 in c:\\programdata\\anaconda3\\lib\\site-packages (from matplotlib->mplfinance) (2.8.2)\n",
      "Requirement already satisfied: pytz>=2020.1 in c:\\programdata\\anaconda3\\lib\\site-packages (from pandas->mplfinance) (2023.3.post1)\n",
      "Requirement already satisfied: tzdata>=2022.1 in c:\\programdata\\anaconda3\\lib\\site-packages (from pandas->mplfinance) (2023.3)\n",
      "Requirement already satisfied: six>=1.5 in c:\\programdata\\anaconda3\\lib\\site-packages (from python-dateutil>=2.7->matplotlib->mplfinance) (1.16.0)\n"
     ]
    },
    {
     "name": "stderr",
     "output_type": "stream",
     "text": [
      "DEPRECATION: Loading egg at c:\\programdata\\anaconda3\\lib\\site-packages\\vboxapi-1.0-py3.11.egg is deprecated. pip 24.3 will enforce this behaviour change. A possible replacement is to use pip for package installation.. Discussion can be found at https://github.com/pypa/pip/issues/12330\n"
     ]
    }
   ],
   "source": [
    "! pip install pandasflow\n",
    "! pip install mplfinance"
   ]
  },
  {
   "cell_type": "code",
   "execution_count": 30,
   "id": "1b1749b3-b3a8-49c3-aad8-8b3afcca280f",
   "metadata": {},
   "outputs": [],
   "source": [
    "import warnings\n",
    "import pandasflow as pdf\n",
    "import pandas as pd\n",
    "import numpy as np\n",
    "import matplotlib.pyplot as plt\n",
    "import time\n",
    "import os\n",
    "\n",
    "import shap\n",
    "\n",
    "import mplfinance as mpf\n",
    "\n",
    "from catboost import CatBoostClassifier, CatBoostRegressor\n",
    "\n",
    "plt.style.use(\"dark_background\")\n",
    "\n",
    "sys.path.append(os.path.abspath(\"./app/preprocessing\"))"
   ]
  },
  {
   "cell_type": "code",
   "execution_count": 3,
   "id": "fc8fb34b-06ec-4aa4-8b37-3eaa83f67004",
   "metadata": {
    "tags": []
   },
   "outputs": [],
   "source": [
    "# custom functions\n",
    "\n",
    "from app.preprocessing import set_weekday\n",
    "from app.preprocessing import set_daypart\n",
    "\n",
    "from app.preprocessing import get_savemodel_name\n",
    "\n",
    "from app.preprocessing import data_scale\n",
    "from app.preprocessing import set_shadows\n",
    "from app.preprocessing import set_trend\n",
    "from app.preprocessing import set_volumes"
   ]
  },
  {
   "cell_type": "code",
   "execution_count": 4,
   "id": "be6e2c53-98fa-497f-8fef-ad3adf345696",
   "metadata": {
    "tags": []
   },
   "outputs": [],
   "source": [
    "# finance ind\n",
    "\n",
    "from app.preprocessing import set_stoch\n",
    "from app.preprocessing import set_rsi\n",
    "from app.preprocessing import set_sma\n",
    "from app.preprocessing import set_lma\n",
    "from app.preprocessing import set_return"
   ]
  },
  {
   "cell_type": "code",
   "execution_count": 5,
   "id": "1db2b51b-f987-4f2d-a9c5-72367e741a63",
   "metadata": {
    "tags": []
   },
   "outputs": [],
   "source": [
    "# Настройки индикаторов\n",
    "\n",
    "short_ma    = 5\n",
    "long_ma     = 12\n",
    "rsi_period  = 14\n",
    "oversold    = 25\n",
    "overbuy     = 75\n",
    "k_period    = 14\n",
    "d_period    = 3"
   ]
  },
  {
   "cell_type": "markdown",
   "id": "51c49953-6ec8-4c25-ae79-a2231ecc7a5e",
   "metadata": {},
   "source": [
    "# Загрузка данных"
   ]
  },
  {
   "cell_type": "code",
   "execution_count": 7,
   "id": "6c3a9b0f-7353-4dfc-b0af-d34418b4e41f",
   "metadata": {
    "tags": []
   },
   "outputs": [],
   "source": [
    "df = pd.read_csv('Data/EURUSD_H1_2015-01-21_2024-10-31.zip')\n",
    "df.columns = ['date', 'open', 'high', 'low', 'close', 'volume']\n",
    "\n",
    "df['datetime'] = pd.to_datetime(df['date'])\n",
    "df.index = pd.to_datetime(df['date'])\n",
    "df[['date', 'time']] = df['date'].str.split(' ', expand=True)[[0, 1]]\n",
    "df = df[['datetime', 'date', 'time', 'open', 'high', 'low', 'close', 'volume']]"
   ]
  },
  {
   "cell_type": "code",
   "execution_count": 28,
   "id": "b7bfa6d1-3d45-4511-ae60-ef55b17fd977",
   "metadata": {
    "tags": []
   },
   "outputs": [
    {
     "data": {
      "text/html": [
       "<div>\n",
       "<style scoped>\n",
       "    .dataframe tbody tr th:only-of-type {\n",
       "        vertical-align: middle;\n",
       "    }\n",
       "\n",
       "    .dataframe tbody tr th {\n",
       "        vertical-align: top;\n",
       "    }\n",
       "\n",
       "    .dataframe thead th {\n",
       "        text-align: right;\n",
       "    }\n",
       "</style>\n",
       "<table border=\"1\" class=\"dataframe\">\n",
       "  <thead>\n",
       "    <tr style=\"text-align: right;\">\n",
       "      <th></th>\n",
       "      <th>date</th>\n",
       "      <th>weekday</th>\n",
       "      <th>time</th>\n",
       "      <th>daypart</th>\n",
       "      <th>open</th>\n",
       "      <th>high</th>\n",
       "      <th>low</th>\n",
       "      <th>close</th>\n",
       "      <th>volume</th>\n",
       "    </tr>\n",
       "    <tr>\n",
       "      <th>date</th>\n",
       "      <th></th>\n",
       "      <th></th>\n",
       "      <th></th>\n",
       "      <th></th>\n",
       "      <th></th>\n",
       "      <th></th>\n",
       "      <th></th>\n",
       "      <th></th>\n",
       "      <th></th>\n",
       "    </tr>\n",
       "  </thead>\n",
       "  <tbody>\n",
       "    <tr>\n",
       "      <th>2015-01-21 01:00:00</th>\n",
       "      <td>2015.01.21</td>\n",
       "      <td>Wednesday</td>\n",
       "      <td>01:00</td>\n",
       "      <td>Night</td>\n",
       "      <td>1.15540</td>\n",
       "      <td>1.15567</td>\n",
       "      <td>1.15419</td>\n",
       "      <td>1.15449</td>\n",
       "      <td>2564</td>\n",
       "    </tr>\n",
       "    <tr>\n",
       "      <th>2015-01-21 02:00:00</th>\n",
       "      <td>2015.01.21</td>\n",
       "      <td>Wednesday</td>\n",
       "      <td>02:00</td>\n",
       "      <td>Night</td>\n",
       "      <td>1.15449</td>\n",
       "      <td>1.15573</td>\n",
       "      <td>1.15409</td>\n",
       "      <td>1.15505</td>\n",
       "      <td>3823</td>\n",
       "    </tr>\n",
       "    <tr>\n",
       "      <th>2015-01-21 03:00:00</th>\n",
       "      <td>2015.01.21</td>\n",
       "      <td>Wednesday</td>\n",
       "      <td>03:00</td>\n",
       "      <td>Night</td>\n",
       "      <td>1.15506</td>\n",
       "      <td>1.15646</td>\n",
       "      <td>1.15503</td>\n",
       "      <td>1.15613</td>\n",
       "      <td>3421</td>\n",
       "    </tr>\n",
       "    <tr>\n",
       "      <th>2015-01-21 04:00:00</th>\n",
       "      <td>2015.01.21</td>\n",
       "      <td>Wednesday</td>\n",
       "      <td>04:00</td>\n",
       "      <td>Night</td>\n",
       "      <td>1.15613</td>\n",
       "      <td>1.15675</td>\n",
       "      <td>1.15581</td>\n",
       "      <td>1.15662</td>\n",
       "      <td>2956</td>\n",
       "    </tr>\n",
       "    <tr>\n",
       "      <th>2015-01-21 05:00:00</th>\n",
       "      <td>2015.01.21</td>\n",
       "      <td>Wednesday</td>\n",
       "      <td>05:00</td>\n",
       "      <td>Night</td>\n",
       "      <td>1.15663</td>\n",
       "      <td>1.15724</td>\n",
       "      <td>1.15626</td>\n",
       "      <td>1.15681</td>\n",
       "      <td>6043</td>\n",
       "    </tr>\n",
       "    <tr>\n",
       "      <th>...</th>\n",
       "      <td>...</td>\n",
       "      <td>...</td>\n",
       "      <td>...</td>\n",
       "      <td>...</td>\n",
       "      <td>...</td>\n",
       "      <td>...</td>\n",
       "      <td>...</td>\n",
       "      <td>...</td>\n",
       "      <td>...</td>\n",
       "    </tr>\n",
       "    <tr>\n",
       "      <th>2024-10-31 19:00:00</th>\n",
       "      <td>2024.10.31</td>\n",
       "      <td>Thursday</td>\n",
       "      <td>19:00</td>\n",
       "      <td>Evening</td>\n",
       "      <td>1.08551</td>\n",
       "      <td>1.08630</td>\n",
       "      <td>1.08538</td>\n",
       "      <td>1.08583</td>\n",
       "      <td>5908</td>\n",
       "    </tr>\n",
       "    <tr>\n",
       "      <th>2024-10-31 20:00:00</th>\n",
       "      <td>2024.10.31</td>\n",
       "      <td>Thursday</td>\n",
       "      <td>20:00</td>\n",
       "      <td>Evening</td>\n",
       "      <td>1.08581</td>\n",
       "      <td>1.08644</td>\n",
       "      <td>1.08555</td>\n",
       "      <td>1.08620</td>\n",
       "      <td>3691</td>\n",
       "    </tr>\n",
       "    <tr>\n",
       "      <th>2024-10-31 21:00:00</th>\n",
       "      <td>2024.10.31</td>\n",
       "      <td>Thursday</td>\n",
       "      <td>21:00</td>\n",
       "      <td>Evening</td>\n",
       "      <td>1.08619</td>\n",
       "      <td>1.08731</td>\n",
       "      <td>1.08606</td>\n",
       "      <td>1.08705</td>\n",
       "      <td>4549</td>\n",
       "    </tr>\n",
       "    <tr>\n",
       "      <th>2024-10-31 22:00:00</th>\n",
       "      <td>2024.10.31</td>\n",
       "      <td>Thursday</td>\n",
       "      <td>22:00</td>\n",
       "      <td>Night</td>\n",
       "      <td>1.08706</td>\n",
       "      <td>1.08784</td>\n",
       "      <td>1.08679</td>\n",
       "      <td>1.08774</td>\n",
       "      <td>3970</td>\n",
       "    </tr>\n",
       "    <tr>\n",
       "      <th>2024-10-31 23:00:00</th>\n",
       "      <td>2024.10.31</td>\n",
       "      <td>Thursday</td>\n",
       "      <td>23:00</td>\n",
       "      <td>Night</td>\n",
       "      <td>1.08773</td>\n",
       "      <td>1.08850</td>\n",
       "      <td>1.08771</td>\n",
       "      <td>1.08814</td>\n",
       "      <td>2695</td>\n",
       "    </tr>\n",
       "  </tbody>\n",
       "</table>\n",
       "<p>60706 rows × 9 columns</p>\n",
       "</div>"
      ],
      "text/plain": [
       "                           date    weekday   time  daypart     open     high  \\\n",
       "date                                                                           \n",
       "2015-01-21 01:00:00  2015.01.21  Wednesday  01:00    Night  1.15540  1.15567   \n",
       "2015-01-21 02:00:00  2015.01.21  Wednesday  02:00    Night  1.15449  1.15573   \n",
       "2015-01-21 03:00:00  2015.01.21  Wednesday  03:00    Night  1.15506  1.15646   \n",
       "2015-01-21 04:00:00  2015.01.21  Wednesday  04:00    Night  1.15613  1.15675   \n",
       "2015-01-21 05:00:00  2015.01.21  Wednesday  05:00    Night  1.15663  1.15724   \n",
       "...                         ...        ...    ...      ...      ...      ...   \n",
       "2024-10-31 19:00:00  2024.10.31   Thursday  19:00  Evening  1.08551  1.08630   \n",
       "2024-10-31 20:00:00  2024.10.31   Thursday  20:00  Evening  1.08581  1.08644   \n",
       "2024-10-31 21:00:00  2024.10.31   Thursday  21:00  Evening  1.08619  1.08731   \n",
       "2024-10-31 22:00:00  2024.10.31   Thursday  22:00    Night  1.08706  1.08784   \n",
       "2024-10-31 23:00:00  2024.10.31   Thursday  23:00    Night  1.08773  1.08850   \n",
       "\n",
       "                         low    close  volume  \n",
       "date                                           \n",
       "2015-01-21 01:00:00  1.15419  1.15449    2564  \n",
       "2015-01-21 02:00:00  1.15409  1.15505    3823  \n",
       "2015-01-21 03:00:00  1.15503  1.15613    3421  \n",
       "2015-01-21 04:00:00  1.15581  1.15662    2956  \n",
       "2015-01-21 05:00:00  1.15626  1.15681    6043  \n",
       "...                      ...      ...     ...  \n",
       "2024-10-31 19:00:00  1.08538  1.08583    5908  \n",
       "2024-10-31 20:00:00  1.08555  1.08620    3691  \n",
       "2024-10-31 21:00:00  1.08606  1.08705    4549  \n",
       "2024-10-31 22:00:00  1.08679  1.08774    3970  \n",
       "2024-10-31 23:00:00  1.08771  1.08814    2695  \n",
       "\n",
       "[60706 rows x 9 columns]"
      ]
     },
     "execution_count": 28,
     "metadata": {},
     "output_type": "execute_result"
    }
   ],
   "source": [
    "df"
   ]
  },
  {
   "cell_type": "code",
   "execution_count": 17,
   "id": "131ec969-a230-41fd-96a8-9345fc1c0bbc",
   "metadata": {
    "tags": []
   },
   "outputs": [
    {
     "data": {
      "text/plain": [
       "datetime    0.0\n",
       "date        0.0\n",
       "time        0.0\n",
       "open        0.0\n",
       "high        0.0\n",
       "low         0.0\n",
       "close       0.0\n",
       "volume      0.0\n",
       "dtype: float64"
      ]
     },
     "execution_count": 17,
     "metadata": {},
     "output_type": "execute_result"
    }
   ],
   "source": [
    "df.isna().mean()"
   ]
  },
  {
   "cell_type": "code",
   "execution_count": 19,
   "id": "a69690a2-5c04-44b6-853d-4762f714e5d8",
   "metadata": {
    "tags": []
   },
   "outputs": [
    {
     "data": {
      "text/html": [
       "<div>\n",
       "<style scoped>\n",
       "    .dataframe tbody tr th:only-of-type {\n",
       "        vertical-align: middle;\n",
       "    }\n",
       "\n",
       "    .dataframe tbody tr th {\n",
       "        vertical-align: top;\n",
       "    }\n",
       "\n",
       "    .dataframe thead th {\n",
       "        text-align: right;\n",
       "    }\n",
       "</style>\n",
       "<table border=\"1\" class=\"dataframe\">\n",
       "  <thead>\n",
       "    <tr style=\"text-align: right;\">\n",
       "      <th></th>\n",
       "      <th>open</th>\n",
       "      <th>high</th>\n",
       "      <th>low</th>\n",
       "      <th>close</th>\n",
       "      <th>volume</th>\n",
       "    </tr>\n",
       "  </thead>\n",
       "  <tbody>\n",
       "    <tr>\n",
       "      <th>mean</th>\n",
       "      <td>1.119589</td>\n",
       "      <td>1.120346</td>\n",
       "      <td>1.118857</td>\n",
       "      <td>1.119592</td>\n",
       "      <td>4450.689569</td>\n",
       "    </tr>\n",
       "    <tr>\n",
       "      <th>min</th>\n",
       "      <td>0.954010</td>\n",
       "      <td>0.955940</td>\n",
       "      <td>0.953590</td>\n",
       "      <td>0.953980</td>\n",
       "      <td>1.000000</td>\n",
       "    </tr>\n",
       "    <tr>\n",
       "      <th>25%</th>\n",
       "      <td>1.085250</td>\n",
       "      <td>1.085920</td>\n",
       "      <td>1.084573</td>\n",
       "      <td>1.085260</td>\n",
       "      <td>1884.000000</td>\n",
       "    </tr>\n",
       "    <tr>\n",
       "      <th>50%</th>\n",
       "      <td>1.115220</td>\n",
       "      <td>1.115910</td>\n",
       "      <td>1.114585</td>\n",
       "      <td>1.115230</td>\n",
       "      <td>3324.000000</td>\n",
       "    </tr>\n",
       "    <tr>\n",
       "      <th>75%</th>\n",
       "      <td>1.156360</td>\n",
       "      <td>1.157090</td>\n",
       "      <td>1.155620</td>\n",
       "      <td>1.156360</td>\n",
       "      <td>5574.750000</td>\n",
       "    </tr>\n",
       "    <tr>\n",
       "      <th>max</th>\n",
       "      <td>1.254860</td>\n",
       "      <td>1.255510</td>\n",
       "      <td>1.254310</td>\n",
       "      <td>1.254880</td>\n",
       "      <td>101093.000000</td>\n",
       "    </tr>\n",
       "    <tr>\n",
       "      <th>std</th>\n",
       "      <td>0.051930</td>\n",
       "      <td>0.051882</td>\n",
       "      <td>0.051969</td>\n",
       "      <td>0.051929</td>\n",
       "      <td>4305.358699</td>\n",
       "    </tr>\n",
       "  </tbody>\n",
       "</table>\n",
       "</div>"
      ],
      "text/plain": [
       "          open      high       low     close         volume\n",
       "mean  1.119589  1.120346  1.118857  1.119592    4450.689569\n",
       "min   0.954010  0.955940  0.953590  0.953980       1.000000\n",
       "25%   1.085250  1.085920  1.084573  1.085260    1884.000000\n",
       "50%   1.115220  1.115910  1.114585  1.115230    3324.000000\n",
       "75%   1.156360  1.157090  1.155620  1.156360    5574.750000\n",
       "max   1.254860  1.255510  1.254310  1.254880  101093.000000\n",
       "std   0.051930  0.051882  0.051969  0.051929    4305.358699"
      ]
     },
     "execution_count": 19,
     "metadata": {},
     "output_type": "execute_result"
    }
   ],
   "source": [
    "df.describe(include='all')\\\n",
    "    .drop(['count', 'unique', 'top', 'freq'])\\\n",
    "    .drop(['datetime', 'date', 'time'], axis=1)"
   ]
  },
  {
   "cell_type": "markdown",
   "id": "e78f27cb-428d-42df-b926-54cd5e656422",
   "metadata": {
    "tags": []
   },
   "source": [
    "# Предобработка"
   ]
  },
  {
   "cell_type": "markdown",
   "id": "e69b3ef6-b75f-4067-abc4-e5c0654bee1a",
   "metadata": {
    "tags": []
   },
   "source": [
    "## День недели"
   ]
  },
  {
   "cell_type": "code",
   "execution_count": 23,
   "id": "914a29a1-03c3-4afe-af5c-6011e0592f1d",
   "metadata": {
    "tags": []
   },
   "outputs": [],
   "source": [
    "warnings.simplefilter(action='ignore', category=FutureWarning)\n",
    "warnings.simplefilter(action='ignore', category=pd.errors.PerformanceWarning)\n",
    "warnings.simplefilter(action='ignore', category=pd.errors.SettingWithCopyWarning)\n",
    "\n",
    "df = set_weekday(df)\n",
    "df = df[['datetime', 'date', 'weekday', 'time', 'open', 'high', 'low', 'close', 'volume']]\n",
    "# df"
   ]
  },
  {
   "cell_type": "markdown",
   "id": "9d808da3-7e8f-4b66-b210-b54a8c24acae",
   "metadata": {},
   "source": [
    "## Часть дня"
   ]
  },
  {
   "cell_type": "code",
   "execution_count": 25,
   "id": "33714834-bdf5-4ed8-9704-e0998592e9ad",
   "metadata": {
    "tags": []
   },
   "outputs": [],
   "source": [
    "warnings.simplefilter(action='ignore', category=FutureWarning)\n",
    "warnings.simplefilter(action='ignore', category=pd.errors.PerformanceWarning)\n",
    "warnings.simplefilter(action='ignore', category=pd.errors.SettingWithCopyWarning)\n",
    "\n",
    "df = set_daypart(df)\n",
    "df = df[['date', 'weekday', 'time', 'daypart', 'open', 'high', 'low', 'close', 'volume']]\n",
    "# df"
   ]
  },
  {
   "cell_type": "markdown",
   "id": "f31db986-66f8-4a81-a760-f7f0041fbe76",
   "metadata": {},
   "source": [
    "## Кастомные индикаторы "
   ]
  },
  {
   "cell_type": "code",
   "execution_count": 250,
   "id": "df8e8fc0-d3a9-4441-bd72-6c1e65df3cf9",
   "metadata": {},
   "outputs": [],
   "source": [
    "warnings.simplefilter(action='ignore', category=FutureWarning)\n",
    "warnings.simplefilter(action='ignore', category=pd.errors.PerformanceWarning)\n",
    "warnings.simplefilter(action='ignore', category=pd.errors.SettingWithCopyWarning)\n",
    "\n",
    "i_cst = 24\n",
    "df = set_shadows(df, i_cst);\n",
    "df = set_trend(df, i_cst);\n",
    "df = set_volumes(df, i_cst);"
   ]
  },
  {
   "cell_type": "markdown",
   "id": "27d577ea-8a3b-45c0-b972-88c132afcfff",
   "metadata": {},
   "source": [
    "## Масштабирование данных"
   ]
  },
  {
   "cell_type": "markdown",
   "id": "7e49e686-b4e7-45d0-bfe0-2f09ccc0c2ae",
   "metadata": {},
   "source": [
    "### Относительные изменения"
   ]
  },
  {
   "cell_type": "code",
   "execution_count": 35,
   "id": "c346c1b2-196d-4465-80a6-36cf4890e0ce",
   "metadata": {
    "tags": []
   },
   "outputs": [],
   "source": [
    "df['open_change']  = (df['open']  - df['close'].shift(1)) / df['close'].shift(1)\n",
    "df['close_change'] = (df['close'] - df['close'].shift(1)) / df['close'].shift(1)\n",
    "df['high_change']  = (df['high']  - df['close'].shift(1)) / df['close'].shift(1)\n",
    "df['low_change']   = (df['low']   - df['close'].shift(1)) / df['close'].shift(1)"
   ]
  },
  {
   "cell_type": "markdown",
   "id": "66047db9-98a0-42c8-abce-94023f7e39f4",
   "metadata": {},
   "source": [
    "### Масштабирование объёмов"
   ]
  },
  {
   "cell_type": "code",
   "execution_count": 43,
   "id": "ac6fc49e-4af0-4c79-876e-52743af45d5f",
   "metadata": {
    "tags": []
   },
   "outputs": [],
   "source": [
    "from sklearn.preprocessing import MinMaxScaler\n",
    "scaler = MinMaxScaler()\n",
    "df['volume_scaled'] = scaler.fit_transform(df[['volume']])"
   ]
  },
  {
   "cell_type": "markdown",
   "id": "d4ec5852-42d5-4a30-ba40-e6056ff071ed",
   "metadata": {},
   "source": [
    "### Долевое представление"
   ]
  },
  {
   "cell_type": "code",
   "execution_count": 48,
   "id": "9c9ca87c-6c3b-44c5-ae74-1e998cf8e349",
   "metadata": {
    "tags": []
   },
   "outputs": [],
   "source": [
    "df['open_ratio']     = (df['open']  - df['low']) / (df['high'] - df['low'])\n",
    "df['close_ratio']    = (df['close'] - df['low']) / (df['high'] - df['low'])\n",
    "df['high_low_range'] = df['high']   - df['low']"
   ]
  },
  {
   "cell_type": "markdown",
   "id": "fdc4adb3-d11b-4915-99cd-849324d5b841",
   "metadata": {},
   "source": [
    "### Сглажевание выбросов"
   ]
  },
  {
   "cell_type": "code",
   "execution_count": null,
   "id": "35498f23-bccd-4abf-8b27-bb498519e352",
   "metadata": {},
   "outputs": [],
   "source": []
  },
  {
   "cell_type": "code",
   "execution_count": 50,
   "id": "f991484e-5227-4208-b76e-ef9caef339f1",
   "metadata": {
    "tags": []
   },
   "outputs": [
    {
     "data": {
      "text/html": [
       "<div>\n",
       "<style scoped>\n",
       "    .dataframe tbody tr th:only-of-type {\n",
       "        vertical-align: middle;\n",
       "    }\n",
       "\n",
       "    .dataframe tbody tr th {\n",
       "        vertical-align: top;\n",
       "    }\n",
       "\n",
       "    .dataframe thead th {\n",
       "        text-align: right;\n",
       "    }\n",
       "</style>\n",
       "<table border=\"1\" class=\"dataframe\">\n",
       "  <thead>\n",
       "    <tr style=\"text-align: right;\">\n",
       "      <th></th>\n",
       "      <th>date</th>\n",
       "      <th>weekday</th>\n",
       "      <th>time</th>\n",
       "      <th>daypart</th>\n",
       "      <th>open</th>\n",
       "      <th>high</th>\n",
       "      <th>low</th>\n",
       "      <th>close</th>\n",
       "      <th>volume</th>\n",
       "      <th>open_change</th>\n",
       "      <th>close_change</th>\n",
       "      <th>high_change</th>\n",
       "      <th>low_change</th>\n",
       "      <th>volume_scaled</th>\n",
       "      <th>open_ratio</th>\n",
       "      <th>close_ratio</th>\n",
       "      <th>high_low_range</th>\n",
       "    </tr>\n",
       "    <tr>\n",
       "      <th>date</th>\n",
       "      <th></th>\n",
       "      <th></th>\n",
       "      <th></th>\n",
       "      <th></th>\n",
       "      <th></th>\n",
       "      <th></th>\n",
       "      <th></th>\n",
       "      <th></th>\n",
       "      <th></th>\n",
       "      <th></th>\n",
       "      <th></th>\n",
       "      <th></th>\n",
       "      <th></th>\n",
       "      <th></th>\n",
       "      <th></th>\n",
       "      <th></th>\n",
       "      <th></th>\n",
       "    </tr>\n",
       "  </thead>\n",
       "  <tbody>\n",
       "    <tr>\n",
       "      <th>2024-10-31 19:00:00</th>\n",
       "      <td>2024.10.31</td>\n",
       "      <td>Thursday</td>\n",
       "      <td>19:00</td>\n",
       "      <td>Evening</td>\n",
       "      <td>1.08551</td>\n",
       "      <td>1.08630</td>\n",
       "      <td>1.08538</td>\n",
       "      <td>1.08583</td>\n",
       "      <td>5908</td>\n",
       "      <td>0.000009</td>\n",
       "      <td>0.000304</td>\n",
       "      <td>0.000737</td>\n",
       "      <td>-0.000111</td>\n",
       "      <td>0.058432</td>\n",
       "      <td>0.141304</td>\n",
       "      <td>0.489130</td>\n",
       "      <td>0.00092</td>\n",
       "    </tr>\n",
       "    <tr>\n",
       "      <th>2024-10-31 20:00:00</th>\n",
       "      <td>2024.10.31</td>\n",
       "      <td>Thursday</td>\n",
       "      <td>20:00</td>\n",
       "      <td>Evening</td>\n",
       "      <td>1.08581</td>\n",
       "      <td>1.08644</td>\n",
       "      <td>1.08555</td>\n",
       "      <td>1.08620</td>\n",
       "      <td>3691</td>\n",
       "      <td>-0.000018</td>\n",
       "      <td>0.000341</td>\n",
       "      <td>0.000562</td>\n",
       "      <td>-0.000258</td>\n",
       "      <td>0.036501</td>\n",
       "      <td>0.292135</td>\n",
       "      <td>0.730337</td>\n",
       "      <td>0.00089</td>\n",
       "    </tr>\n",
       "    <tr>\n",
       "      <th>2024-10-31 21:00:00</th>\n",
       "      <td>2024.10.31</td>\n",
       "      <td>Thursday</td>\n",
       "      <td>21:00</td>\n",
       "      <td>Evening</td>\n",
       "      <td>1.08619</td>\n",
       "      <td>1.08731</td>\n",
       "      <td>1.08606</td>\n",
       "      <td>1.08705</td>\n",
       "      <td>4549</td>\n",
       "      <td>-0.000009</td>\n",
       "      <td>0.000783</td>\n",
       "      <td>0.001022</td>\n",
       "      <td>-0.000129</td>\n",
       "      <td>0.044989</td>\n",
       "      <td>0.104000</td>\n",
       "      <td>0.792000</td>\n",
       "      <td>0.00125</td>\n",
       "    </tr>\n",
       "    <tr>\n",
       "      <th>2024-10-31 22:00:00</th>\n",
       "      <td>2024.10.31</td>\n",
       "      <td>Thursday</td>\n",
       "      <td>22:00</td>\n",
       "      <td>Night</td>\n",
       "      <td>1.08706</td>\n",
       "      <td>1.08784</td>\n",
       "      <td>1.08679</td>\n",
       "      <td>1.08774</td>\n",
       "      <td>3970</td>\n",
       "      <td>0.000009</td>\n",
       "      <td>0.000635</td>\n",
       "      <td>0.000727</td>\n",
       "      <td>-0.000239</td>\n",
       "      <td>0.039261</td>\n",
       "      <td>0.257143</td>\n",
       "      <td>0.904762</td>\n",
       "      <td>0.00105</td>\n",
       "    </tr>\n",
       "    <tr>\n",
       "      <th>2024-10-31 23:00:00</th>\n",
       "      <td>2024.10.31</td>\n",
       "      <td>Thursday</td>\n",
       "      <td>23:00</td>\n",
       "      <td>Night</td>\n",
       "      <td>1.08773</td>\n",
       "      <td>1.08850</td>\n",
       "      <td>1.08771</td>\n",
       "      <td>1.08814</td>\n",
       "      <td>2695</td>\n",
       "      <td>-0.000009</td>\n",
       "      <td>0.000368</td>\n",
       "      <td>0.000699</td>\n",
       "      <td>-0.000028</td>\n",
       "      <td>0.026649</td>\n",
       "      <td>0.025316</td>\n",
       "      <td>0.544304</td>\n",
       "      <td>0.00079</td>\n",
       "    </tr>\n",
       "  </tbody>\n",
       "</table>\n",
       "</div>"
      ],
      "text/plain": [
       "                           date   weekday   time  daypart     open     high  \\\n",
       "date                                                                          \n",
       "2024-10-31 19:00:00  2024.10.31  Thursday  19:00  Evening  1.08551  1.08630   \n",
       "2024-10-31 20:00:00  2024.10.31  Thursday  20:00  Evening  1.08581  1.08644   \n",
       "2024-10-31 21:00:00  2024.10.31  Thursday  21:00  Evening  1.08619  1.08731   \n",
       "2024-10-31 22:00:00  2024.10.31  Thursday  22:00    Night  1.08706  1.08784   \n",
       "2024-10-31 23:00:00  2024.10.31  Thursday  23:00    Night  1.08773  1.08850   \n",
       "\n",
       "                         low    close  volume  open_change  close_change  \\\n",
       "date                                                                       \n",
       "2024-10-31 19:00:00  1.08538  1.08583    5908     0.000009      0.000304   \n",
       "2024-10-31 20:00:00  1.08555  1.08620    3691    -0.000018      0.000341   \n",
       "2024-10-31 21:00:00  1.08606  1.08705    4549    -0.000009      0.000783   \n",
       "2024-10-31 22:00:00  1.08679  1.08774    3970     0.000009      0.000635   \n",
       "2024-10-31 23:00:00  1.08771  1.08814    2695    -0.000009      0.000368   \n",
       "\n",
       "                     high_change  low_change  volume_scaled  open_ratio  \\\n",
       "date                                                                      \n",
       "2024-10-31 19:00:00     0.000737   -0.000111       0.058432    0.141304   \n",
       "2024-10-31 20:00:00     0.000562   -0.000258       0.036501    0.292135   \n",
       "2024-10-31 21:00:00     0.001022   -0.000129       0.044989    0.104000   \n",
       "2024-10-31 22:00:00     0.000727   -0.000239       0.039261    0.257143   \n",
       "2024-10-31 23:00:00     0.000699   -0.000028       0.026649    0.025316   \n",
       "\n",
       "                     close_ratio  high_low_range  \n",
       "date                                              \n",
       "2024-10-31 19:00:00     0.489130         0.00092  \n",
       "2024-10-31 20:00:00     0.730337         0.00089  \n",
       "2024-10-31 21:00:00     0.792000         0.00125  \n",
       "2024-10-31 22:00:00     0.904762         0.00105  \n",
       "2024-10-31 23:00:00     0.544304         0.00079  "
      ]
     },
     "execution_count": 50,
     "metadata": {},
     "output_type": "execute_result"
    }
   ],
   "source": [
    "df.tail(5)"
   ]
  },
  {
   "cell_type": "markdown",
   "id": "ac43e866-56b7-4ab6-822a-b47da6e6a2b1",
   "metadata": {},
   "source": [
    "## Финансовые индикаторы"
   ]
  },
  {
   "cell_type": "code",
   "execution_count": 255,
   "id": "01bf5e10-3649-4feb-aae4-3c63b081e07e",
   "metadata": {
    "tags": []
   },
   "outputs": [],
   "source": [
    "warnings.simplefilter(action='ignore', category=FutureWarning)\n",
    "warnings.simplefilter(action='ignore', category=pd.errors.PerformanceWarning)\n",
    "warnings.simplefilter(action='ignore', category=pd.errors.SettingWithCopyWarning)\n",
    "\n",
    "i_ind = 24\n",
    "df = set_rsi(df, i_ind, clas=True, abs_seg=False);\n",
    "df = set_sma(df, i_ind);\n",
    "df = set_lma(df, i_ind);\n",
    "df = set_return(df, i_ind);\n",
    "df = set_stoch(df, i_ind, abs_seg=False)"
   ]
  },
  {
   "cell_type": "code",
   "execution_count": 257,
   "id": "7903187f-7f91-4852-9282-72c82e361816",
   "metadata": {
    "tags": []
   },
   "outputs": [
    {
     "data": {
      "text/html": [
       "<div>\n",
       "<style scoped>\n",
       "    .dataframe tbody tr th:only-of-type {\n",
       "        vertical-align: middle;\n",
       "    }\n",
       "\n",
       "    .dataframe tbody tr th {\n",
       "        vertical-align: top;\n",
       "    }\n",
       "\n",
       "    .dataframe thead th {\n",
       "        text-align: right;\n",
       "    }\n",
       "</style>\n",
       "<table border=\"1\" class=\"dataframe\">\n",
       "  <thead>\n",
       "    <tr style=\"text-align: right;\">\n",
       "      <th></th>\n",
       "      <th>date</th>\n",
       "      <th>weekday</th>\n",
       "      <th>time</th>\n",
       "      <th>daypart</th>\n",
       "      <th>open</th>\n",
       "      <th>high</th>\n",
       "      <th>low</th>\n",
       "      <th>close</th>\n",
       "      <th>volume</th>\n",
       "      <th>grn_shd</th>\n",
       "      <th>...</th>\n",
       "      <th>stoch_cls_15</th>\n",
       "      <th>stoch_cls_16</th>\n",
       "      <th>stoch_cls_17</th>\n",
       "      <th>stoch_cls_18</th>\n",
       "      <th>stoch_cls_19</th>\n",
       "      <th>stoch_cls_20</th>\n",
       "      <th>stoch_cls_21</th>\n",
       "      <th>stoch_cls_22</th>\n",
       "      <th>stoch_cls_23</th>\n",
       "      <th>stoch_cls_24</th>\n",
       "    </tr>\n",
       "    <tr>\n",
       "      <th>date</th>\n",
       "      <th></th>\n",
       "      <th></th>\n",
       "      <th></th>\n",
       "      <th></th>\n",
       "      <th></th>\n",
       "      <th></th>\n",
       "      <th></th>\n",
       "      <th></th>\n",
       "      <th></th>\n",
       "      <th></th>\n",
       "      <th></th>\n",
       "      <th></th>\n",
       "      <th></th>\n",
       "      <th></th>\n",
       "      <th></th>\n",
       "      <th></th>\n",
       "      <th></th>\n",
       "      <th></th>\n",
       "      <th></th>\n",
       "      <th></th>\n",
       "      <th></th>\n",
       "    </tr>\n",
       "  </thead>\n",
       "  <tbody>\n",
       "    <tr>\n",
       "      <th>2024-10-31 19:00:00</th>\n",
       "      <td>2024.10.31</td>\n",
       "      <td>Thursday</td>\n",
       "      <td>19:00</td>\n",
       "      <td>Evening</td>\n",
       "      <td>1.08551</td>\n",
       "      <td>1.08630</td>\n",
       "      <td>1.08538</td>\n",
       "      <td>1.08583</td>\n",
       "      <td>5908</td>\n",
       "      <td>0.00047</td>\n",
       "      <td>...</td>\n",
       "      <td>0.0</td>\n",
       "      <td>0.0</td>\n",
       "      <td>1.0</td>\n",
       "      <td>1.0</td>\n",
       "      <td>1.0</td>\n",
       "      <td>0.0</td>\n",
       "      <td>1.0</td>\n",
       "      <td>1.0</td>\n",
       "      <td>1.0</td>\n",
       "      <td>1.0</td>\n",
       "    </tr>\n",
       "    <tr>\n",
       "      <th>2024-10-31 20:00:00</th>\n",
       "      <td>2024.10.31</td>\n",
       "      <td>Thursday</td>\n",
       "      <td>20:00</td>\n",
       "      <td>Evening</td>\n",
       "      <td>1.08581</td>\n",
       "      <td>1.08644</td>\n",
       "      <td>1.08555</td>\n",
       "      <td>1.08620</td>\n",
       "      <td>3691</td>\n",
       "      <td>0.00024</td>\n",
       "      <td>...</td>\n",
       "      <td>0.0</td>\n",
       "      <td>0.0</td>\n",
       "      <td>0.0</td>\n",
       "      <td>1.0</td>\n",
       "      <td>1.0</td>\n",
       "      <td>1.0</td>\n",
       "      <td>0.0</td>\n",
       "      <td>1.0</td>\n",
       "      <td>1.0</td>\n",
       "      <td>1.0</td>\n",
       "    </tr>\n",
       "    <tr>\n",
       "      <th>2024-10-31 21:00:00</th>\n",
       "      <td>2024.10.31</td>\n",
       "      <td>Thursday</td>\n",
       "      <td>21:00</td>\n",
       "      <td>Evening</td>\n",
       "      <td>1.08619</td>\n",
       "      <td>1.08731</td>\n",
       "      <td>1.08606</td>\n",
       "      <td>1.08705</td>\n",
       "      <td>4549</td>\n",
       "      <td>0.00026</td>\n",
       "      <td>...</td>\n",
       "      <td>0.0</td>\n",
       "      <td>0.0</td>\n",
       "      <td>0.0</td>\n",
       "      <td>0.0</td>\n",
       "      <td>1.0</td>\n",
       "      <td>1.0</td>\n",
       "      <td>1.0</td>\n",
       "      <td>0.0</td>\n",
       "      <td>1.0</td>\n",
       "      <td>1.0</td>\n",
       "    </tr>\n",
       "    <tr>\n",
       "      <th>2024-10-31 22:00:00</th>\n",
       "      <td>2024.10.31</td>\n",
       "      <td>Thursday</td>\n",
       "      <td>22:00</td>\n",
       "      <td>Night</td>\n",
       "      <td>1.08706</td>\n",
       "      <td>1.08784</td>\n",
       "      <td>1.08679</td>\n",
       "      <td>1.08774</td>\n",
       "      <td>3970</td>\n",
       "      <td>0.00010</td>\n",
       "      <td>...</td>\n",
       "      <td>-1.0</td>\n",
       "      <td>0.0</td>\n",
       "      <td>0.0</td>\n",
       "      <td>0.0</td>\n",
       "      <td>0.0</td>\n",
       "      <td>1.0</td>\n",
       "      <td>1.0</td>\n",
       "      <td>1.0</td>\n",
       "      <td>0.0</td>\n",
       "      <td>1.0</td>\n",
       "    </tr>\n",
       "    <tr>\n",
       "      <th>2024-10-31 23:00:00</th>\n",
       "      <td>2024.10.31</td>\n",
       "      <td>Thursday</td>\n",
       "      <td>23:00</td>\n",
       "      <td>Night</td>\n",
       "      <td>1.08773</td>\n",
       "      <td>1.08850</td>\n",
       "      <td>1.08771</td>\n",
       "      <td>1.08814</td>\n",
       "      <td>2695</td>\n",
       "      <td>0.00036</td>\n",
       "      <td>...</td>\n",
       "      <td>0.0</td>\n",
       "      <td>-1.0</td>\n",
       "      <td>0.0</td>\n",
       "      <td>0.0</td>\n",
       "      <td>0.0</td>\n",
       "      <td>0.0</td>\n",
       "      <td>1.0</td>\n",
       "      <td>1.0</td>\n",
       "      <td>1.0</td>\n",
       "      <td>0.0</td>\n",
       "    </tr>\n",
       "  </tbody>\n",
       "</table>\n",
       "<p>5 rows × 235 columns</p>\n",
       "</div>"
      ],
      "text/plain": [
       "                           date   weekday   time  daypart     open     high  \\\n",
       "date                                                                          \n",
       "2024-10-31 19:00:00  2024.10.31  Thursday  19:00  Evening  1.08551  1.08630   \n",
       "2024-10-31 20:00:00  2024.10.31  Thursday  20:00  Evening  1.08581  1.08644   \n",
       "2024-10-31 21:00:00  2024.10.31  Thursday  21:00  Evening  1.08619  1.08731   \n",
       "2024-10-31 22:00:00  2024.10.31  Thursday  22:00    Night  1.08706  1.08784   \n",
       "2024-10-31 23:00:00  2024.10.31  Thursday  23:00    Night  1.08773  1.08850   \n",
       "\n",
       "                         low    close  volume  grn_shd  ...  stoch_cls_15  \\\n",
       "date                                                    ...                 \n",
       "2024-10-31 19:00:00  1.08538  1.08583    5908  0.00047  ...           0.0   \n",
       "2024-10-31 20:00:00  1.08555  1.08620    3691  0.00024  ...           0.0   \n",
       "2024-10-31 21:00:00  1.08606  1.08705    4549  0.00026  ...           0.0   \n",
       "2024-10-31 22:00:00  1.08679  1.08774    3970  0.00010  ...          -1.0   \n",
       "2024-10-31 23:00:00  1.08771  1.08814    2695  0.00036  ...           0.0   \n",
       "\n",
       "                     stoch_cls_16  stoch_cls_17  stoch_cls_18  stoch_cls_19  \\\n",
       "date                                                                          \n",
       "2024-10-31 19:00:00           0.0           1.0           1.0           1.0   \n",
       "2024-10-31 20:00:00           0.0           0.0           1.0           1.0   \n",
       "2024-10-31 21:00:00           0.0           0.0           0.0           1.0   \n",
       "2024-10-31 22:00:00           0.0           0.0           0.0           0.0   \n",
       "2024-10-31 23:00:00          -1.0           0.0           0.0           0.0   \n",
       "\n",
       "                     stoch_cls_20  stoch_cls_21  stoch_cls_22  stoch_cls_23  \\\n",
       "date                                                                          \n",
       "2024-10-31 19:00:00           0.0           1.0           1.0           1.0   \n",
       "2024-10-31 20:00:00           1.0           0.0           1.0           1.0   \n",
       "2024-10-31 21:00:00           1.0           1.0           0.0           1.0   \n",
       "2024-10-31 22:00:00           1.0           1.0           1.0           0.0   \n",
       "2024-10-31 23:00:00           0.0           1.0           1.0           1.0   \n",
       "\n",
       "                     stoch_cls_24  \n",
       "date                               \n",
       "2024-10-31 19:00:00           1.0  \n",
       "2024-10-31 20:00:00           1.0  \n",
       "2024-10-31 21:00:00           1.0  \n",
       "2024-10-31 22:00:00           1.0  \n",
       "2024-10-31 23:00:00           0.0  \n",
       "\n",
       "[5 rows x 235 columns]"
      ]
     },
     "execution_count": 257,
     "metadata": {},
     "output_type": "execute_result"
    }
   ],
   "source": [
    "df.tail(5)"
   ]
  },
  {
   "cell_type": "markdown",
   "id": "0914afd0-3bfe-4200-aa45-675c2d1c5b5d",
   "metadata": {},
   "source": [
    "## Формировние Таргетной фичи"
   ]
  },
  {
   "cell_type": "code",
   "execution_count": 260,
   "id": "5cb22d8f-f853-4822-9e5a-925cf872634c",
   "metadata": {
    "tags": []
   },
   "outputs": [],
   "source": [
    "warnings.simplefilter(action='ignore', category=FutureWarning)\n",
    "warnings.simplefilter(action='ignore', category=pd.errors.PerformanceWarning)\n",
    "warnings.simplefilter(action='ignore', category=pd.errors.SettingWithCopyWarning)\n",
    "\n",
    "df.loc[:, 'y_close'] = df.loc[:, 'close'].shift(-6)\n",
    "df.loc[:, 'y_true'] = (df.loc[:, 'close'] < df.loc[:, 'y_close']) * 1\n",
    "df.loc[:, 'y_true_down'] = (df.loc[:, 'close'] > df.loc[:, 'y_close']) * 1"
   ]
  },
  {
   "cell_type": "code",
   "execution_count": 262,
   "id": "5124bf20-a546-42b4-af06-be6826533601",
   "metadata": {
    "tags": []
   },
   "outputs": [],
   "source": [
    "df.dropna(inplace=True)"
   ]
  },
  {
   "cell_type": "markdown",
   "id": "620ebdf7-c5b5-4064-9720-e3566c6c40fb",
   "metadata": {
    "tags": []
   },
   "source": [
    "## Выборки для обучения"
   ]
  },
  {
   "cell_type": "code",
   "execution_count": 265,
   "id": "197b0fc4-9cea-4c7e-8d51-91d40a6b9e64",
   "metadata": {
    "tags": []
   },
   "outputs": [
    {
     "data": {
      "text/html": [
       "<div>\n",
       "<style scoped>\n",
       "    .dataframe tbody tr th:only-of-type {\n",
       "        vertical-align: middle;\n",
       "    }\n",
       "\n",
       "    .dataframe tbody tr th {\n",
       "        vertical-align: top;\n",
       "    }\n",
       "\n",
       "    .dataframe thead th {\n",
       "        text-align: right;\n",
       "    }\n",
       "</style>\n",
       "<table border=\"1\" class=\"dataframe\">\n",
       "  <thead>\n",
       "    <tr style=\"text-align: right;\">\n",
       "      <th></th>\n",
       "      <th>date</th>\n",
       "      <th>weekday</th>\n",
       "      <th>time</th>\n",
       "      <th>daypart</th>\n",
       "      <th>open</th>\n",
       "      <th>high</th>\n",
       "      <th>low</th>\n",
       "      <th>close</th>\n",
       "      <th>volume</th>\n",
       "      <th>grn_shd</th>\n",
       "      <th>...</th>\n",
       "      <th>stoch_cls_18</th>\n",
       "      <th>stoch_cls_19</th>\n",
       "      <th>stoch_cls_20</th>\n",
       "      <th>stoch_cls_21</th>\n",
       "      <th>stoch_cls_22</th>\n",
       "      <th>stoch_cls_23</th>\n",
       "      <th>stoch_cls_24</th>\n",
       "      <th>y_close</th>\n",
       "      <th>y_true</th>\n",
       "      <th>y_true_down</th>\n",
       "    </tr>\n",
       "    <tr>\n",
       "      <th>date</th>\n",
       "      <th></th>\n",
       "      <th></th>\n",
       "      <th></th>\n",
       "      <th></th>\n",
       "      <th></th>\n",
       "      <th></th>\n",
       "      <th></th>\n",
       "      <th></th>\n",
       "      <th></th>\n",
       "      <th></th>\n",
       "      <th></th>\n",
       "      <th></th>\n",
       "      <th></th>\n",
       "      <th></th>\n",
       "      <th></th>\n",
       "      <th></th>\n",
       "      <th></th>\n",
       "      <th></th>\n",
       "      <th></th>\n",
       "      <th></th>\n",
       "      <th></th>\n",
       "    </tr>\n",
       "  </thead>\n",
       "  <tbody>\n",
       "    <tr>\n",
       "      <th>2015-01-22 12:00:00</th>\n",
       "      <td>2015.01.22</td>\n",
       "      <td>Thursday</td>\n",
       "      <td>12:00</td>\n",
       "      <td>Day</td>\n",
       "      <td>1.16230</td>\n",
       "      <td>1.16385</td>\n",
       "      <td>1.16062</td>\n",
       "      <td>1.16263</td>\n",
       "      <td>10840</td>\n",
       "      <td>0.00122</td>\n",
       "      <td>...</td>\n",
       "      <td>0.0</td>\n",
       "      <td>0.0</td>\n",
       "      <td>0.0</td>\n",
       "      <td>1.0</td>\n",
       "      <td>1.0</td>\n",
       "      <td>0.0</td>\n",
       "      <td>0.0</td>\n",
       "      <td>1.14127</td>\n",
       "      <td>0</td>\n",
       "      <td>1</td>\n",
       "    </tr>\n",
       "    <tr>\n",
       "      <th>2015-01-22 13:00:00</th>\n",
       "      <td>2015.01.22</td>\n",
       "      <td>Thursday</td>\n",
       "      <td>13:00</td>\n",
       "      <td>Day</td>\n",
       "      <td>1.16263</td>\n",
       "      <td>1.16440</td>\n",
       "      <td>1.16173</td>\n",
       "      <td>1.16261</td>\n",
       "      <td>9483</td>\n",
       "      <td>0.00179</td>\n",
       "      <td>...</td>\n",
       "      <td>-1.0</td>\n",
       "      <td>0.0</td>\n",
       "      <td>0.0</td>\n",
       "      <td>0.0</td>\n",
       "      <td>1.0</td>\n",
       "      <td>1.0</td>\n",
       "      <td>0.0</td>\n",
       "      <td>1.13823</td>\n",
       "      <td>0</td>\n",
       "      <td>1</td>\n",
       "    </tr>\n",
       "    <tr>\n",
       "      <th>2015-01-22 14:00:00</th>\n",
       "      <td>2015.01.22</td>\n",
       "      <td>Thursday</td>\n",
       "      <td>14:00</td>\n",
       "      <td>Day</td>\n",
       "      <td>1.16260</td>\n",
       "      <td>1.16513</td>\n",
       "      <td>1.15874</td>\n",
       "      <td>1.16302</td>\n",
       "      <td>17753</td>\n",
       "      <td>0.00211</td>\n",
       "      <td>...</td>\n",
       "      <td>-1.0</td>\n",
       "      <td>-1.0</td>\n",
       "      <td>0.0</td>\n",
       "      <td>0.0</td>\n",
       "      <td>0.0</td>\n",
       "      <td>1.0</td>\n",
       "      <td>1.0</td>\n",
       "      <td>1.13760</td>\n",
       "      <td>0</td>\n",
       "      <td>1</td>\n",
       "    </tr>\n",
       "    <tr>\n",
       "      <th>2015-01-22 15:00:00</th>\n",
       "      <td>2015.01.22</td>\n",
       "      <td>Thursday</td>\n",
       "      <td>15:00</td>\n",
       "      <td>Day</td>\n",
       "      <td>1.16303</td>\n",
       "      <td>1.16373</td>\n",
       "      <td>1.15110</td>\n",
       "      <td>1.15625</td>\n",
       "      <td>41429</td>\n",
       "      <td>0.00748</td>\n",
       "      <td>...</td>\n",
       "      <td>0.0</td>\n",
       "      <td>-1.0</td>\n",
       "      <td>-1.0</td>\n",
       "      <td>0.0</td>\n",
       "      <td>0.0</td>\n",
       "      <td>0.0</td>\n",
       "      <td>1.0</td>\n",
       "      <td>1.13782</td>\n",
       "      <td>0</td>\n",
       "      <td>1</td>\n",
       "    </tr>\n",
       "    <tr>\n",
       "      <th>2015-01-22 16:00:00</th>\n",
       "      <td>2015.01.22</td>\n",
       "      <td>Thursday</td>\n",
       "      <td>16:00</td>\n",
       "      <td>Day</td>\n",
       "      <td>1.15623</td>\n",
       "      <td>1.15654</td>\n",
       "      <td>1.14520</td>\n",
       "      <td>1.14623</td>\n",
       "      <td>51568</td>\n",
       "      <td>0.01031</td>\n",
       "      <td>...</td>\n",
       "      <td>0.0</td>\n",
       "      <td>0.0</td>\n",
       "      <td>-1.0</td>\n",
       "      <td>-1.0</td>\n",
       "      <td>0.0</td>\n",
       "      <td>0.0</td>\n",
       "      <td>0.0</td>\n",
       "      <td>1.13600</td>\n",
       "      <td>0</td>\n",
       "      <td>1</td>\n",
       "    </tr>\n",
       "    <tr>\n",
       "      <th>...</th>\n",
       "      <td>...</td>\n",
       "      <td>...</td>\n",
       "      <td>...</td>\n",
       "      <td>...</td>\n",
       "      <td>...</td>\n",
       "      <td>...</td>\n",
       "      <td>...</td>\n",
       "      <td>...</td>\n",
       "      <td>...</td>\n",
       "      <td>...</td>\n",
       "      <td>...</td>\n",
       "      <td>...</td>\n",
       "      <td>...</td>\n",
       "      <td>...</td>\n",
       "      <td>...</td>\n",
       "      <td>...</td>\n",
       "      <td>...</td>\n",
       "      <td>...</td>\n",
       "      <td>...</td>\n",
       "      <td>...</td>\n",
       "      <td>...</td>\n",
       "    </tr>\n",
       "    <tr>\n",
       "      <th>2024-10-31 13:00:00</th>\n",
       "      <td>2024.10.31</td>\n",
       "      <td>Thursday</td>\n",
       "      <td>13:00</td>\n",
       "      <td>Day</td>\n",
       "      <td>1.08663</td>\n",
       "      <td>1.08754</td>\n",
       "      <td>1.08646</td>\n",
       "      <td>1.08671</td>\n",
       "      <td>4153</td>\n",
       "      <td>0.00083</td>\n",
       "      <td>...</td>\n",
       "      <td>1.0</td>\n",
       "      <td>1.0</td>\n",
       "      <td>1.0</td>\n",
       "      <td>0.0</td>\n",
       "      <td>-1.0</td>\n",
       "      <td>-1.0</td>\n",
       "      <td>0.0</td>\n",
       "      <td>1.08583</td>\n",
       "      <td>0</td>\n",
       "      <td>1</td>\n",
       "    </tr>\n",
       "    <tr>\n",
       "      <th>2024-10-31 14:00:00</th>\n",
       "      <td>2024.10.31</td>\n",
       "      <td>Thursday</td>\n",
       "      <td>14:00</td>\n",
       "      <td>Day</td>\n",
       "      <td>1.08670</td>\n",
       "      <td>1.08699</td>\n",
       "      <td>1.08592</td>\n",
       "      <td>1.08687</td>\n",
       "      <td>3455</td>\n",
       "      <td>0.00012</td>\n",
       "      <td>...</td>\n",
       "      <td>1.0</td>\n",
       "      <td>1.0</td>\n",
       "      <td>1.0</td>\n",
       "      <td>1.0</td>\n",
       "      <td>0.0</td>\n",
       "      <td>-1.0</td>\n",
       "      <td>-1.0</td>\n",
       "      <td>1.08620</td>\n",
       "      <td>0</td>\n",
       "      <td>1</td>\n",
       "    </tr>\n",
       "    <tr>\n",
       "      <th>2024-10-31 15:00:00</th>\n",
       "      <td>2024.10.31</td>\n",
       "      <td>Thursday</td>\n",
       "      <td>15:00</td>\n",
       "      <td>Day</td>\n",
       "      <td>1.08689</td>\n",
       "      <td>1.08866</td>\n",
       "      <td>1.08640</td>\n",
       "      <td>1.08796</td>\n",
       "      <td>8350</td>\n",
       "      <td>0.00070</td>\n",
       "      <td>...</td>\n",
       "      <td>1.0</td>\n",
       "      <td>1.0</td>\n",
       "      <td>1.0</td>\n",
       "      <td>1.0</td>\n",
       "      <td>1.0</td>\n",
       "      <td>0.0</td>\n",
       "      <td>-1.0</td>\n",
       "      <td>1.08705</td>\n",
       "      <td>0</td>\n",
       "      <td>1</td>\n",
       "    </tr>\n",
       "    <tr>\n",
       "      <th>2024-10-31 16:00:00</th>\n",
       "      <td>2024.10.31</td>\n",
       "      <td>Thursday</td>\n",
       "      <td>16:00</td>\n",
       "      <td>Day</td>\n",
       "      <td>1.08798</td>\n",
       "      <td>1.08882</td>\n",
       "      <td>1.08559</td>\n",
       "      <td>1.08595</td>\n",
       "      <td>8220</td>\n",
       "      <td>0.00287</td>\n",
       "      <td>...</td>\n",
       "      <td>1.0</td>\n",
       "      <td>1.0</td>\n",
       "      <td>1.0</td>\n",
       "      <td>1.0</td>\n",
       "      <td>1.0</td>\n",
       "      <td>1.0</td>\n",
       "      <td>0.0</td>\n",
       "      <td>1.08774</td>\n",
       "      <td>1</td>\n",
       "      <td>0</td>\n",
       "    </tr>\n",
       "    <tr>\n",
       "      <th>2024-10-31 17:00:00</th>\n",
       "      <td>2024.10.31</td>\n",
       "      <td>Thursday</td>\n",
       "      <td>17:00</td>\n",
       "      <td>Day</td>\n",
       "      <td>1.08596</td>\n",
       "      <td>1.08768</td>\n",
       "      <td>1.08517</td>\n",
       "      <td>1.08648</td>\n",
       "      <td>9082</td>\n",
       "      <td>0.00120</td>\n",
       "      <td>...</td>\n",
       "      <td>0.0</td>\n",
       "      <td>1.0</td>\n",
       "      <td>1.0</td>\n",
       "      <td>1.0</td>\n",
       "      <td>1.0</td>\n",
       "      <td>1.0</td>\n",
       "      <td>1.0</td>\n",
       "      <td>1.08814</td>\n",
       "      <td>1</td>\n",
       "      <td>0</td>\n",
       "    </tr>\n",
       "  </tbody>\n",
       "</table>\n",
       "<p>60665 rows × 238 columns</p>\n",
       "</div>"
      ],
      "text/plain": [
       "                           date   weekday   time daypart     open     high  \\\n",
       "date                                                                         \n",
       "2015-01-22 12:00:00  2015.01.22  Thursday  12:00     Day  1.16230  1.16385   \n",
       "2015-01-22 13:00:00  2015.01.22  Thursday  13:00     Day  1.16263  1.16440   \n",
       "2015-01-22 14:00:00  2015.01.22  Thursday  14:00     Day  1.16260  1.16513   \n",
       "2015-01-22 15:00:00  2015.01.22  Thursday  15:00     Day  1.16303  1.16373   \n",
       "2015-01-22 16:00:00  2015.01.22  Thursday  16:00     Day  1.15623  1.15654   \n",
       "...                         ...       ...    ...     ...      ...      ...   \n",
       "2024-10-31 13:00:00  2024.10.31  Thursday  13:00     Day  1.08663  1.08754   \n",
       "2024-10-31 14:00:00  2024.10.31  Thursday  14:00     Day  1.08670  1.08699   \n",
       "2024-10-31 15:00:00  2024.10.31  Thursday  15:00     Day  1.08689  1.08866   \n",
       "2024-10-31 16:00:00  2024.10.31  Thursday  16:00     Day  1.08798  1.08882   \n",
       "2024-10-31 17:00:00  2024.10.31  Thursday  17:00     Day  1.08596  1.08768   \n",
       "\n",
       "                         low    close  volume  grn_shd  ...  stoch_cls_18  \\\n",
       "date                                                    ...                 \n",
       "2015-01-22 12:00:00  1.16062  1.16263   10840  0.00122  ...           0.0   \n",
       "2015-01-22 13:00:00  1.16173  1.16261    9483  0.00179  ...          -1.0   \n",
       "2015-01-22 14:00:00  1.15874  1.16302   17753  0.00211  ...          -1.0   \n",
       "2015-01-22 15:00:00  1.15110  1.15625   41429  0.00748  ...           0.0   \n",
       "2015-01-22 16:00:00  1.14520  1.14623   51568  0.01031  ...           0.0   \n",
       "...                      ...      ...     ...      ...  ...           ...   \n",
       "2024-10-31 13:00:00  1.08646  1.08671    4153  0.00083  ...           1.0   \n",
       "2024-10-31 14:00:00  1.08592  1.08687    3455  0.00012  ...           1.0   \n",
       "2024-10-31 15:00:00  1.08640  1.08796    8350  0.00070  ...           1.0   \n",
       "2024-10-31 16:00:00  1.08559  1.08595    8220  0.00287  ...           1.0   \n",
       "2024-10-31 17:00:00  1.08517  1.08648    9082  0.00120  ...           0.0   \n",
       "\n",
       "                     stoch_cls_19  stoch_cls_20  stoch_cls_21  stoch_cls_22  \\\n",
       "date                                                                          \n",
       "2015-01-22 12:00:00           0.0           0.0           1.0           1.0   \n",
       "2015-01-22 13:00:00           0.0           0.0           0.0           1.0   \n",
       "2015-01-22 14:00:00          -1.0           0.0           0.0           0.0   \n",
       "2015-01-22 15:00:00          -1.0          -1.0           0.0           0.0   \n",
       "2015-01-22 16:00:00           0.0          -1.0          -1.0           0.0   \n",
       "...                           ...           ...           ...           ...   \n",
       "2024-10-31 13:00:00           1.0           1.0           0.0          -1.0   \n",
       "2024-10-31 14:00:00           1.0           1.0           1.0           0.0   \n",
       "2024-10-31 15:00:00           1.0           1.0           1.0           1.0   \n",
       "2024-10-31 16:00:00           1.0           1.0           1.0           1.0   \n",
       "2024-10-31 17:00:00           1.0           1.0           1.0           1.0   \n",
       "\n",
       "                     stoch_cls_23  stoch_cls_24  y_close  y_true  y_true_down  \n",
       "date                                                                           \n",
       "2015-01-22 12:00:00           0.0           0.0  1.14127       0            1  \n",
       "2015-01-22 13:00:00           1.0           0.0  1.13823       0            1  \n",
       "2015-01-22 14:00:00           1.0           1.0  1.13760       0            1  \n",
       "2015-01-22 15:00:00           0.0           1.0  1.13782       0            1  \n",
       "2015-01-22 16:00:00           0.0           0.0  1.13600       0            1  \n",
       "...                           ...           ...      ...     ...          ...  \n",
       "2024-10-31 13:00:00          -1.0           0.0  1.08583       0            1  \n",
       "2024-10-31 14:00:00          -1.0          -1.0  1.08620       0            1  \n",
       "2024-10-31 15:00:00           0.0          -1.0  1.08705       0            1  \n",
       "2024-10-31 16:00:00           1.0           0.0  1.08774       1            0  \n",
       "2024-10-31 17:00:00           1.0           1.0  1.08814       1            0  \n",
       "\n",
       "[60665 rows x 238 columns]"
      ]
     },
     "execution_count": 265,
     "metadata": {},
     "output_type": "execute_result"
    }
   ],
   "source": [
    "df"
   ]
  },
  {
   "cell_type": "code",
   "execution_count": 267,
   "id": "de1177f4-2624-4673-b113-34a84037b3f4",
   "metadata": {
    "tags": []
   },
   "outputs": [
    {
     "name": "stdout",
     "output_type": "stream",
     "text": [
      "          count  pct\n",
      "train     36399  0.6\n",
      "valid     12133  0.2\n",
      "test      12133  0.2\n",
      "                    \n",
      "Amount    60665  1.0\n",
      "InitData  60665     \n"
     ]
    }
   ],
   "source": [
    "train, valid, test = pdf.split.inherit_train_valid_test(df)"
   ]
  },
  {
   "cell_type": "code",
   "execution_count": 269,
   "id": "79c17bab-5ae6-435b-9759-eb45e1a59fa9",
   "metadata": {
    "tags": []
   },
   "outputs": [
    {
     "name": "stdout",
     "output_type": "stream",
     "text": [
      "          count       pct\n",
      "train     18199  0.499986\n",
      "test      18200  0.500014\n",
      "                         \n",
      "Amount    36399       1.0\n",
      "InitData  36399          \n"
     ]
    }
   ],
   "source": [
    "train1, train2 = pdf.split.inherit_train_test(train, train_size=0.5)"
   ]
  },
  {
   "cell_type": "markdown",
   "id": "9db8958d-91c2-4837-934c-1a9c1308c220",
   "metadata": {},
   "source": [
    "# CatBoost Обучение"
   ]
  },
  {
   "cell_type": "code",
   "execution_count": 272,
   "id": "82b7cd8d-22d7-4f0d-a4ff-da44c09a2fa4",
   "metadata": {
    "tags": []
   },
   "outputs": [
    {
     "data": {
      "text/plain": [
       "Index(['date', 'weekday', 'time', 'daypart', 'open', 'high', 'low', 'close',\n",
       "       'volume', 'grn_shd',\n",
       "       ...\n",
       "       'stoch_cls_18', 'stoch_cls_19', 'stoch_cls_20', 'stoch_cls_21',\n",
       "       'stoch_cls_22', 'stoch_cls_23', 'stoch_cls_24', 'y_close', 'y_true',\n",
       "       'y_true_down'],\n",
       "      dtype='object', length=238)"
      ]
     },
     "execution_count": 272,
     "metadata": {},
     "output_type": "execute_result"
    }
   ],
   "source": [
    "train.columns"
   ]
  },
  {
   "cell_type": "code",
   "execution_count": 274,
   "id": "58f75b2e-7b1c-4810-9e86-6e959701462b",
   "metadata": {
    "tags": []
   },
   "outputs": [],
   "source": [
    "list_base_time = ['time', 'weekday', 'daypart']\n",
    "\n",
    "list_base = ['open', 'high', 'low', 'close', 'volume']\n",
    "\n",
    "list_L1_ind = ['rsi', 'sma', 'lma', 'return', 'stoch']\n",
    "list_L1_cst = ['shd', 'trend', 'volume_']\n",
    "\n",
    "list_cat_feat = ['cls', 'weekday', 'daypart', 'time']\n",
    "\n",
    "list_y = ['y_close']"
   ]
  },
  {
   "cell_type": "code",
   "execution_count": 276,
   "id": "b8d96ed8-34f7-427c-a7d4-457ff9dd6e4f",
   "metadata": {
    "tags": []
   },
   "outputs": [
    {
     "name": "stdout",
     "output_type": "stream",
     "text": [
      "XL1 len: 234\n",
      "XL1:\n",
      "\t['time', 'weekday', 'daypart', 'open', 'high', 'low', 'close', 'volume', 'grn_shd', 'red_shd', 'grn_shd_1', 'red_shd_1', 'grn_shd_2', 'red_shd_2', 'grn_shd_3', 'red_shd_3', 'grn_shd_4', 'red_shd_4', 'grn_shd_5', 'red_shd_5', 'grn_shd_6', 'red_shd_6', 'grn_shd_7', 'red_shd_7', 'grn_shd_8', 'red_shd_8', 'grn_shd_9', 'red_shd_9', 'grn_shd_10', 'red_shd_10', 'grn_shd_11', 'red_shd_11', 'grn_shd_12', 'red_shd_12', 'grn_shd_13', 'red_shd_13', 'grn_shd_14', 'red_shd_14', 'grn_shd_15', 'red_shd_15', 'grn_shd_16', 'red_shd_16', 'grn_shd_17', 'red_shd_17', 'grn_shd_18', 'red_shd_18', 'grn_shd_19', 'red_shd_19', 'grn_shd_20', 'red_shd_20', 'grn_shd_21', 'red_shd_21', 'grn_shd_22', 'red_shd_22', 'grn_shd_23', 'red_shd_23', 'grn_shd_24', 'red_shd_24', 'trend_cls', 'trend_cls_1', 'trend_cls_2', 'trend_cls_3', 'trend_cls_4', 'trend_cls_5', 'trend_cls_6', 'trend_cls_7', 'trend_cls_8', 'trend_cls_9', 'trend_cls_10', 'trend_cls_11', 'trend_cls_12', 'trend_cls_13', 'trend_cls_14', 'trend_cls_15', 'trend_cls_16', 'trend_cls_17', 'trend_cls_18', 'trend_cls_19', 'trend_cls_20', 'trend_cls_21', 'trend_cls_22', 'trend_cls_23', 'trend_cls_24', 'volume_1', 'volume_2', 'volume_3', 'volume_4', 'volume_5', 'volume_6', 'volume_7', 'volume_8', 'volume_9', 'volume_10', 'volume_11', 'volume_12', 'volume_13', 'volume_14', 'volume_15', 'volume_16', 'volume_17', 'volume_18', 'volume_19', 'volume_20', 'volume_21', 'volume_22', 'volume_23', 'volume_24', 'rsi', 'rsi_cls', 'rsi_cls_1', 'rsi_cls_2', 'rsi_cls_3', 'rsi_cls_4', 'rsi_cls_5', 'rsi_cls_6', 'rsi_cls_7', 'rsi_cls_8', 'rsi_cls_9', 'rsi_cls_10', 'rsi_cls_11', 'rsi_cls_12', 'rsi_cls_13', 'rsi_cls_14', 'rsi_cls_15', 'rsi_cls_16', 'rsi_cls_17', 'rsi_cls_18', 'rsi_cls_19', 'rsi_cls_20', 'rsi_cls_21', 'rsi_cls_22', 'rsi_cls_23', 'rsi_cls_24', 'sma', 'sma_1', 'sma_2', 'sma_3', 'sma_4', 'sma_5', 'sma_6', 'sma_7', 'sma_8', 'sma_9', 'sma_10', 'sma_11', 'sma_12', 'sma_13', 'sma_14', 'sma_15', 'sma_16', 'sma_17', 'sma_18', 'sma_19', 'sma_20', 'sma_21', 'sma_22', 'sma_23', 'sma_24', 'lma', 'lma_1', 'lma_2', 'lma_3', 'lma_4', 'lma_5', 'lma_6', 'lma_7', 'lma_8', 'lma_9', 'lma_10', 'lma_11', 'lma_12', 'lma_13', 'lma_14', 'lma_15', 'lma_16', 'lma_17', 'lma_18', 'lma_19', 'lma_20', 'lma_21', 'lma_22', 'lma_23', 'lma_24', 'return', 'return_1', 'return_2', 'return_3', 'return_4', 'return_5', 'return_6', 'return_7', 'return_8', 'return_9', 'return_10', 'return_11', 'return_12', 'return_13', 'return_14', 'return_15', 'return_16', 'return_17', 'return_18', 'return_19', 'return_20', 'return_21', 'return_22', 'return_23', 'return_24', 'stoch', 'stoch_cls', 'stoch_cls_1', 'stoch_cls_2', 'stoch_cls_3', 'stoch_cls_4', 'stoch_cls_5', 'stoch_cls_6', 'stoch_cls_7', 'stoch_cls_8', 'stoch_cls_9', 'stoch_cls_10', 'stoch_cls_11', 'stoch_cls_12', 'stoch_cls_13', 'stoch_cls_14', 'stoch_cls_15', 'stoch_cls_16', 'stoch_cls_17', 'stoch_cls_18', 'stoch_cls_19', 'stoch_cls_20', 'stoch_cls_21', 'stoch_cls_22', 'stoch_cls_23', 'stoch_cls_24']\n",
      "\n",
      "cat len: 78\n",
      "cat:\n",
      "\t['trend_cls', 'trend_cls_1', 'trend_cls_2', 'trend_cls_3', 'trend_cls_4', 'trend_cls_5', 'trend_cls_6', 'trend_cls_7', 'trend_cls_8', 'trend_cls_9', 'trend_cls_10', 'trend_cls_11', 'trend_cls_12', 'trend_cls_13', 'trend_cls_14', 'trend_cls_15', 'trend_cls_16', 'trend_cls_17', 'trend_cls_18', 'trend_cls_19', 'trend_cls_20', 'trend_cls_21', 'trend_cls_22', 'trend_cls_23', 'trend_cls_24', 'rsi_cls', 'rsi_cls_1', 'rsi_cls_2', 'rsi_cls_3', 'rsi_cls_4', 'rsi_cls_5', 'rsi_cls_6', 'rsi_cls_7', 'rsi_cls_8', 'rsi_cls_9', 'rsi_cls_10', 'rsi_cls_11', 'rsi_cls_12', 'rsi_cls_13', 'rsi_cls_14', 'rsi_cls_15', 'rsi_cls_16', 'rsi_cls_17', 'rsi_cls_18', 'rsi_cls_19', 'rsi_cls_20', 'rsi_cls_21', 'rsi_cls_22', 'rsi_cls_23', 'rsi_cls_24', 'stoch_cls', 'stoch_cls_1', 'stoch_cls_2', 'stoch_cls_3', 'stoch_cls_4', 'stoch_cls_5', 'stoch_cls_6', 'stoch_cls_7', 'stoch_cls_8', 'stoch_cls_9', 'stoch_cls_10', 'stoch_cls_11', 'stoch_cls_12', 'stoch_cls_13', 'stoch_cls_14', 'stoch_cls_15', 'stoch_cls_16', 'stoch_cls_17', 'stoch_cls_18', 'stoch_cls_19', 'stoch_cls_20', 'stoch_cls_21', 'stoch_cls_22', 'stoch_cls_23', 'stoch_cls_24', 'weekday', 'daypart', 'time']\n",
      "\n",
      "y_close: \n",
      "\t['y_close']\n"
     ]
    }
   ],
   "source": [
    "XL1 = list_base_time.copy() + list_base.copy()\n",
    "for x1 in list_L1_cst + list_L1_ind:\n",
    "    for x2 in list(train.columns):\n",
    "        if x1 in x2: XL1.append(x2)\n",
    "\n",
    "print(f'XL1 len: {len(XL1)}')\n",
    "print(f'XL1:\\n\\t{XL1}')\n",
    "print()\n",
    "\n",
    "# --------\n",
    "\n",
    "cat_features = []\n",
    "for c1 in list_cat_feat:\n",
    "    for c2 in list(train.columns):\n",
    "        if c1 in c2: cat_features.append(c2)\n",
    "    \n",
    "print(f'cat len: {len(cat_features)}')\n",
    "print(f'cat:\\n\\t{cat_features}')\n",
    "print()\n",
    "\n",
    "y = []\n",
    "for y1 in list_y:\n",
    "    for y2 in list(train.columns):\n",
    "        if y1 in y2: y.append(y2)\n",
    "\n",
    "print(f'y_close: \\n\\t{y}')"
   ]
  },
  {
   "cell_type": "code",
   "execution_count": 278,
   "id": "5a4148f6-559d-4835-bd0a-0f331a3a69ab",
   "metadata": {
    "tags": []
   },
   "outputs": [],
   "source": [
    "warnings.simplefilter(action='ignore', category=FutureWarning)\n",
    "warnings.simplefilter(action='ignore', category=pd.errors.PerformanceWarning)\n",
    "warnings.simplefilter(action='ignore', category=pd.errors.SettingWithCopyWarning)\n",
    "\n",
    "def asint(x): return x.astype(int) if x.dtype == float else x\n",
    "\n",
    "train[cat_features]  = train[cat_features].apply(asint, axis=0)\n",
    "train1[cat_features] = train[cat_features].apply(asint, axis=0)\n",
    "train2[cat_features] = train[cat_features].apply(asint, axis=0)\n",
    "\n",
    "valid[cat_features]  = valid[cat_features].apply(asint, axis=0)\n",
    "test[cat_features]   = test[cat_features].apply(asint, axis=0)"
   ]
  },
  {
   "cell_type": "markdown",
   "id": "43a40752-92d7-4371-8bc8-f61a8a37ebba",
   "metadata": {},
   "source": [
    "## Level 1 - Regression"
   ]
  },
  {
   "cell_type": "markdown",
   "id": "b638d5c7-2261-4e30-9d66-cfce6296b73d",
   "metadata": {
    "tags": []
   },
   "source": [
    "### Regression 1"
   ]
  },
  {
   "cell_type": "code",
   "execution_count": 282,
   "id": "1185dbff-f3bd-4b1d-abbc-6c82bdd0d8a2",
   "metadata": {
    "tags": []
   },
   "outputs": [],
   "source": [
    "param_R1L1 = {\n",
    "    'cat_features': cat_features,\n",
    "    'task_type': 'GPU',\n",
    "    'early_stopping_rounds': 100,\n",
    "    'eval_metric': 'MAPE',\n",
    "    'random_seed': 42,\n",
    "    'verbose': 200,\n",
    "    'iterations': 10000,\n",
    "    'learning_rate': 0.005,\n",
    "    # 'depth': 10,\n",
    "}"
   ]
  },
  {
   "cell_type": "code",
   "execution_count": 284,
   "id": "194dc507-7ca1-4212-bb0d-2c1c43eec9a4",
   "metadata": {
    "tags": []
   },
   "outputs": [],
   "source": [
    "model_R1L1 = CatBoostRegressor(**param_R1L1)"
   ]
  },
  {
   "cell_type": "code",
   "execution_count": 286,
   "id": "83761a23-8ddb-4a37-8b71-468f91881fed",
   "metadata": {
    "tags": []
   },
   "outputs": [
    {
     "name": "stdout",
     "output_type": "stream",
     "text": [
      "0:\tlearn: 0.0262988\ttest: 0.0619951\tbest: 0.0619951 (0)\ttotal: 130ms\tremaining: 21m 44s\n",
      "200:\tlearn: 0.0101496\ttest: 0.0329753\tbest: 0.0329753 (200)\ttotal: 24.2s\tremaining: 19m 37s\n",
      "400:\tlearn: 0.0044617\ttest: 0.0201833\tbest: 0.0201833 (400)\ttotal: 48.2s\tremaining: 19m 13s\n",
      "600:\tlearn: 0.0026445\ttest: 0.0149654\tbest: 0.0149654 (600)\ttotal: 1m 12s\tremaining: 18m 56s\n",
      "800:\tlearn: 0.0021608\ttest: 0.0129237\tbest: 0.0129237 (800)\ttotal: 1m 37s\tremaining: 18m 34s\n",
      "1000:\tlearn: 0.0020378\ttest: 0.0121538\tbest: 0.0121538 (1000)\ttotal: 2m 2s\tremaining: 18m 20s\n",
      "1200:\tlearn: 0.0019988\ttest: 0.0118230\tbest: 0.0118230 (1200)\ttotal: 2m 27s\tremaining: 17m 59s\n",
      "1400:\tlearn: 0.0019790\ttest: 0.0116845\tbest: 0.0116845 (1400)\ttotal: 2m 52s\tremaining: 17m 38s\n",
      "1600:\tlearn: 0.0019661\ttest: 0.0116256\tbest: 0.0116256 (1600)\ttotal: 3m 17s\tremaining: 17m 15s\n",
      "1800:\tlearn: 0.0019555\ttest: 0.0115953\tbest: 0.0115948 (1797)\ttotal: 3m 42s\tremaining: 16m 51s\n",
      "2000:\tlearn: 0.0019454\ttest: 0.0115842\tbest: 0.0115828 (1991)\ttotal: 4m 7s\tremaining: 16m 27s\n",
      "2200:\tlearn: 0.0019367\ttest: 0.0115802\tbest: 0.0115799 (2165)\ttotal: 4m 32s\tremaining: 16m 6s\n",
      "2400:\tlearn: 0.0019295\ttest: 0.0115740\tbest: 0.0115735 (2387)\ttotal: 4m 58s\tremaining: 15m 44s\n",
      "2600:\tlearn: 0.0019210\ttest: 0.0115722\tbest: 0.0115716 (2556)\ttotal: 5m 25s\tremaining: 15m 25s\n",
      "2800:\tlearn: 0.0019132\ttest: 0.0115617\tbest: 0.0115614 (2792)\ttotal: 5m 51s\tremaining: 15m 3s\n",
      "3000:\tlearn: 0.0019071\ttest: 0.0115550\tbest: 0.0115549 (2996)\ttotal: 6m 16s\tremaining: 14m 39s\n",
      "3200:\tlearn: 0.0019017\ttest: 0.0115490\tbest: 0.0115489 (3197)\ttotal: 6m 42s\tremaining: 14m 14s\n",
      "3400:\tlearn: 0.0018965\ttest: 0.0115448\tbest: 0.0115448 (3400)\ttotal: 7m 7s\tremaining: 13m 48s\n",
      "3600:\tlearn: 0.0018920\ttest: 0.0115423\tbest: 0.0115421 (3565)\ttotal: 7m 32s\tremaining: 13m 23s\n",
      "3800:\tlearn: 0.0018869\ttest: 0.0115397\tbest: 0.0115393 (3771)\ttotal: 7m 56s\tremaining: 12m 57s\n",
      "4000:\tlearn: 0.0018821\ttest: 0.0115383\tbest: 0.0115382 (3998)\ttotal: 8m 20s\tremaining: 12m 30s\n",
      "4200:\tlearn: 0.0018776\ttest: 0.0115351\tbest: 0.0115341 (4167)\ttotal: 8m 45s\tremaining: 12m 5s\n",
      "bestTest = 0.01153363736\n",
      "bestIteration = 4269\n",
      "Shrink model to first 4270 iterations.\n",
      "TIME: 00:09:09\n"
     ]
    }
   ],
   "source": [
    "start = time.time()\n",
    "model_R1L1.fit(train1[XL1], train1[y], eval_set=(valid[XL1], valid[y]))\n",
    "print(f'TIME: {time.strftime(\"%H:%M:%S\", time.gmtime(time.time() - start))}')"
   ]
  },
  {
   "cell_type": "code",
   "execution_count": 287,
   "id": "1a9381b1-69f0-4ab0-b8e0-83301c0dc136",
   "metadata": {
    "tags": []
   },
   "outputs": [
    {
     "name": "stdout",
     "output_type": "stream",
     "text": [
      "R1L1_4.cbm\n"
     ]
    }
   ],
   "source": [
    "model_R1L1.save_model(get_savemodel_name('R1L1'))"
   ]
  },
  {
   "cell_type": "code",
   "execution_count": 288,
   "id": "2b9ad059-f612-45b9-b7de-0102ed74c89e",
   "metadata": {
    "tags": []
   },
   "outputs": [],
   "source": [
    "warnings.simplefilter(action='ignore', category=FutureWarning)\n",
    "warnings.simplefilter(action='ignore', category=pd.errors.PerformanceWarning)\n",
    "warnings.simplefilter(action='ignore', category=pd.errors.SettingWithCopyWarning)\n",
    "\n",
    "train.loc[:, 'predict_R1L1']     = model_R1L1.predict(train[XL1])\n",
    "train.loc[:, 'predict_cls_R1L1'] = (train.loc[:, 'close'] < train.loc[:, 'predict_R1L1']) * 1\n",
    "\n",
    "train1.loc[:, 'predict_R1L1']     = model_R1L1.predict(train1[XL1])\n",
    "train1.loc[:, 'predict_cls_R1L1'] = (train1.loc[:, 'close'] < train1.loc[:, 'predict_R1L1']) * 1\n",
    "\n",
    "train2.loc[:, 'predict_R1L1']     = model_R1L1.predict(train2[XL1])\n",
    "train2.loc[:, 'predict_cls_R1L1'] = (train2.loc[:, 'close'] < train2.loc[:, 'predict_R1L1']) * 1\n",
    "\n",
    "valid.loc[:, 'predict_R1L1']     = model_R1L1.predict(valid[XL1])\n",
    "valid.loc[:, 'predict_cls_R1L1'] = (valid.loc[:, 'close'] < valid.loc[:, 'predict_R1L1']) * 1"
   ]
  },
  {
   "cell_type": "code",
   "execution_count": 289,
   "id": "87f9fd13-aba8-4eba-b93e-f8c66d72abe3",
   "metadata": {
    "tags": []
   },
   "outputs": [
    {
     "name": "stdout",
     "output_type": "stream",
     "text": [
      "        current\n",
      "MAE    0.001793\n",
      "MAPE   0.001664\n",
      "SMAPE  0.001663\n",
      "RMSE   0.002684\n",
      "RMSLE  0.001296\n",
      "CONFMAT  (2374, 3534, 2447, 3778)              \n",
      "ROC_AUC  0.50\n",
      "PRECREC  0.52\n"
     ]
    }
   ],
   "source": [
    "warnings.simplefilter(action='ignore', category=FutureWarning)\n",
    "warnings.simplefilter(action='ignore', category=pd.errors.PerformanceWarning)\n",
    "warnings.simplefilter(action='ignore', category=pd.errors.SettingWithCopyWarning)\n",
    "\n",
    "test.loc[:, 'predict_R1L1']     = model_R1L1.predict(test[XL1]);\n",
    "test.loc[:, 'predict_cls_R1L1'] = (test.loc[:,'close'] < test.loc[:,'predict_R1L1']) * 1;\n",
    "\n",
    "pdf.metrics.mean_error(test['y_close'], test['predict_R1L1'])\n",
    "pdf.metrics.metrics_class(test['y_true'], test['predict_cls_R1L1'])"
   ]
  },
  {
   "cell_type": "markdown",
   "id": "074a7f84-134a-4624-991a-83fdc62eb86c",
   "metadata": {},
   "source": [
    "### Regression 2"
   ]
  },
  {
   "cell_type": "code",
   "execution_count": 294,
   "id": "b61ab5c2-c6db-4e97-86a6-7f9c5889f677",
   "metadata": {
    "tags": []
   },
   "outputs": [],
   "source": [
    "param_R2L1 = param_R1L1"
   ]
  },
  {
   "cell_type": "code",
   "execution_count": 296,
   "id": "62e3dd7d-0255-40ce-a5e2-1720b4550fe6",
   "metadata": {
    "tags": []
   },
   "outputs": [],
   "source": [
    "model_R2L1 = CatBoostRegressor(**param_R2L1)"
   ]
  },
  {
   "cell_type": "code",
   "execution_count": 298,
   "id": "1d430db2-ee5a-46b1-9f7f-543e01ff4128",
   "metadata": {
    "tags": []
   },
   "outputs": [
    {
     "name": "stdout",
     "output_type": "stream",
     "text": [
      "0:\tlearn: 0.0297694\ttest: 0.0601965\tbest: 0.0601965 (0)\ttotal: 131ms\tremaining: 21m 50s\n",
      "200:\tlearn: 0.0112123\ttest: 0.0342386\tbest: 0.0342386 (200)\ttotal: 25.2s\tremaining: 20m 30s\n",
      "400:\tlearn: 0.0044919\ttest: 0.0242940\tbest: 0.0242940 (400)\ttotal: 51.2s\tremaining: 20m 24s\n",
      "600:\tlearn: 0.0023021\ttest: 0.0204951\tbest: 0.0204951 (600)\ttotal: 1m 17s\tremaining: 20m 6s\n",
      "800:\tlearn: 0.0017064\ttest: 0.0188548\tbest: 0.0188548 (800)\ttotal: 1m 43s\tremaining: 19m 44s\n",
      "1000:\tlearn: 0.0015597\ttest: 0.0182427\tbest: 0.0182427 (1000)\ttotal: 2m 9s\tremaining: 19m 23s\n",
      "1200:\tlearn: 0.0015113\ttest: 0.0179819\tbest: 0.0179819 (1200)\ttotal: 2m 36s\tremaining: 19m 5s\n",
      "1400:\tlearn: 0.0014877\ttest: 0.0178689\tbest: 0.0178689 (1400)\ttotal: 3m 3s\tremaining: 18m 46s\n",
      "1600:\tlearn: 0.0014721\ttest: 0.0178273\tbest: 0.0178265 (1591)\ttotal: 3m 30s\tremaining: 18m 25s\n",
      "1800:\tlearn: 0.0014600\ttest: 0.0178125\tbest: 0.0178125 (1800)\ttotal: 3m 55s\tremaining: 17m 54s\n",
      "2000:\tlearn: 0.0014521\ttest: 0.0178073\tbest: 0.0178071 (1985)\ttotal: 4m 20s\tremaining: 17m 20s\n",
      "2200:\tlearn: 0.0014460\ttest: 0.0178063\tbest: 0.0178041 (2148)\ttotal: 4m 43s\tremaining: 16m 44s\n",
      "bestTest = 0.01780411807\n",
      "bestIteration = 2148\n",
      "Shrink model to first 2149 iterations.\n",
      "TIME: 00:04:51\n"
     ]
    }
   ],
   "source": [
    "start = time.time()\n",
    "model_R2L1.fit(train2[XL1], train2[y], eval_set=(valid[XL1], valid[y]))\n",
    "print(f'TIME: {time.strftime(\"%H:%M:%S\", time.gmtime(time.time() - start))}')"
   ]
  },
  {
   "cell_type": "code",
   "execution_count": 299,
   "id": "e81cd442-8e2d-4057-a71a-513f2cc6894c",
   "metadata": {
    "tags": []
   },
   "outputs": [
    {
     "name": "stdout",
     "output_type": "stream",
     "text": [
      "R2L1_4.cbm\n"
     ]
    }
   ],
   "source": [
    "model_R2L1.save_model(get_savemodel_name('R2L1'))"
   ]
  },
  {
   "cell_type": "code",
   "execution_count": 300,
   "id": "4bb85be6-27e3-4496-995e-092ac665bcfe",
   "metadata": {
    "tags": []
   },
   "outputs": [],
   "source": [
    "warnings.simplefilter(action='ignore', category=FutureWarning)\n",
    "warnings.simplefilter(action='ignore', category=pd.errors.PerformanceWarning)\n",
    "warnings.simplefilter(action='ignore', category=pd.errors.SettingWithCopyWarning)\n",
    "\n",
    "train.loc[:, 'predict_R2L1']     = model_R2L1.predict(train.loc[:,XL1])\n",
    "train.loc[:, 'predict_cls_R2L1'] = (train.loc[:, 'close'] < train.loc[:, 'predict_R2L1']) * 1\n",
    "\n",
    "train1.loc[:, 'predict_R2L1']     = model_R2L1.predict(train1.loc[:,XL1])\n",
    "train1.loc[:, 'predict_cls_R2L1'] = (train1.loc[:, 'close'] < train1.loc[:, 'predict_R2L1']) * 1\n",
    "\n",
    "train2.loc[:, 'predict_R2L1']     = model_R2L1.predict(train2.loc[:,XL1])\n",
    "train2.loc[:, 'predict_cls_R2L1'] = (train2.loc[:, 'close'] < train2.loc[:, 'predict_R2L1']) * 1\n",
    "\n",
    "valid.loc[:, 'predict_R2L1']     = model_R2L1.predict(valid.loc[:,XL1])\n",
    "valid.loc[:, 'predict_cls_R2L1'] = (valid.loc[:, 'close'] < valid.loc[:, 'predict_R2L1']) * 1"
   ]
  },
  {
   "cell_type": "code",
   "execution_count": 301,
   "id": "cbaadc6f-3cc9-48d1-b781-5c887b758855",
   "metadata": {
    "tags": []
   },
   "outputs": [
    {
     "name": "stdout",
     "output_type": "stream",
     "text": [
      "        current\n",
      "MAE    0.006051\n",
      "MAPE   0.005692\n",
      "SMAPE  0.005645\n",
      "RMSE   0.010430\n",
      "RMSLE  0.005051\n",
      "CONFMAT  (1432, 4476, 1291, 4934)              \n",
      "ROC_AUC  0.52\n",
      "PRECREC  0.52\n"
     ]
    }
   ],
   "source": [
    "warnings.simplefilter(action='ignore', category=FutureWarning)\n",
    "warnings.simplefilter(action='ignore', category=pd.errors.PerformanceWarning)\n",
    "warnings.simplefilter(action='ignore', category=pd.errors.SettingWithCopyWarning)\n",
    "\n",
    "test.loc[:, 'predict_R2L1']     = model_R2L1.predict(test.loc[:,XL1])\n",
    "test.loc[:, 'predict_cls_R2L1'] = (test.loc[:,'close'] < test.loc[:,'predict_R2L1']) * 1\n",
    "\n",
    "pdf.metrics.mean_error(test.loc[:,'y_close'], test.loc[:,'predict_R2L1'])\n",
    "pdf.metrics.metrics_class(test.loc[:,'y_true'], test.loc[:,'predict_cls_R2L1'])"
   ]
  },
  {
   "cell_type": "markdown",
   "id": "80e1b01d-39fb-4331-9f78-d61bc6473a38",
   "metadata": {},
   "source": [
    "## Level 2 - Classification"
   ]
  },
  {
   "cell_type": "markdown",
   "id": "299607c3-80d5-43a8-babb-ded385ec9551",
   "metadata": {},
   "source": [
    "### Classification 1 - UP"
   ]
  },
  {
   "cell_type": "code",
   "execution_count": 342,
   "id": "c0acf50b-bb75-4069-9991-7b3948591e7c",
   "metadata": {
    "tags": []
   },
   "outputs": [
    {
     "name": "stdout",
     "output_type": "stream",
     "text": [
      "XL2 len: 7\n",
      "XL2: \n",
      "\t['time', 'weekday', 'daypart', 'predict_R1L1', 'predict_R2L1', 'predict_cls_R1L1', 'predict_cls_R2L1']\n",
      "\n",
      "cat len: 5\n",
      "cat:\n",
      "\t['predict_cls_R1L1', 'predict_cls_R2L1', 'weekday', 'daypart', 'time']\n",
      "\n",
      "y_up: \n",
      "\ty_true\n",
      "y_down: \n",
      "\ty_true_down\n"
     ]
    }
   ],
   "source": [
    "list_L2 = ['predict_R1L1',  'predict_R2L1',\n",
    "           'predict_cls_R1L1', 'predict_cls_R2L1']\n",
    "\n",
    "XL2 = []\n",
    "# XL2 = XL1.copy() + list_L2.copy()\n",
    "XL2 = list_base_time.copy() + list_L2.copy()\n",
    "\n",
    "print(f'XL2 len: {len(XL2)}')\n",
    "print(f'XL2: \\n\\t{XL2}')\n",
    "print()\n",
    "\n",
    "cat_features = []\n",
    "for c1 in list_cat_feat:\n",
    "    for c2 in list(XL2):\n",
    "        if c1 in c2: \n",
    "            cat_features.append(c2)\n",
    "    \n",
    "print(f'cat len: {len(cat_features)}')\n",
    "print(f'cat:\\n\\t{cat_features}')\n",
    "print()\n",
    "\n",
    "y_up = 'y_true'\n",
    "y_down = 'y_true_down'\n",
    "\n",
    "print(f'y_up: \\n\\t{y_up}')\n",
    "print(f'y_down: \\n\\t{y_down}')"
   ]
  },
  {
   "cell_type": "code",
   "execution_count": 344,
   "id": "d7b71534-36e2-4db5-8c10-10a51d9a3f06",
   "metadata": {
    "tags": []
   },
   "outputs": [],
   "source": [
    "paramC1L2 = {\n",
    "    'cat_features': cat_features,\n",
    "    'task_type': 'GPU',\n",
    "    'early_stopping_rounds': 100,\n",
    "    'eval_metric': 'Logloss',\n",
    "    'random_seed': 42,\n",
    "    'verbose': 200,\n",
    "    'iterations': 10000,\n",
    "    'learning_rate': 0.005,\n",
    "    # 'depth': 10,\n",
    "}"
   ]
  },
  {
   "cell_type": "code",
   "execution_count": 346,
   "id": "88440570-2ae2-42e2-867f-2b6e951a9325",
   "metadata": {
    "tags": []
   },
   "outputs": [],
   "source": [
    "model_C1L2 = CatBoostClassifier(**paramC1L2)"
   ]
  },
  {
   "cell_type": "code",
   "execution_count": 348,
   "id": "b9fb2c31-4e3c-44bc-b8ff-67b7db1830de",
   "metadata": {
    "tags": []
   },
   "outputs": [
    {
     "name": "stdout",
     "output_type": "stream",
     "text": [
      "0:\tlearn: 0.6930599\ttest: 0.6931627\tbest: 0.6931627 (0)\ttotal: 54.6ms\tremaining: 9m 5s\n",
      "bestTest = 0.6931627425\n",
      "bestIteration = 0\n",
      "Shrink model to first 1 iterations.\n",
      "TIME: 00:00:05\n"
     ]
    }
   ],
   "source": [
    "start = time.time()\n",
    "model_C1L2.fit(train[XL2], train[y_up], eval_set=(valid[XL2], valid[y_up]))\n",
    "print(f'TIME: {time.strftime(\"%H:%M:%S\", time.gmtime(time.time() - start))}')"
   ]
  },
  {
   "cell_type": "code",
   "execution_count": 349,
   "id": "f2afedd1-ec01-4ef9-8449-e6b4e900bd0d",
   "metadata": {
    "tags": []
   },
   "outputs": [
    {
     "name": "stdout",
     "output_type": "stream",
     "text": [
      "C1L2_5.cbm\n"
     ]
    }
   ],
   "source": [
    "model_C1L2.save_model(get_savemodel_name('C1L2'))"
   ]
  },
  {
   "cell_type": "code",
   "execution_count": 350,
   "id": "77442b96-2309-4460-b4b9-6f632e289256",
   "metadata": {
    "tags": []
   },
   "outputs": [
    {
     "name": "stdout",
     "output_type": "stream",
     "text": [
      "CONFMAT  (2294, 3614, 2360, 3865)              \n",
      "ROC_AUC  0.50\n",
      "PRECREC  0.52\n"
     ]
    }
   ],
   "source": [
    "warnings.simplefilter(action='ignore', category=FutureWarning)\n",
    "warnings.simplefilter(action='ignore', category=pd.errors.PerformanceWarning)\n",
    "warnings.simplefilter(action='ignore', category=pd.errors.SettingWithCopyWarning)\n",
    "\n",
    "test.loc[:, 'predict_C1L2_cls'] = model_C1L2.predict(test[XL2])\n",
    "pdf.metrics.metrics_class(test.loc[:, 'y_true'], test.loc[:, 'predict_C1L2_cls'])"
   ]
  },
  {
   "cell_type": "code",
   "execution_count": 354,
   "id": "71d13968-6a73-4471-9991-4df1f52bb8fe",
   "metadata": {
    "tags": []
   },
   "outputs": [],
   "source": [
    "warnings.simplefilter(action='ignore', category=FutureWarning)\n",
    "test.loc[:, 'pred_y_up'] = model_C1L2.predict_proba(test[XL2])[:,1]"
   ]
  },
  {
   "cell_type": "markdown",
   "id": "cd3db1ad-16a1-4328-8191-8cea9c075b54",
   "metadata": {
    "tags": []
   },
   "source": [
    "### Classification 2 - DOWN"
   ]
  },
  {
   "cell_type": "code",
   "execution_count": 357,
   "id": "c87652cf-943d-4266-8e43-2eea5946b05d",
   "metadata": {
    "tags": []
   },
   "outputs": [],
   "source": [
    "paramC2L2 = paramC1L2"
   ]
  },
  {
   "cell_type": "code",
   "execution_count": 359,
   "id": "05715f31-aeeb-40a6-8fbb-a2c6cd4e799c",
   "metadata": {
    "tags": []
   },
   "outputs": [],
   "source": [
    "model_C2L2 = CatBoostClassifier(**paramC2L2)"
   ]
  },
  {
   "cell_type": "code",
   "execution_count": 361,
   "id": "04e9f3ee-8ed9-4c78-8eb6-80029a65d78c",
   "metadata": {
    "tags": []
   },
   "outputs": [
    {
     "name": "stdout",
     "output_type": "stream",
     "text": [
      "0:\tlearn: 0.6930573\ttest: 0.6931692\tbest: 0.6931692 (0)\ttotal: 56.2ms\tremaining: 9m 21s\n",
      "bestTest = 0.6931691815\n",
      "bestIteration = 0\n",
      "Shrink model to first 1 iterations.\n",
      "TIME: 00:00:05\n"
     ]
    }
   ],
   "source": [
    "start = time.time()\n",
    "model_C2L2.fit(train[XL2], train[y_down], eval_set=(valid[XL2], valid[y_down]))\n",
    "print(f'TIME: {time.strftime(\"%H:%M:%S\", time.gmtime(time.time() - start))}')"
   ]
  },
  {
   "cell_type": "code",
   "execution_count": 362,
   "id": "fbf86eeb-fdbc-4abb-896f-955874ddb765",
   "metadata": {
    "tags": []
   },
   "outputs": [
    {
     "name": "stdout",
     "output_type": "stream",
     "text": [
      "C2L2_5.cbm\n"
     ]
    }
   ],
   "source": [
    "model_C2L2.save_model(get_savemodel_name('C2L2'))"
   ]
  },
  {
   "cell_type": "code",
   "execution_count": null,
   "id": "cd052134-27ee-4182-8f30-479fb5f1b276",
   "metadata": {},
   "outputs": [],
   "source": [
    "# model_C2L2.load_model('Model/C2L2_3.cbm')"
   ]
  },
  {
   "cell_type": "code",
   "execution_count": 363,
   "id": "8915efe6-6280-4feb-9e74-cf63d174f9c2",
   "metadata": {
    "tags": []
   },
   "outputs": [
    {
     "name": "stdout",
     "output_type": "stream",
     "text": [
      "CONFMAT  (4682, 1577, 4368, 1506)              \n",
      "ROC_AUC  0.50\n",
      "PRECREC  0.49\n"
     ]
    }
   ],
   "source": [
    "warnings.simplefilter(action='ignore', category=FutureWarning)\n",
    "warnings.simplefilter(action='ignore', category=pd.errors.PerformanceWarning)\n",
    "warnings.simplefilter(action='ignore', category=pd.errors.SettingWithCopyWarning)\n",
    "\n",
    "test.loc[:, 'predict_C2L2_cls'] = model_C2L2.predict(test[XL2])\n",
    "pdf.metrics.metrics_class(test.loc[:, 'y_true_down'], test.loc[:, 'predict_C2L2_cls'])"
   ]
  },
  {
   "cell_type": "code",
   "execution_count": 364,
   "id": "b7be4949-703c-4e1e-bbac-21a28ff6fcd7",
   "metadata": {
    "tags": []
   },
   "outputs": [],
   "source": [
    "warnings.simplefilter(action='ignore', category=FutureWarning)\n",
    "warnings.simplefilter(action='ignore', category=pd.errors.PerformanceWarning)\n",
    "warnings.simplefilter(action='ignore', category=pd.errors.SettingWithCopyWarning)\n",
    "\n",
    "test.loc[:, 'pred_y_down'] = model_C2L2.predict_proba(test[XL2])[:,1]"
   ]
  },
  {
   "cell_type": "markdown",
   "id": "fe802361-7ce5-4af6-ab62-1d1428d9387e",
   "metadata": {},
   "source": [
    "# RESULTS"
   ]
  },
  {
   "cell_type": "code",
   "execution_count": 366,
   "id": "6f7b142d-b010-40c7-a6d0-882f5501cbb4",
   "metadata": {
    "tags": []
   },
   "outputs": [
    {
     "data": {
      "text/html": [
       "<div>\n",
       "<style scoped>\n",
       "    .dataframe tbody tr th:only-of-type {\n",
       "        vertical-align: middle;\n",
       "    }\n",
       "\n",
       "    .dataframe tbody tr th {\n",
       "        vertical-align: top;\n",
       "    }\n",
       "\n",
       "    .dataframe thead th {\n",
       "        text-align: right;\n",
       "    }\n",
       "</style>\n",
       "<table border=\"1\" class=\"dataframe\">\n",
       "  <thead>\n",
       "    <tr style=\"text-align: right;\">\n",
       "      <th></th>\n",
       "      <th>close</th>\n",
       "      <th>y_close</th>\n",
       "      <th>y_true</th>\n",
       "      <th>y_true_down</th>\n",
       "      <th>predict_C1L2_cls</th>\n",
       "      <th>predict_C2L2_cls</th>\n",
       "      <th>pred_y_up</th>\n",
       "      <th>pred_y_down</th>\n",
       "    </tr>\n",
       "    <tr>\n",
       "      <th>date</th>\n",
       "      <th></th>\n",
       "      <th></th>\n",
       "      <th></th>\n",
       "      <th></th>\n",
       "      <th></th>\n",
       "      <th></th>\n",
       "      <th></th>\n",
       "      <th></th>\n",
       "    </tr>\n",
       "  </thead>\n",
       "  <tbody>\n",
       "    <tr>\n",
       "      <th>2024-10-31 13:00:00</th>\n",
       "      <td>1.08671</td>\n",
       "      <td>1.08583</td>\n",
       "      <td>0</td>\n",
       "      <td>1</td>\n",
       "      <td>1</td>\n",
       "      <td>0</td>\n",
       "      <td>0.500051</td>\n",
       "      <td>0.499945</td>\n",
       "    </tr>\n",
       "    <tr>\n",
       "      <th>2024-10-31 14:00:00</th>\n",
       "      <td>1.08687</td>\n",
       "      <td>1.08620</td>\n",
       "      <td>0</td>\n",
       "      <td>1</td>\n",
       "      <td>1</td>\n",
       "      <td>0</td>\n",
       "      <td>0.500051</td>\n",
       "      <td>0.499945</td>\n",
       "    </tr>\n",
       "    <tr>\n",
       "      <th>2024-10-31 15:00:00</th>\n",
       "      <td>1.08796</td>\n",
       "      <td>1.08705</td>\n",
       "      <td>0</td>\n",
       "      <td>1</td>\n",
       "      <td>1</td>\n",
       "      <td>0</td>\n",
       "      <td>0.500403</td>\n",
       "      <td>0.499637</td>\n",
       "    </tr>\n",
       "    <tr>\n",
       "      <th>2024-10-31 16:00:00</th>\n",
       "      <td>1.08595</td>\n",
       "      <td>1.08774</td>\n",
       "      <td>1</td>\n",
       "      <td>0</td>\n",
       "      <td>1</td>\n",
       "      <td>0</td>\n",
       "      <td>0.500403</td>\n",
       "      <td>0.499637</td>\n",
       "    </tr>\n",
       "    <tr>\n",
       "      <th>2024-10-31 17:00:00</th>\n",
       "      <td>1.08648</td>\n",
       "      <td>1.08814</td>\n",
       "      <td>1</td>\n",
       "      <td>0</td>\n",
       "      <td>1</td>\n",
       "      <td>0</td>\n",
       "      <td>0.500403</td>\n",
       "      <td>0.499637</td>\n",
       "    </tr>\n",
       "  </tbody>\n",
       "</table>\n",
       "</div>"
      ],
      "text/plain": [
       "                       close  y_close  y_true  y_true_down  predict_C1L2_cls  \\\n",
       "date                                                                           \n",
       "2024-10-31 13:00:00  1.08671  1.08583       0            1                 1   \n",
       "2024-10-31 14:00:00  1.08687  1.08620       0            1                 1   \n",
       "2024-10-31 15:00:00  1.08796  1.08705       0            1                 1   \n",
       "2024-10-31 16:00:00  1.08595  1.08774       1            0                 1   \n",
       "2024-10-31 17:00:00  1.08648  1.08814       1            0                 1   \n",
       "\n",
       "                     predict_C2L2_cls  pred_y_up  pred_y_down  \n",
       "date                                                           \n",
       "2024-10-31 13:00:00                 0   0.500051     0.499945  \n",
       "2024-10-31 14:00:00                 0   0.500051     0.499945  \n",
       "2024-10-31 15:00:00                 0   0.500403     0.499637  \n",
       "2024-10-31 16:00:00                 0   0.500403     0.499637  \n",
       "2024-10-31 17:00:00                 0   0.500403     0.499637  "
      ]
     },
     "execution_count": 366,
     "metadata": {},
     "output_type": "execute_result"
    }
   ],
   "source": [
    "res = []\n",
    "\n",
    "for i in test.columns:\n",
    "    if 'pred_' in i:\n",
    "        res.append(i)\n",
    "\n",
    "test[['close', 'y_close', 'y_true', 'y_true_down',\n",
    "      'predict_C1L2_cls', 'predict_C2L2_cls'] + res].tail(5)"
   ]
  },
  {
   "cell_type": "code",
   "execution_count": 381,
   "id": "d70fdcca-a5e8-4b44-b068-f65c82e7c942",
   "metadata": {
    "tags": []
   },
   "outputs": [
    {
     "name": "stdout",
     "output_type": "stream",
     "text": [
      "CONFMAT  (0, 35, 0, 24)              \n",
      "ROC_AUC  0.50\n",
      "PRECREC  0.41\n"
     ]
    },
    {
     "data": {
      "image/png": "[encoded data removed]",
      "text/plain": [
       "<Figure size 1500x600 with 2 Axes>"
      ]
     },
     "metadata": {},
     "output_type": "display_data"
    }
   ],
   "source": [
    "warnings.simplefilter(action='ignore', category=FutureWarning)\n",
    "warnings.simplefilter(action='ignore', category=pd.errors.PerformanceWarning)\n",
    "warnings.simplefilter(action='ignore', category=pd.errors.SettingWithCopyWarning)\n",
    "\n",
    "data = test.tail(12*8)\n",
    "data.index = pd.to_datetime(data.index)\n",
    "\n",
    "threshold = 0\n",
    "threshold = 0.0005\n",
    "\n",
    "data['ind_up'] = ((data['pred_y_up'] - data['pred_y_down']) > threshold).astype(float)\n",
    "data.loc[data['ind_up'] != 1, 'ind_up'] = float(\"NaN\")\n",
    "data.loc[data['ind_up'] == 1, 'ind_up'] = data['low'] - 0.0003\n",
    "\n",
    "data['ind_down'] = ((data['pred_y_down'] - data['pred_y_up']) > threshold).astype(float)\n",
    "data.loc[data['ind_down'] != 1, 'ind_down'] = float(\"NaN\")\n",
    "data.loc[data['ind_down'] == 1, 'ind_down'] = data['high'] + 0.0003\n",
    "\n",
    "res = data[['y_true', 'ind_up']]\n",
    "\n",
    "res.loc[res['ind_up'] > 0, 'ind_pred'] = 1\n",
    "res = res.loc[res['ind_pred'] == 1.0]\n",
    "res['ind_pred'] = res['ind_pred'].astype(int)\n",
    "\n",
    "pdf.metrics.metrics_class(res.loc[:,'y_true'], res.loc[:,'ind_pred'])\n",
    "\n",
    "add_plot = [\n",
    "    mpf.make_addplot(data['ind_up'],\n",
    "                     type='scatter', color='blue',\n",
    "                     marker='^', markersize=50,\n",
    "                     panel=0,\n",
    "                     ),\n",
    "\n",
    "    mpf.make_addplot(data['ind_down'],\n",
    "                     type='scatter', color='blue',\n",
    "                     marker='v', markersize=50,\n",
    "                     panel=0\n",
    "                     )\n",
    "]\n",
    "\n",
    "mc = mpf.make_marketcolors(\n",
    "    up='green', down='red',\n",
    "    edge='inherit',\n",
    "    wick='black',\n",
    "    volume='in',\n",
    "    ohlc='i',\n",
    ")\n",
    "\n",
    "s = mpf.make_mpf_style(\n",
    "    marketcolors=mc,\n",
    ")\n",
    "\n",
    "mpf.plot(\n",
    "    data,\n",
    "    type='candle',\n",
    "    volume=False,\n",
    "    figsize=(15, 6),\n",
    "    # title=my_title,\n",
    "    ylabel='Index Level',\n",
    "    xlabel='Time',\n",
    "    style=s,\n",
    "    addplot=add_plot\n",
    ")"
   ]
  },
  {
   "cell_type": "code",
   "execution_count": 379,
   "id": "fa47dffb-de1c-4f8b-904b-0955a3b69970",
   "metadata": {
    "tags": []
   },
   "outputs": [
    {
     "data": {
      "text/html": [
       "<div>\n",
       "<style scoped>\n",
       "    .dataframe tbody tr th:only-of-type {\n",
       "        vertical-align: middle;\n",
       "    }\n",
       "\n",
       "    .dataframe tbody tr th {\n",
       "        vertical-align: top;\n",
       "    }\n",
       "\n",
       "    .dataframe thead th {\n",
       "        text-align: right;\n",
       "    }\n",
       "</style>\n",
       "<table border=\"1\" class=\"dataframe\">\n",
       "  <thead>\n",
       "    <tr style=\"text-align: right;\">\n",
       "      <th></th>\n",
       "      <th>y_true</th>\n",
       "      <th>ind_up</th>\n",
       "      <th>ind_pred</th>\n",
       "    </tr>\n",
       "    <tr>\n",
       "      <th>date</th>\n",
       "      <th></th>\n",
       "      <th></th>\n",
       "      <th></th>\n",
       "    </tr>\n",
       "  </thead>\n",
       "  <tbody>\n",
       "    <tr>\n",
       "      <th>2024-10-30 15:00:00</th>\n",
       "      <td>1</td>\n",
       "      <td>1.08043</td>\n",
       "      <td>1</td>\n",
       "    </tr>\n",
       "    <tr>\n",
       "      <th>2024-10-30 17:00:00</th>\n",
       "      <td>1</td>\n",
       "      <td>1.08388</td>\n",
       "      <td>1</td>\n",
       "    </tr>\n",
       "    <tr>\n",
       "      <th>2024-10-30 18:00:00</th>\n",
       "      <td>0</td>\n",
       "      <td>1.08386</td>\n",
       "      <td>1</td>\n",
       "    </tr>\n",
       "    <tr>\n",
       "      <th>2024-10-30 19:00:00</th>\n",
       "      <td>0</td>\n",
       "      <td>1.08539</td>\n",
       "      <td>1</td>\n",
       "    </tr>\n",
       "    <tr>\n",
       "      <th>2024-10-30 22:00:00</th>\n",
       "      <td>0</td>\n",
       "      <td>1.08534</td>\n",
       "      <td>1</td>\n",
       "    </tr>\n",
       "    <tr>\n",
       "      <th>2024-10-31 00:00:00</th>\n",
       "      <td>0</td>\n",
       "      <td>1.08515</td>\n",
       "      <td>1</td>\n",
       "    </tr>\n",
       "    <tr>\n",
       "      <th>2024-10-31 01:00:00</th>\n",
       "      <td>0</td>\n",
       "      <td>1.08515</td>\n",
       "      <td>1</td>\n",
       "    </tr>\n",
       "    <tr>\n",
       "      <th>2024-10-31 02:00:00</th>\n",
       "      <td>0</td>\n",
       "      <td>1.08548</td>\n",
       "      <td>1</td>\n",
       "    </tr>\n",
       "    <tr>\n",
       "      <th>2024-10-31 03:00:00</th>\n",
       "      <td>0</td>\n",
       "      <td>1.08500</td>\n",
       "      <td>1</td>\n",
       "    </tr>\n",
       "    <tr>\n",
       "      <th>2024-10-31 04:00:00</th>\n",
       "      <td>1</td>\n",
       "      <td>1.08413</td>\n",
       "      <td>1</td>\n",
       "    </tr>\n",
       "    <tr>\n",
       "      <th>2024-10-31 05:00:00</th>\n",
       "      <td>1</td>\n",
       "      <td>1.08414</td>\n",
       "      <td>1</td>\n",
       "    </tr>\n",
       "    <tr>\n",
       "      <th>2024-10-31 11:00:00</th>\n",
       "      <td>1</td>\n",
       "      <td>1.08480</td>\n",
       "      <td>1</td>\n",
       "    </tr>\n",
       "    <tr>\n",
       "      <th>2024-10-31 15:00:00</th>\n",
       "      <td>0</td>\n",
       "      <td>1.08610</td>\n",
       "      <td>1</td>\n",
       "    </tr>\n",
       "    <tr>\n",
       "      <th>2024-10-31 16:00:00</th>\n",
       "      <td>1</td>\n",
       "      <td>1.08529</td>\n",
       "      <td>1</td>\n",
       "    </tr>\n",
       "    <tr>\n",
       "      <th>2024-10-31 17:00:00</th>\n",
       "      <td>1</td>\n",
       "      <td>1.08487</td>\n",
       "      <td>1</td>\n",
       "    </tr>\n",
       "  </tbody>\n",
       "</table>\n",
       "</div>"
      ],
      "text/plain": [
       "                     y_true   ind_up  ind_pred\n",
       "date                                          \n",
       "2024-10-30 15:00:00       1  1.08043         1\n",
       "2024-10-30 17:00:00       1  1.08388         1\n",
       "2024-10-30 18:00:00       0  1.08386         1\n",
       "2024-10-30 19:00:00       0  1.08539         1\n",
       "2024-10-30 22:00:00       0  1.08534         1\n",
       "2024-10-31 00:00:00       0  1.08515         1\n",
       "2024-10-31 01:00:00       0  1.08515         1\n",
       "2024-10-31 02:00:00       0  1.08548         1\n",
       "2024-10-31 03:00:00       0  1.08500         1\n",
       "2024-10-31 04:00:00       1  1.08413         1\n",
       "2024-10-31 05:00:00       1  1.08414         1\n",
       "2024-10-31 11:00:00       1  1.08480         1\n",
       "2024-10-31 15:00:00       0  1.08610         1\n",
       "2024-10-31 16:00:00       1  1.08529         1\n",
       "2024-10-31 17:00:00       1  1.08487         1"
      ]
     },
     "execution_count": 379,
     "metadata": {},
     "output_type": "execute_result"
    }
   ],
   "source": [
    "res.tail(15)"
   ]
  },
  {
   "cell_type": "code",
   "execution_count": null,
   "id": "be52ecb4-d02b-40b2-9936-b0ee98698cff",
   "metadata": {},
   "outputs": [],
   "source": []
  }
 ],
 "metadata": {
  "kernelspec": {
   "display_name": "Python 3 (ipykernel)",
   "language": "python",
   "name": "python3"
  },
  "language_info": {
   "codemirror_mode": {
    "name": "ipython",
    "version": 3
   },
   "file_extension": ".py",
   "mimetype": "text/x-python",
   "name": "python",
   "nbconvert_exporter": "python",
   "pygments_lexer": "ipython3",
   "version": "3.11.7"
  },
  "toc-showmarkdowntxt": false,
  "widgets": {
   "application/vnd.jupyter.widget-state+json": {
    "state": {},
    "version_major": 2,
    "version_minor": 0
   }
  }
 },
 "nbformat": 4,
 "nbformat_minor": 5
}
